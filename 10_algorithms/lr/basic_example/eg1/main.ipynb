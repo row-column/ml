{
 "cells": [
  {
   "cell_type": "code",
   "execution_count": 21,
   "metadata": {
    "collapsed": true
   },
   "outputs": [],
   "source": [
    "import matplotlib.pyplot as plt\n",
    "import numpy as np\n",
    "import os"
   ]
  },
  {
   "cell_type": "markdown",
   "metadata": {
    "collapsed": true
   },
   "source": [
    "## 1.数据准备"
   ]
  },
  {
   "cell_type": "code",
   "execution_count": 1,
   "metadata": {},
   "outputs": [
    {
     "name": "stdout",
     "output_type": "stream",
     "text": [
      "-0.017612\t14.053064\t0\r\n",
      "-1.395634\t4.662541\t1\r\n",
      "-0.752157\t6.538620\t0\r\n",
      "-1.322371\t7.152853\t0\r\n",
      "0.423363\t11.054677\t0\r\n",
      "0.406704\t7.067335\t1\r\n",
      "0.667394\t12.741452\t0\r\n",
      "-2.460150\t6.866805\t1\r\n",
      "0.569411\t9.548755\t0\r\n",
      "-0.026632\t10.427743\t0\r\n",
      "0.850433\t6.920334\t1\r\n",
      "1.347183\t13.175500\t0\r\n",
      "1.176813\t3.167020\t1\r\n",
      "-1.781871\t9.097953\t0\r\n",
      "-0.566606\t5.749003\t1\r\n",
      "0.931635\t1.589505\t1\r\n",
      "-0.024205\t6.151823\t1\r\n",
      "-0.036453\t2.690988\t1\r\n",
      "-0.196949\t0.444165\t1\r\n",
      "1.014459\t5.754399\t1\r\n",
      "1.985298\t3.230619\t1\r\n",
      "-1.693453\t-0.557540\t1\r\n",
      "-0.576525\t11.778922\t0\r\n",
      "-0.346811\t-1.678730\t1\r\n",
      "-2.124484\t2.672471\t1\r\n",
      "1.217916\t9.597015\t0\r\n",
      "-0.733928\t9.098687\t0\r\n",
      "-3.642001\t-1.618087\t1\r\n",
      "0.315985\t3.523953\t1\r\n",
      "1.416614\t9.619232\t0\r\n",
      "-0.386323\t3.989286\t1\r\n",
      "0.556921\t8.294984\t1\r\n",
      "1.224863\t11.587360\t0\r\n",
      "-1.347803\t-2.406051\t1\r\n",
      "1.196604\t4.951851\t1\r\n",
      "0.275221\t9.543647\t0\r\n",
      "0.470575\t9.332488\t0\r\n",
      "-1.889567\t9.542662\t0\r\n",
      "-1.527893\t12.150579\t0\r\n",
      "-1.185247\t11.309318\t0\r\n",
      "-0.445678\t3.297303\t1\r\n",
      "1.042222\t6.105155\t1\r\n",
      "-0.618787\t10.320986\t0\r\n",
      "1.152083\t0.548467\t1\r\n",
      "0.828534\t2.676045\t1\r\n",
      "-1.237728\t10.549033\t0\r\n",
      "-0.683565\t-2.166125\t1\r\n",
      "0.229456\t5.921938\t1\r\n",
      "-0.959885\t11.555336\t0\r\n",
      "0.492911\t10.993324\t0\r\n",
      "0.184992\t8.721488\t0\r\n",
      "-0.355715\t10.325976\t0\r\n",
      "-0.397822\t8.058397\t0\r\n",
      "0.824839\t13.730343\t0\r\n",
      "1.507278\t5.027866\t1\r\n",
      "0.099671\t6.835839\t1\r\n",
      "-0.344008\t10.717485\t0\r\n",
      "1.785928\t7.718645\t1\r\n",
      "-0.918801\t11.560217\t0\r\n",
      "-0.364009\t4.747300\t1\r\n",
      "-0.841722\t4.119083\t1\r\n",
      "0.490426\t1.960539\t1\r\n",
      "-0.007194\t9.075792\t0\r\n",
      "0.356107\t12.447863\t0\r\n",
      "0.342578\t12.281162\t0\r\n",
      "-0.810823\t-1.466018\t1\r\n",
      "2.530777\t6.476801\t1\r\n",
      "1.296683\t11.607559\t0\r\n",
      "0.475487\t12.040035\t0\r\n",
      "-0.783277\t11.009725\t0\r\n",
      "0.074798\t11.023650\t0\r\n",
      "-1.337472\t0.468339\t1\r\n",
      "-0.102781\t13.763651\t0\r\n",
      "-0.147324\t2.874846\t1\r\n",
      "0.518389\t9.887035\t0\r\n",
      "1.015399\t7.571882\t0\r\n",
      "-1.658086\t-0.027255\t1\r\n",
      "1.319944\t2.171228\t1\r\n",
      "2.056216\t5.019981\t1\r\n",
      "-0.851633\t4.375691\t1\r\n",
      "-1.510047\t6.061992\t0\r\n",
      "-1.076637\t-3.181888\t1\r\n",
      "1.821096\t10.283990\t0\r\n",
      "3.010150\t8.401766\t1\r\n",
      "-1.099458\t1.688274\t1\r\n",
      "-0.834872\t-1.733869\t1\r\n",
      "-0.846637\t3.849075\t1\r\n",
      "1.400102\t12.628781\t0\r\n",
      "1.752842\t5.468166\t1\r\n",
      "0.078557\t0.059736\t1\r\n",
      "0.089392\t-0.715300\t1\r\n",
      "1.825662\t12.693808\t0\r\n",
      "0.197445\t9.744638\t0\r\n",
      "0.126117\t0.922311\t1\r\n",
      "-0.679797\t1.220530\t1\r\n",
      "0.677983\t2.556666\t1\r\n",
      "0.761349\t10.693862\t0\r\n",
      "-2.168791\t0.143632\t1\r\n",
      "1.388610\t9.341997\t0\r\n",
      "0.317029\t14.739025\t0\r\n"
     ]
    }
   ],
   "source": [
    "!cat testSet.txt"
   ]
  },
  {
   "cell_type": "markdown",
   "metadata": {
    "collapsed": true
   },
   "source": [
    "### 加载数据"
   ]
  },
  {
   "cell_type": "code",
   "execution_count": 2,
   "metadata": {
    "collapsed": true
   },
   "outputs": [],
   "source": [
    "dataMat = [] # 数据列表\n",
    "labelMat = [] # 标签列表"
   ]
  },
  {
   "cell_type": "code",
   "execution_count": 18,
   "metadata": {},
   "outputs": [],
   "source": [
    "fr = open('testSet.txt')\n",
    "\n",
    "for line in fr.readlines():\n",
    "    lineArr = line.strip().split()\n",
    "    #print lineArr\n",
    "    dataMat.append([1.0,float(lineArr[0]),float(lineArr[1])])\n",
    "    labelMat.append(int(lineArr[2]))\n",
    "\n",
    "fr.close()"
   ]
  },
  {
   "cell_type": "code",
   "execution_count": 16,
   "metadata": {},
   "outputs": [
    {
     "data": {
      "text/plain": [
       "[[1.0, -0.017612, 14.053064],\n",
       " [1.0, -1.395634, 4.662541],\n",
       " [1.0, -0.752157, 6.53862],\n",
       " [1.0, -1.322371, 7.152853],\n",
       " [1.0, 0.423363, 11.054677],\n",
       " [1.0, 0.406704, 7.067335],\n",
       " [1.0, 0.667394, 12.741452],\n",
       " [1.0, -2.46015, 6.866805],\n",
       " [1.0, 0.569411, 9.548755],\n",
       " [1.0, -0.026632, 10.427743],\n",
       " [1.0, 0.850433, 6.920334],\n",
       " [1.0, 1.347183, 13.1755],\n",
       " [1.0, 1.176813, 3.16702],\n",
       " [1.0, -1.781871, 9.097953],\n",
       " [1.0, -0.566606, 5.749003],\n",
       " [1.0, 0.931635, 1.589505],\n",
       " [1.0, -0.024205, 6.151823],\n",
       " [1.0, -0.036453, 2.690988],\n",
       " [1.0, -0.196949, 0.444165],\n",
       " [1.0, 1.014459, 5.754399],\n",
       " [1.0, 1.985298, 3.230619],\n",
       " [1.0, -1.693453, -0.55754],\n",
       " [1.0, -0.576525, 11.778922],\n",
       " [1.0, -0.346811, -1.67873],\n",
       " [1.0, -2.124484, 2.672471],\n",
       " [1.0, 1.217916, 9.597015],\n",
       " [1.0, -0.733928, 9.098687],\n",
       " [1.0, -3.642001, -1.618087],\n",
       " [1.0, 0.315985, 3.523953],\n",
       " [1.0, 1.416614, 9.619232],\n",
       " [1.0, -0.386323, 3.989286],\n",
       " [1.0, 0.556921, 8.294984],\n",
       " [1.0, 1.224863, 11.58736],\n",
       " [1.0, -1.347803, -2.406051],\n",
       " [1.0, 1.196604, 4.951851],\n",
       " [1.0, 0.275221, 9.543647],\n",
       " [1.0, 0.470575, 9.332488],\n",
       " [1.0, -1.889567, 9.542662],\n",
       " [1.0, -1.527893, 12.150579],\n",
       " [1.0, -1.185247, 11.309318],\n",
       " [1.0, -0.445678, 3.297303],\n",
       " [1.0, 1.042222, 6.105155],\n",
       " [1.0, -0.618787, 10.320986],\n",
       " [1.0, 1.152083, 0.548467],\n",
       " [1.0, 0.828534, 2.676045],\n",
       " [1.0, -1.237728, 10.549033],\n",
       " [1.0, -0.683565, -2.166125],\n",
       " [1.0, 0.229456, 5.921938],\n",
       " [1.0, -0.959885, 11.555336],\n",
       " [1.0, 0.492911, 10.993324],\n",
       " [1.0, 0.184992, 8.721488],\n",
       " [1.0, -0.355715, 10.325976],\n",
       " [1.0, -0.397822, 8.058397],\n",
       " [1.0, 0.824839, 13.730343],\n",
       " [1.0, 1.507278, 5.027866],\n",
       " [1.0, 0.099671, 6.835839],\n",
       " [1.0, -0.344008, 10.717485],\n",
       " [1.0, 1.785928, 7.718645],\n",
       " [1.0, -0.918801, 11.560217],\n",
       " [1.0, -0.364009, 4.7473],\n",
       " [1.0, -0.841722, 4.119083],\n",
       " [1.0, 0.490426, 1.960539],\n",
       " [1.0, -0.007194, 9.075792],\n",
       " [1.0, 0.356107, 12.447863],\n",
       " [1.0, 0.342578, 12.281162],\n",
       " [1.0, -0.810823, -1.466018],\n",
       " [1.0, 2.530777, 6.476801],\n",
       " [1.0, 1.296683, 11.607559],\n",
       " [1.0, 0.475487, 12.040035],\n",
       " [1.0, -0.783277, 11.009725],\n",
       " [1.0, 0.074798, 11.02365],\n",
       " [1.0, -1.337472, 0.468339],\n",
       " [1.0, -0.102781, 13.763651],\n",
       " [1.0, -0.147324, 2.874846],\n",
       " [1.0, 0.518389, 9.887035],\n",
       " [1.0, 1.015399, 7.571882],\n",
       " [1.0, -1.658086, -0.027255],\n",
       " [1.0, 1.319944, 2.171228],\n",
       " [1.0, 2.056216, 5.019981],\n",
       " [1.0, -0.851633, 4.375691],\n",
       " [1.0, -1.510047, 6.061992],\n",
       " [1.0, -1.076637, -3.181888],\n",
       " [1.0, 1.821096, 10.28399],\n",
       " [1.0, 3.01015, 8.401766],\n",
       " [1.0, -1.099458, 1.688274],\n",
       " [1.0, -0.834872, -1.733869],\n",
       " [1.0, -0.846637, 3.849075],\n",
       " [1.0, 1.400102, 12.628781],\n",
       " [1.0, 1.752842, 5.468166],\n",
       " [1.0, 0.078557, 0.059736],\n",
       " [1.0, 0.089392, -0.7153],\n",
       " [1.0, 1.825662, 12.693808],\n",
       " [1.0, 0.197445, 9.744638],\n",
       " [1.0, 0.126117, 0.922311],\n",
       " [1.0, -0.679797, 1.22053],\n",
       " [1.0, 0.677983, 2.556666],\n",
       " [1.0, 0.761349, 10.693862],\n",
       " [1.0, -2.168791, 0.143632],\n",
       " [1.0, 1.38861, 9.341997],\n",
       " [1.0, 0.317029, 14.739025]]"
      ]
     },
     "execution_count": 16,
     "metadata": {},
     "output_type": "execute_result"
    }
   ],
   "source": [
    "dataMat"
   ]
  },
  {
   "cell_type": "code",
   "execution_count": 19,
   "metadata": {},
   "outputs": [
    {
     "data": {
      "text/plain": [
       "[0,\n",
       " 1,\n",
       " 0,\n",
       " 0,\n",
       " 0,\n",
       " 1,\n",
       " 0,\n",
       " 1,\n",
       " 0,\n",
       " 0,\n",
       " 1,\n",
       " 0,\n",
       " 1,\n",
       " 0,\n",
       " 1,\n",
       " 1,\n",
       " 1,\n",
       " 1,\n",
       " 1,\n",
       " 1,\n",
       " 1,\n",
       " 1,\n",
       " 0,\n",
       " 1,\n",
       " 1,\n",
       " 0,\n",
       " 0,\n",
       " 1,\n",
       " 1,\n",
       " 0,\n",
       " 1,\n",
       " 1,\n",
       " 0,\n",
       " 1,\n",
       " 1,\n",
       " 0,\n",
       " 0,\n",
       " 0,\n",
       " 0,\n",
       " 0,\n",
       " 1,\n",
       " 1,\n",
       " 0,\n",
       " 1,\n",
       " 1,\n",
       " 0,\n",
       " 1,\n",
       " 1,\n",
       " 0,\n",
       " 0,\n",
       " 0,\n",
       " 0,\n",
       " 0,\n",
       " 0,\n",
       " 1,\n",
       " 1,\n",
       " 0,\n",
       " 1,\n",
       " 0,\n",
       " 1,\n",
       " 1,\n",
       " 1,\n",
       " 0,\n",
       " 0,\n",
       " 0,\n",
       " 1,\n",
       " 1,\n",
       " 0,\n",
       " 0,\n",
       " 0,\n",
       " 0,\n",
       " 1,\n",
       " 0,\n",
       " 1,\n",
       " 0,\n",
       " 0,\n",
       " 1,\n",
       " 1,\n",
       " 1,\n",
       " 1,\n",
       " 0,\n",
       " 1,\n",
       " 0,\n",
       " 1,\n",
       " 1,\n",
       " 1,\n",
       " 1,\n",
       " 0,\n",
       " 1,\n",
       " 1,\n",
       " 1,\n",
       " 0,\n",
       " 0,\n",
       " 1,\n",
       " 1,\n",
       " 1,\n",
       " 0,\n",
       " 1,\n",
       " 0,\n",
       " 0,\n",
       " 0,\n",
       " 1,\n",
       " 0,\n",
       " 0,\n",
       " 0,\n",
       " 1,\n",
       " 0,\n",
       " 1,\n",
       " 0,\n",
       " 0,\n",
       " 1,\n",
       " 0,\n",
       " 1,\n",
       " 0,\n",
       " 1,\n",
       " 1,\n",
       " 1,\n",
       " 1,\n",
       " 1,\n",
       " 1,\n",
       " 1,\n",
       " 1,\n",
       " 0,\n",
       " 1,\n",
       " 1,\n",
       " 0,\n",
       " 0,\n",
       " 1,\n",
       " 1,\n",
       " 0,\n",
       " 1,\n",
       " 1,\n",
       " 0,\n",
       " 1,\n",
       " 1,\n",
       " 0,\n",
       " 0,\n",
       " 0,\n",
       " 0,\n",
       " 0,\n",
       " 1,\n",
       " 1,\n",
       " 0,\n",
       " 1,\n",
       " 1,\n",
       " 0,\n",
       " 1,\n",
       " 1,\n",
       " 0,\n",
       " 0,\n",
       " 0,\n",
       " 0,\n",
       " 0,\n",
       " 0,\n",
       " 1,\n",
       " 1,\n",
       " 0,\n",
       " 1,\n",
       " 0,\n",
       " 1,\n",
       " 1,\n",
       " 1,\n",
       " 0,\n",
       " 0,\n",
       " 0,\n",
       " 1,\n",
       " 1,\n",
       " 0,\n",
       " 0,\n",
       " 0,\n",
       " 0,\n",
       " 1,\n",
       " 0,\n",
       " 1,\n",
       " 0,\n",
       " 0,\n",
       " 1,\n",
       " 1,\n",
       " 1,\n",
       " 1,\n",
       " 0,\n",
       " 1,\n",
       " 0,\n",
       " 1,\n",
       " 1,\n",
       " 1,\n",
       " 1,\n",
       " 0,\n",
       " 1,\n",
       " 1,\n",
       " 1,\n",
       " 0,\n",
       " 0,\n",
       " 1,\n",
       " 1,\n",
       " 1,\n",
       " 0,\n",
       " 1,\n",
       " 0,\n",
       " 0]"
      ]
     },
     "execution_count": 19,
     "metadata": {},
     "output_type": "execute_result"
    }
   ],
   "source": [
    "labelMat"
   ]
  },
  {
   "cell_type": "markdown",
   "metadata": {},
   "source": [
    "### 绘制数据集"
   ]
  },
  {
   "cell_type": "code",
   "execution_count": 29,
   "metadata": {},
   "outputs": [
    {
     "name": "stderr",
     "output_type": "stream",
     "text": [
      "UsageError: unrecognized arguments: # 在一行展示\n"
     ]
    }
   ],
   "source": [
    "%matplotlib inline # 在一行展示"
   ]
  },
  {
   "cell_type": "code",
   "execution_count": 30,
   "metadata": {},
   "outputs": [
    {
     "data": {
      "image/png": "[encoded data removed]",
      "text/plain": [
       "<matplotlib.figure.Figure at 0x7f8a134a9780>"
      ]
     },
     "metadata": {},
     "output_type": "display_data"
    }
   ],
   "source": [
    "dataArr = np.array(dataMat) # 转换成numpy的array数组\n",
    "n = np.shape(dataMat)[0] #数据个数\n",
    "#n\n",
    "xcord1 = [] # 正样本\n",
    "ycord1 = [] # 正样本\n",
    "xcord2 = [] # 负样本\n",
    "ycord2 = [] # 负样本\n",
    "\n",
    "for i in range(n):\n",
    "    if 1 == int(labelMat[i]): #1为正样本\n",
    "        xcord1.append(dataArr[i,1])\n",
    "        ycord1.append(dataArr[i,2])    \n",
    "    else: #0为正样本\n",
    "        xcord2.append(dataArr[i,1])\n",
    "        ycord2.append(dataArr[i,2])  \n",
    "\n",
    "fig = plt.figure()\n",
    "ax = fig.add_subplot(111)#添加subplot\n",
    "ax.scatter(xcord1,ycord1,s = 20,c = 'red',marker = 's',alpha=.5) #绘制正样本\n",
    "ax.scatter(xcord2,ycord2,s = 20,c = 'green',alpha=.5) #绘制负样本\n",
    "plt.title('DataSet')#绘制title\n",
    "plt.xlabel('x')\n",
    "plt.ylabel('y')#绘制label\n",
    "plt.show()"
   ]
  },
  {
   "cell_type": "markdown",
   "metadata": {},
   "source": [
    "## 2.训练算法"
   ]
  },
  {
   "cell_type": "code",
   "execution_count": 31,
   "metadata": {
    "collapsed": true
   },
   "outputs": [],
   "source": [
    "\"\"\"\n",
    "函数说明:sigmoid函数\n",
    " \n",
    "Parameters:\n",
    "    inX - 数据\n",
    "Returns:\n",
    "    sigmoid函数\n",
    "Author:\n",
    "    stark_summer\n",
    "Modify:\n",
    "    2017-08-28\n",
    "\"\"\"\n",
    "def sigmoid(inX):\n",
    "    return 1.0 / (1 + np.exp(-inX))"
   ]
  },
  {
   "cell_type": "markdown",
   "metadata": {},
   "source": [
    "### 梯度上升算法"
   ]
  },
  {
   "cell_type": "code",
   "execution_count": 40,
   "metadata": {},
   "outputs": [
    {
     "data": {
      "text/plain": [
       "array([[ 5.44202655],\n",
       "       [ 0.58634937],\n",
       "       [-0.78383367]])"
      ]
     },
     "execution_count": 40,
     "metadata": {},
     "output_type": "execute_result"
    }
   ],
   "source": [
    "dataMatrix = np.mat(dataMat) #转换成numpy的mat\n",
    "labelMat = np.mat(labelMat).transpose()  #转换成numpy的mat,并进行转置\n",
    "m,n = np.shape(dataMatrix)  #返回dataMatrix的大小。m为行数,n为列数。\n",
    "alpha = 0.001 #移动步长,也就是学习速率,控制更新的幅度。\n",
    "maxCycles = 500 #最大迭代次数\n",
    "weights = np.ones((n,1)) \n",
    "\n",
    "for k in range(maxCycles):\n",
    "    h = sigmoid(dataMatrix * weights) #梯度上升矢量化公式\n",
    "    error = labelMat - h\n",
    "    weights = weights +alpha * dataMatrix.transpose() * error\n",
    "\n",
    "weightsArr = weights.getA()  #将矩阵转换为数组，返回权重数组\n",
    "weightsArr"
   ]
  },
  {
   "cell_type": "code",
   "execution_count": 37,
   "metadata": {},
   "outputs": [
    {
     "data": {
      "text/plain": [
       "(200, 3)"
      ]
     },
     "execution_count": 37,
     "metadata": {},
     "output_type": "execute_result"
    }
   ],
   "source": [
    "dataMatrix.shape"
   ]
  },
  {
   "cell_type": "markdown",
   "metadata": {},
   "source": [
    "## 3.绘制决策边界"
   ]
  },
  {
   "cell_type": "code",
   "execution_count": 43,
   "metadata": {},
   "outputs": [
    {
     "data": {
      "image/png": "[encoded data removed]",
      "text/plain": [
       "<matplotlib.figure.Figure at 0x7f8a137bb550>"
      ]
     },
     "metadata": {},
     "output_type": "display_data"
    }
   ],
   "source": [
    "dataArr = np.array(dataMat) # 转换成numpy的array数组\n",
    "n = np.shape(dataMat)[0] #数据个数\n",
    "xcord1 = [] # 正样本\n",
    "ycord1 = [] # 正样本\n",
    "xcord2 = [] # 负样本\n",
    "ycord2 = [] # 负样本\n",
    "\n",
    "for i in range(n):\n",
    "    if 1 == int(labelMat[i]): #1为正样本\n",
    "        xcord1.append(dataArr[i,1])\n",
    "        ycord1.append(dataArr[i,2])    \n",
    "    else: #0为正样本\n",
    "        xcord2.append(dataArr[i,1])\n",
    "        ycord2.append(dataArr[i,2])  \n",
    "\n",
    "fig = plt.figure()\n",
    "ax = fig.add_subplot(111)                                            #添加subplot\n",
    "ax.scatter(xcord1, ycord1, s = 20, c = 'red', marker = 's',alpha=.5)#绘制正样本\n",
    "ax.scatter(xcord2, ycord2, s = 20, c = 'green',alpha=.5)            #绘制负样本\n",
    "x = np.arange(-3.0,3.0,0.1)\n",
    "y = (-weightsArr[0]-weightsArr[1] * x) / weightsArr[2]\n",
    "\n",
    "ax.plot(x, y)\n",
    "plt.title('BestFit')#绘制title\n",
    "plt.xlabel('X1'); plt.ylabel('X2')#绘制label\n",
    "plt.show()     \n"
   ]
  },
  {
   "cell_type": "code",
   "execution_count": null,
   "metadata": {
    "collapsed": true
   },
   "outputs": [],
   "source": []
  }
 ],
 "metadata": {
  "anaconda-cloud": {},
  "kernelspec": {
   "display_name": "Python 3",
   "language": "python",
   "name": "python3"
  },
  "language_info": {
   "codemirror_mode": {
    "name": "ipython",
    "version": 3
   },
   "file_extension": ".py",
   "mimetype": "text/x-python",
   "name": "python",
   "nbconvert_exporter": "python",
   "pygments_lexer": "ipython3",
   "version": "3.6.2"
  }
 },
 "nbformat": 4,
 "nbformat_minor": 1
}
