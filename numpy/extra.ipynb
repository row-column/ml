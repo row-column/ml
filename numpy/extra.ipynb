{
 "cells": [
  {
   "cell_type": "code",
   "execution_count": 27,
   "metadata": {
    "collapsed": true
   },
   "outputs": [],
   "source": [
    "import numpy as np\n",
    "import numpy.random as np_random\n",
    "import matplotlib.pyplot as plt\n",
    "from random import normalvariate\n",
    "from numpy.linalg import inv, qr"
   ]
  },
  {
   "cell_type": "markdown",
   "metadata": {},
   "source": [
    "# 求平方根"
   ]
  },
  {
   "cell_type": "code",
   "execution_count": 2,
   "metadata": {},
   "outputs": [
    {
     "data": {
      "text/plain": [
       "array([ 0.        ,  1.        ,  1.41421356,  1.73205081,  2.        ,\n",
       "        2.23606798,  2.44948974,  2.64575131,  2.82842712,  3.        ])"
      ]
     },
     "execution_count": 2,
     "metadata": {},
     "output_type": "execute_result"
    }
   ],
   "source": [
    "arr = np.arange(10)\n",
    "np.sqrt(arr)"
   ]
  },
  {
   "cell_type": "markdown",
   "metadata": {},
   "source": [
    "# 数组比较"
   ]
  },
  {
   "cell_type": "code",
   "execution_count": 3,
   "metadata": {
    "collapsed": true
   },
   "outputs": [],
   "source": [
    "x = np_random.randn(8)\n",
    "y = np_random.randn(8)"
   ]
  },
  {
   "cell_type": "code",
   "execution_count": 4,
   "metadata": {},
   "outputs": [
    {
     "data": {
      "text/plain": [
       "array([ 1.26848078, -0.26265048,  0.22148847, -1.52899259, -0.72963507,\n",
       "       -1.22414802,  0.17221746, -0.76357779])"
      ]
     },
     "execution_count": 4,
     "metadata": {},
     "output_type": "execute_result"
    }
   ],
   "source": [
    "x"
   ]
  },
  {
   "cell_type": "code",
   "execution_count": 5,
   "metadata": {},
   "outputs": [
    {
     "data": {
      "text/plain": [
       "array([  8.01143458e-02,  -1.53049721e+00,   1.35998329e-03,\n",
       "        -7.61046565e-01,   1.76061394e-01,   7.06399077e-01,\n",
       "         2.67564972e-01,  -5.09696121e-01])"
      ]
     },
     "execution_count": 5,
     "metadata": {},
     "output_type": "execute_result"
    }
   ],
   "source": [
    "y"
   ]
  },
  {
   "cell_type": "code",
   "execution_count": 6,
   "metadata": {},
   "outputs": [
    {
     "data": {
      "text/plain": [
       "array([ 1.26848078, -0.26265048,  0.22148847, -0.76104657,  0.17606139,\n",
       "        0.70639908,  0.26756497, -0.50969612])"
      ]
     },
     "execution_count": 6,
     "metadata": {},
     "output_type": "execute_result"
    }
   ],
   "source": [
    "np.maximum(x, y)"
   ]
  },
  {
   "cell_type": "markdown",
   "metadata": {},
   "source": [
    "# 使用modf函数把浮点数分解成整数和小数部分"
   ]
  },
  {
   "cell_type": "code",
   "execution_count": 8,
   "metadata": {},
   "outputs": [
    {
     "data": {
      "text/plain": [
       "array([-1.15413142,  0.16642818, -5.10642302, -3.12323105, -2.37782227,\n",
       "       -3.84444088,  0.84072299])"
      ]
     },
     "execution_count": 8,
     "metadata": {},
     "output_type": "execute_result"
    }
   ],
   "source": [
    "arr = np_random.randn(7) * 5  # 统一乘5\n",
    "arr"
   ]
  },
  {
   "cell_type": "code",
   "execution_count": 9,
   "metadata": {},
   "outputs": [
    {
     "data": {
      "text/plain": [
       "(array([-0.15413142,  0.16642818, -0.10642302, -0.12323105, -0.37782227,\n",
       "        -0.84444088,  0.84072299]), array([-1.,  0., -5., -3., -2., -3.,  0.]))"
      ]
     },
     "execution_count": 9,
     "metadata": {},
     "output_type": "execute_result"
    }
   ],
   "source": [
    "np.modf(arr)"
   ]
  },
  {
   "cell_type": "markdown",
   "metadata": {},
   "source": [
    "# 模拟随机游走"
   ]
  },
  {
   "cell_type": "code",
   "execution_count": 19,
   "metadata": {
    "collapsed": true
   },
   "outputs": [],
   "source": [
    "nsteps = 1000\n",
    "draws = np.random.randint(0, 2, size=nsteps)\n",
    "steps = np.where(draws > 0, 1, -1)\n",
    "walk = steps.cumsum()"
   ]
  },
  {
   "cell_type": "code",
   "execution_count": 13,
   "metadata": {},
   "outputs": [
    {
     "data": {
      "text/plain": [
       "(1000,)"
      ]
     },
     "execution_count": 13,
     "metadata": {},
     "output_type": "execute_result"
    }
   ],
   "source": [
    "draws.shape"
   ]
  },
  {
   "cell_type": "code",
   "execution_count": 20,
   "metadata": {},
   "outputs": [
    {
     "data": {
      "text/plain": [
       "array([  1,   2,   3,   4,   3,   4,   3,   4,   5,   4,   3,   4,   5,\n",
       "         4,   5,   4,   5,   4,   3,   2,   3,   4,   3,   2,   1,   2,\n",
       "         3,   2,   1,   0,  -1,   0,  -1,   0,   1,   2,   1,   2,   1,\n",
       "         2,   3,   2,   1,   0,  -1,   0,   1,   2,   1,   0,  -1,  -2,\n",
       "        -3,  -2,  -1,  -2,  -3,  -2,  -1,  -2,  -3,  -2,  -3,  -4,  -5,\n",
       "        -4,  -3,  -4,  -3,  -4,  -5,  -6,  -5,  -6,  -5,  -6,  -7,  -8,\n",
       "        -7,  -8,  -7,  -8,  -7,  -6,  -7,  -6,  -7,  -6,  -5,  -4,  -3,\n",
       "        -2,  -3,  -4,  -3,  -4,  -5,  -6,  -5,  -6,  -5,  -6,  -5,  -6,\n",
       "        -5,  -4,  -3,  -4,  -5,  -4,  -5,  -4,  -5,  -6,  -7,  -6,  -7,\n",
       "        -8,  -7,  -8,  -7,  -8,  -9,  -8,  -9,  -8,  -9, -10, -11, -12,\n",
       "       -11, -12, -13, -14, -13, -12, -11, -12, -13, -14, -13, -12, -11,\n",
       "       -12, -13, -12, -13, -14, -15, -16, -15, -14, -15, -16, -15, -14,\n",
       "       -13, -12, -13, -12, -13, -12, -11, -10, -11, -12, -13, -12, -11,\n",
       "       -12, -11, -10, -11, -10,  -9, -10, -11, -12, -11, -10, -11, -12,\n",
       "       -13, -12, -13, -12, -13, -12, -11, -12, -13, -14, -13, -12, -11,\n",
       "       -10,  -9,  -8,  -9,  -8,  -7,  -8,  -9,  -8,  -9,  -8,  -9, -10,\n",
       "       -11, -10, -11, -12, -13, -12, -13, -12, -13, -14, -15, -16, -17,\n",
       "       -16, -17, -16, -15, -14, -15, -14, -13, -14, -15, -14, -13, -12,\n",
       "       -13, -12, -11, -10,  -9,  -8,  -9, -10,  -9,  -8,  -7,  -8,  -7,\n",
       "        -6,  -7,  -6,  -5,  -6,  -7,  -6,  -7,  -6,  -7,  -6,  -5,  -4,\n",
       "        -3,  -4,  -3,  -2,  -3,  -2,  -1,  -2,  -3,  -2,  -3,  -2,  -3,\n",
       "        -4,  -3,  -4,  -5,  -6,  -7,  -6,  -5,  -6,  -5,  -6,  -7,  -8,\n",
       "        -7,  -8,  -9, -10, -11, -10,  -9, -10,  -9,  -8,  -9,  -8,  -9,\n",
       "        -8,  -7,  -8,  -7,  -6,  -7,  -6,  -5,  -4,  -5,  -4,  -3,  -2,\n",
       "        -1,  -2,  -3,  -4,  -5,  -4,  -5,  -4,  -5,  -6,  -7,  -6,  -7,\n",
       "        -6,  -7,  -6,  -7,  -6,  -7,  -6,  -5,  -6,  -7,  -8,  -9,  -8,\n",
       "        -7,  -8,  -9,  -8,  -7,  -6,  -7,  -8,  -9,  -8,  -9,  -8,  -7,\n",
       "        -8,  -9, -10, -11, -10,  -9,  -8,  -7,  -8,  -7,  -6,  -7,  -8,\n",
       "        -9, -10,  -9, -10,  -9, -10,  -9, -10, -11, -10,  -9,  -8,  -9,\n",
       "       -10, -11, -12, -11, -10, -11, -12, -13, -12, -11, -12, -11, -12,\n",
       "       -13, -12, -11, -10,  -9,  -8,  -9,  -8,  -9,  -8,  -7,  -6,  -7,\n",
       "        -8,  -9, -10, -11, -12, -13, -14, -13, -12, -11, -12, -13, -14,\n",
       "       -13, -12, -11, -10, -11, -10,  -9, -10, -11, -10,  -9, -10,  -9,\n",
       "       -10, -11, -12, -13, -14, -15, -14, -13, -12, -11, -12, -13, -14,\n",
       "       -13, -14, -15, -16, -15, -14, -15, -14, -15, -16, -15, -14, -13,\n",
       "       -12, -13, -14, -15, -14, -13, -12, -13, -14, -13, -12, -13, -12,\n",
       "       -13, -14, -15, -14, -13, -14, -15, -14, -13, -12, -13, -14, -13,\n",
       "       -14, -15, -14, -15, -14, -15, -16, -15, -16, -15, -16, -17, -18,\n",
       "       -19, -18, -19, -18, -17, -16, -17, -16, -15, -16, -15, -14, -15,\n",
       "       -16, -17, -16, -15, -14, -15, -14, -15, -16, -15, -16, -15, -14,\n",
       "       -15, -14, -15, -14, -13, -12, -13, -14, -13, -12, -11, -10, -11,\n",
       "       -12, -13, -14, -13, -14, -13, -14, -15, -14, -13, -14, -13, -14,\n",
       "       -13, -12, -13, -14, -13, -14, -13, -12, -11, -10, -11, -10,  -9,\n",
       "       -10,  -9, -10,  -9, -10, -11, -12, -13, -12, -13, -14, -15, -16,\n",
       "       -15, -14, -13, -12, -11, -10,  -9,  -8,  -9, -10, -11, -12, -11,\n",
       "       -10,  -9,  -8,  -7,  -8,  -9, -10,  -9, -10,  -9,  -8,  -7,  -6,\n",
       "        -5,  -6,  -7,  -8,  -7,  -6,  -5,  -6,  -7,  -8,  -7,  -6,  -5,\n",
       "        -6,  -7,  -8,  -9, -10, -11, -12, -11, -10, -11, -12, -11, -12,\n",
       "       -13, -14, -15, -16, -17, -18, -17, -18, -17, -18, -17, -18, -17,\n",
       "       -18, -19, -20, -19, -18, -19, -20, -19, -20, -21, -20, -21, -20,\n",
       "       -21, -22, -21, -22, -23, -24, -23, -24, -25, -24, -25, -24, -23,\n",
       "       -22, -21, -22, -21, -22, -21, -22, -21, -20, -19, -20, -19, -18,\n",
       "       -17, -18, -17, -16, -17, -18, -17, -18, -17, -16, -17, -18, -19,\n",
       "       -20, -21, -22, -23, -22, -21, -20, -21, -22, -23, -22, -23, -24,\n",
       "       -25, -24, -23, -24, -25, -24, -23, -22, -21, -22, -21, -20, -21,\n",
       "       -20, -19, -20, -21, -20, -19, -20, -21, -20, -19, -20, -21, -20,\n",
       "       -21, -20, -19, -18, -17, -18, -17, -16, -17, -16, -17, -16, -17,\n",
       "       -18, -19, -20, -19, -20, -19, -20, -19, -18, -17, -16, -17, -18,\n",
       "       -19, -20, -19, -18, -17, -16, -17, -16, -17, -18, -17, -18, -19,\n",
       "       -18, -17, -18, -17, -16, -17, -16, -15, -16, -17, -16, -15, -16,\n",
       "       -17, -16, -17, -16, -15, -16, -17, -16, -15, -16, -15, -16, -17,\n",
       "       -18, -17, -16, -17, -16, -17, -16, -15, -16, -15, -16, -17, -16,\n",
       "       -15, -14, -13, -14, -13, -14, -13, -14, -15, -16, -15, -16, -15,\n",
       "       -14, -13, -14, -15, -16, -17, -16, -15, -16, -17, -18, -19, -20,\n",
       "       -19, -20, -19, -20, -19, -18, -17, -16, -15, -16, -17, -16, -15,\n",
       "       -16, -17, -18, -17, -16, -15, -16, -17, -18, -19, -20, -19, -18,\n",
       "       -17, -18, -19, -20, -19, -18, -17, -18, -17, -18, -19, -20, -19,\n",
       "       -18, -17, -16, -15, -14, -13, -12, -13, -14, -15, -14, -13, -12,\n",
       "       -11, -12, -13, -12, -11, -10, -11, -10,  -9, -10, -11, -10,  -9,\n",
       "       -10, -11, -10,  -9, -10, -11, -10,  -9,  -8,  -9, -10,  -9, -10,\n",
       "        -9,  -8,  -7,  -6,  -7,  -6,  -5,  -4,  -5,  -6,  -7,  -8,  -9,\n",
       "        -8,  -9, -10, -11, -10,  -9,  -8,  -9, -10, -11, -12, -13, -14,\n",
       "       -15, -14, -15, -14, -13, -12, -13, -14, -15, -14, -13, -12, -13,\n",
       "       -12, -11, -10, -11, -12, -13, -14, -15, -14, -13, -14, -15, -14,\n",
       "       -15, -14, -15, -16, -17, -16, -15, -16, -15, -16, -15, -16, -17,\n",
       "       -18, -17, -16, -17, -16, -15, -14, -13, -12, -13, -14, -15, -14,\n",
       "       -15, -16, -17, -18, -17, -16, -15, -16, -17, -18, -17, -18])"
      ]
     },
     "execution_count": 20,
     "metadata": {},
     "output_type": "execute_result"
    }
   ],
   "source": [
    "walk"
   ]
  },
  {
   "cell_type": "code",
   "execution_count": 15,
   "metadata": {},
   "outputs": [
    {
     "data": {
      "image/png": "[encoded data removed]",
      "text/plain": [
       "<matplotlib.figure.Figure at 0x7f673c853978>"
      ]
     },
     "metadata": {},
     "output_type": "display_data"
    }
   ],
   "source": [
    "# 画图\n",
    "plt.title('Random Walk')\n",
    "limit = max(abs(min(walk)), abs(max(walk)))\n",
    "plt.axis([0, 1000, -limit, limit])\n",
    "x = np.linspace(0, 1000, 1000)\n",
    "plt.plot(x, walk, 'g-')\n",
    "plt.show()"
   ]
  },
  {
   "cell_type": "markdown",
   "metadata": {},
   "source": [
    "# 正态分布随机数"
   ]
  },
  {
   "cell_type": "code",
   "execution_count": 23,
   "metadata": {},
   "outputs": [
    {
     "data": {
      "text/plain": [
       "array([[ 0.68540171, -0.03638619, -0.329126  ,  1.13822067],\n",
       "       [-1.10264217, -1.58715182, -1.64072929, -0.16500497],\n",
       "       [ 0.20242359, -0.22077198, -0.09336703,  0.48746909],\n",
       "       [-1.33998988,  1.44529104,  0.22799822, -0.85376949]])"
      ]
     },
     "execution_count": 23,
     "metadata": {},
     "output_type": "execute_result"
    }
   ],
   "source": [
    "samples = np.random.normal(size=(4, 4))\n",
    "samples"
   ]
  },
  {
   "cell_type": "markdown",
   "metadata": {},
   "source": [
    "# 批量按正态分布生成0到1的随机数"
   ]
  },
  {
   "cell_type": "code",
   "execution_count": 26,
   "metadata": {},
   "outputs": [
    {
     "ename": "ModuleNotFoundError",
     "evalue": "No module named 'xrange'",
     "output_type": "error",
     "traceback": [
      "\u001b[0;31m---------------------------------------------------------------------------\u001b[0m",
      "\u001b[0;31mModuleNotFoundError\u001b[0m                       Traceback (most recent call last)",
      "\u001b[0;32m<ipython-input-26-088d4bcf5c21>\u001b[0m in \u001b[0;36m<module>\u001b[0;34m()\u001b[0m\n\u001b[1;32m      1\u001b[0m \u001b[0mN\u001b[0m \u001b[0;34m=\u001b[0m \u001b[0;36m10\u001b[0m\u001b[0;34m\u001b[0m\u001b[0m\n\u001b[0;32m----> 2\u001b[0;31m \u001b[0;32mimport\u001b[0m \u001b[0mxrange\u001b[0m\u001b[0;34m\u001b[0m\u001b[0m\n\u001b[0m\u001b[1;32m      3\u001b[0m \u001b[0;34m[\u001b[0m\u001b[0mnormalvariate\u001b[0m\u001b[0;34m(\u001b[0m\u001b[0;36m0\u001b[0m\u001b[0;34m,\u001b[0m \u001b[0;36m1\u001b[0m\u001b[0;34m)\u001b[0m \u001b[0;32mfor\u001b[0m \u001b[0m_\u001b[0m \u001b[0;32min\u001b[0m \u001b[0mxrange\u001b[0m\u001b[0;34m(\u001b[0m\u001b[0mN\u001b[0m\u001b[0;34m)\u001b[0m\u001b[0;34m]\u001b[0m\u001b[0;34m\u001b[0m\u001b[0m\n",
      "\u001b[0;31mModuleNotFoundError\u001b[0m: No module named 'xrange'"
     ]
    }
   ],
   "source": [
    "N = 10\n",
    "import xrange\n",
    "[normalvariate(0, 1) for _ in xrange(N)]"
   ]
  },
  {
   "cell_type": "code",
   "execution_count": 25,
   "metadata": {},
   "outputs": [
    {
     "data": {
      "text/plain": [
       "array([-0.76315731,  2.67076277,  0.97044955,  1.00814483, -0.38773748,\n",
       "       -0.82430582, -0.18841769, -0.11148209, -0.14351865,  1.6870249 ])"
      ]
     },
     "execution_count": 25,
     "metadata": {},
     "output_type": "execute_result"
    }
   ],
   "source": [
    "np.random.normal(size = N)"
   ]
  },
  {
   "cell_type": "markdown",
   "metadata": {},
   "source": [
    "# 矩阵乘法"
   ]
  },
  {
   "cell_type": "code",
   "execution_count": 28,
   "metadata": {
    "collapsed": true
   },
   "outputs": [],
   "source": [
    "x = np.array([[1., 2., 3.], [4., 5., 6.]])\n",
    "y = np.array([[6., 23.], [-1, 7], [8, 9]])"
   ]
  },
  {
   "cell_type": "code",
   "execution_count": 29,
   "metadata": {},
   "outputs": [
    {
     "data": {
      "text/plain": [
       "array([[  28.,   64.],\n",
       "       [  67.,  181.]])"
      ]
     },
     "execution_count": 29,
     "metadata": {},
     "output_type": "execute_result"
    }
   ],
   "source": [
    "x.dot(y)"
   ]
  },
  {
   "cell_type": "code",
   "execution_count": 30,
   "metadata": {},
   "outputs": [
    {
     "data": {
      "text/plain": [
       "array([  6.,  15.])"
      ]
     },
     "execution_count": 30,
     "metadata": {},
     "output_type": "execute_result"
    }
   ],
   "source": [
    "np.dot(x, np.ones(3))"
   ]
  },
  {
   "cell_type": "code",
   "execution_count": 31,
   "metadata": {
    "collapsed": true
   },
   "outputs": [],
   "source": [
    "x = np_random.randn(5, 5)"
   ]
  },
  {
   "cell_type": "code",
   "execution_count": 32,
   "metadata": {},
   "outputs": [
    {
     "data": {
      "text/plain": [
       "array([[ 0.71294593, -1.11211079, -1.30740613,  0.18204202, -0.42827037],\n",
       "       [-0.12608638, -0.61524155, -0.45332832, -1.13752228,  1.91192128],\n",
       "       [ 0.31465434,  0.56581112, -0.13159504, -0.99979004,  0.22359368],\n",
       "       [ 1.01458427, -0.45028658,  0.22061568, -0.19102402,  0.18588143],\n",
       "       [-0.67207109,  0.25706819, -0.6134856 , -1.33312989,  0.12880397]])"
      ]
     },
     "execution_count": 32,
     "metadata": {},
     "output_type": "execute_result"
    }
   ],
   "source": [
    "x"
   ]
  },
  {
   "cell_type": "markdown",
   "metadata": {},
   "source": [
    "# 矩阵求逆"
   ]
  },
  {
   "cell_type": "code",
   "execution_count": 33,
   "metadata": {
    "collapsed": true
   },
   "outputs": [],
   "source": [
    "mat = x.T.dot(x)"
   ]
  },
  {
   "cell_type": "code",
   "execution_count": 34,
   "metadata": {},
   "outputs": [
    {
     "data": {
      "text/plain": [
       "array([[ 2.10425783, -1.16688814, -0.28021917,  0.660772  , -0.37401918],\n",
       "       [-1.16688814,  2.20429686,  1.40138103, -0.324982  , -0.62408602],\n",
       "       [-0.28021917,  1.40138103,  2.35717046,  1.18494872, -0.3742396 ],\n",
       "       [ 0.660772  , -0.324982  ,  1.18494872,  4.14040185, -2.68358323],\n",
       "       [-0.37401918, -0.62408602, -0.3742396 , -2.68358323,  3.939995  ]])"
      ]
     },
     "execution_count": 34,
     "metadata": {},
     "output_type": "execute_result"
    }
   ],
   "source": [
    "mat"
   ]
  },
  {
   "cell_type": "code",
   "execution_count": 35,
   "metadata": {},
   "outputs": [
    {
     "data": {
      "text/plain": [
       "array([[ 1.14075864,  1.6579486 , -1.11871473,  0.78736351,  0.80092901],\n",
       "       [ 1.6579486 ,  4.51552945, -3.40328807,  2.54216674,  2.2808796 ],\n",
       "       [-1.11871473, -3.40328807,  3.11065036, -2.15840925, -1.81992809],\n",
       "       [ 0.78736351,  2.54216674, -2.15840925,  1.98674643,  1.62560027],\n",
       "       [ 0.80092901,  2.2808796 , -1.81992809,  1.62560027,  1.62547728]])"
      ]
     },
     "execution_count": 35,
     "metadata": {},
     "output_type": "execute_result"
    }
   ],
   "source": [
    "inv(mat)  # 矩阵求逆"
   ]
  },
  {
   "cell_type": "code",
   "execution_count": 36,
   "metadata": {},
   "outputs": [
    {
     "data": {
      "text/plain": [
       "array([[  1.00000000e+00,   2.22044605e-16,   0.00000000e+00,\n",
       "          1.11022302e-16,   1.11022302e-16],\n",
       "       [  3.88578059e-16,   1.00000000e+00,   0.00000000e+00,\n",
       "          8.88178420e-16,  -6.66133815e-16],\n",
       "       [  5.55111512e-17,  -2.22044605e-15,   1.00000000e+00,\n",
       "         -5.55111512e-16,  -5.55111512e-16],\n",
       "       [  0.00000000e+00,  -1.77635684e-15,   1.77635684e-15,\n",
       "          1.00000000e+00,   0.00000000e+00],\n",
       "       [  0.00000000e+00,  -1.77635684e-15,   8.88178420e-16,\n",
       "         -8.88178420e-16,   1.00000000e+00]])"
      ]
     },
     "execution_count": 36,
     "metadata": {},
     "output_type": "execute_result"
    }
   ],
   "source": [
    "mat.dot(inv(mat)) # 与逆矩阵相乘，得到单位矩阵。"
   ]
  },
  {
   "cell_type": "markdown",
   "metadata": {},
   "source": [
    "# 矩阵消元"
   ]
  },
  {
   "cell_type": "code",
   "execution_count": 37,
   "metadata": {},
   "outputs": [
    {
     "data": {
      "text/plain": [
       "array([[ 2.10425783, -1.16688814, -0.28021917,  0.660772  , -0.37401918],\n",
       "       [-1.16688814,  2.20429686,  1.40138103, -0.324982  , -0.62408602],\n",
       "       [-0.28021917,  1.40138103,  2.35717046,  1.18494872, -0.3742396 ],\n",
       "       [ 0.660772  , -0.324982  ,  1.18494872,  4.14040185, -2.68358323],\n",
       "       [-0.37401918, -0.62408602, -0.3742396 , -2.68358323,  3.939995  ]])"
      ]
     },
     "execution_count": 37,
     "metadata": {},
     "output_type": "execute_result"
    }
   ],
   "source": [
    "mat"
   ]
  },
  {
   "cell_type": "code",
   "execution_count": 38,
   "metadata": {
    "collapsed": true
   },
   "outputs": [],
   "source": [
    "q, r = qr(mat)"
   ]
  },
  {
   "cell_type": "code",
   "execution_count": 39,
   "metadata": {},
   "outputs": [
    {
     "data": {
      "text/plain": [
       "array([[-0.82890023, -0.29289924,  0.21089737,  0.37179947,  0.21076503],\n",
       "       [ 0.45965557, -0.60179287,  0.24784017,  0.0698515 ,  0.60021506],\n",
       "       [ 0.11038273, -0.57247504, -0.54005177,  0.3729238 , -0.47891535],\n",
       "       [-0.26028848, -0.11231242, -0.677419  , -0.5270156 ,  0.42777784],\n",
       "       [ 0.14733203,  0.46012349, -0.37887351,  0.66337645,  0.42774548]])"
      ]
     },
     "execution_count": 39,
     "metadata": {},
     "output_type": "execute_result"
    }
   ],
   "source": [
    "q"
   ]
  },
  {
   "cell_type": "code",
   "execution_count": 40,
   "metadata": {},
   "outputs": [
    {
     "data": {
      "text/plain": [
       "array([[-2.53861413,  2.12778066,  0.77305127, -2.03937263,  1.26084364],\n",
       "       [ 0.        , -2.03766227, -2.41596728, -2.37611958,  2.81364727],\n",
       "       [ 0.        ,  0.        , -1.64569036, -2.36917047,  0.29370607],\n",
       "       [ 0.        ,  0.        ,  0.        , -3.29741249,  3.7057738 ],\n",
       "       [ 0.        ,  0.        ,  0.        ,  0.        ,  0.2631507 ]])"
      ]
     },
     "execution_count": 40,
     "metadata": {},
     "output_type": "execute_result"
    }
   ],
   "source": [
    "r"
   ]
  },
  {
   "cell_type": "code",
   "execution_count": null,
   "metadata": {
    "collapsed": true
   },
   "outputs": [],
   "source": []
  }
 ],
 "metadata": {
  "anaconda-cloud": {},
  "kernelspec": {
   "display_name": "Python 3",
   "language": "python",
   "name": "python3"
  },
  "language_info": {
   "codemirror_mode": {
    "name": "ipython",
    "version": 3
   },
   "file_extension": ".py",
   "mimetype": "text/x-python",
   "name": "python",
   "nbconvert_exporter": "python",
   "pygments_lexer": "ipython3",
   "version": "3.6.2"
  }
 },
 "nbformat": 4,
 "nbformat_minor": 1
}
