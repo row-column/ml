{
 "cells": [
  {
   "cell_type": "markdown",
   "metadata": {
    "collapsed": true
   },
   "source": [
    "### BP神经网络+sklearn做图片识别"
   ]
  },
  {
   "cell_type": "markdown",
   "metadata": {},
   "source": [
    "### 1. 载入数据集"
   ]
  },
  {
   "cell_type": "code",
   "execution_count": 18,
   "metadata": {
    "collapsed": true
   },
   "outputs": [],
   "source": [
    "import numpy as np\n",
    "from sklearn.datasets import load_digits\n",
    "from sklearn.model_selection import train_test_split #切割数据,交叉验证法\n",
    "from sklearn.preprocessing import LabelBinarizer #标签二值化"
   ]
  },
  {
   "cell_type": "code",
   "execution_count": 2,
   "metadata": {
    "collapsed": true
   },
   "outputs": [],
   "source": [
    "#载入数据:8*8的数据集\n",
    "digits = load_digits()"
   ]
  },
  {
   "cell_type": "code",
   "execution_count": 10,
   "metadata": {},
   "outputs": [],
   "source": [
    "X = digits.data\n",
    "y = digits.target"
   ]
  },
  {
   "cell_type": "markdown",
   "metadata": {},
   "source": [
    "#### 打印输出图片"
   ]
  },
  {
   "cell_type": "code",
   "execution_count": 133,
   "metadata": {},
   "outputs": [
    {
     "name": "stdout",
     "output_type": "stream",
     "text": [
      "(1797, 64)\n"
     ]
    },
    {
     "data": {
      "text/plain": [
       "<matplotlib.figure.Figure at 0x7f27d9f8e828>"
      ]
     },
     "metadata": {},
     "output_type": "display_data"
    },
    {
     "data": {
      "image/png": "[encoded data removed]",
      "text/plain": [
       "<matplotlib.figure.Figure at 0x7f283ef9deb8>"
      ]
     },
     "metadata": {},
     "output_type": "display_data"
    }
   ],
   "source": [
    "import pylab as pl\n",
    "\n",
    "#载入数据集\n",
    "digits = load_digits()\n",
    "print(digits.data.shape)\n",
    "\n",
    "#灰度化图片\n",
    "pl.gray()\n",
    "pl.matshow(digits.images[0])\n",
    "pl.show()"
   ]
  },
  {
   "cell_type": "markdown",
   "metadata": {},
   "source": [
    "#### 这个数据集是sklearn里面带的数据集，图片大小是8*8的，将数据项存入X，将标签项存入Y。这个不要额外下载，声明就可以使用。"
   ]
  },
  {
   "cell_type": "markdown",
   "metadata": {},
   "source": [
    "### 2. 数据归一化处理"
   ]
  },
  {
   "cell_type": "code",
   "execution_count": 13,
   "metadata": {
    "collapsed": true
   },
   "outputs": [],
   "source": [
    "# 输入数据归一化\n",
    "X -= X.min()\n",
    "X /= X.max()"
   ]
  },
  {
   "cell_type": "markdown",
   "metadata": {},
   "source": [
    "1. 数据为什么要归一化处理？当数据集的数值过大，即便乘以较小的权重后仍然还是一个很大的数时，当代入sigmoid激活函数中，激活函数的输出就趋近于1，不利于学习\n",
    "2. 怎么操作使数据归一化？原始数据集中每一个数据先减去最小的那个数，将得到的新数据集再除以最大的那个数既可（大家可以举个例子：2，7，5，9。试一试就知道）"
   ]
  },
  {
   "cell_type": "markdown",
   "metadata": {},
   "source": [
    "### 3. 切分数据，与标签二值化"
   ]
  },
  {
   "cell_type": "code",
   "execution_count": 17,
   "metadata": {
    "collapsed": true
   },
   "outputs": [],
   "source": [
    "# sklearn切分数据\n",
    "X_train,X_test,y_train,y_test = train_test_split(X,y)"
   ]
  },
  {
   "cell_type": "code",
   "execution_count": 23,
   "metadata": {},
   "outputs": [],
   "source": [
    "#标签二值化：将原始标签(十进制)转为新标签(二进制)\n",
    "labels_train = LabelBinarizer().fit_transform(y_train)\n",
    "labels_test = LabelBinarizer().fit_transform(y_test)"
   ]
  },
  {
   "cell_type": "markdown",
   "metadata": {},
   "source": [
    "* sklearn中直接一条语句就可以切分数据了：将数据项、标签项切分出来，3/4做训练集，剩下的1/4做测试集。\n",
    "* 为什么要标签二值化？因为我们存入的标签是0，1，2，，，9这十个数，而计算机的识别都是0-1字符串，所以满足计算机识别分类，就需要进行标签二值化。\n",
    "* 怎么标签二值化？举例最好说明：用长度为10的字符串表示如下： \n",
    "0 –>1000000000；3 –>0001000000；8 –>0000000010"
   ]
  },
  {
   "cell_type": "markdown",
   "metadata": {},
   "source": [
    "### 4.训练模型"
   ]
  },
  {
   "cell_type": "code",
   "execution_count": 26,
   "metadata": {
    "collapsed": true
   },
   "outputs": [],
   "source": [
    "def sigmoid(x):\n",
    "    return 1/(1 + np.exp(-x))"
   ]
  },
  {
   "cell_type": "code",
   "execution_count": 27,
   "metadata": {
    "collapsed": true
   },
   "outputs": [],
   "source": [
    "def dsigmoid(x):\n",
    "    return x*(1 - x)"
   ]
  },
  {
   "cell_type": "code",
   "execution_count": 41,
   "metadata": {
    "collapsed": true
   },
   "outputs": [],
   "source": [
    "layers = [64,100,10] # 定义层"
   ]
  },
  {
   "cell_type": "markdown",
   "metadata": {},
   "source": [
    "#### 权重的初始化范围-1和1：+1的一列是偏置值"
   ]
  },
  {
   "cell_type": "code",
   "execution_count": 36,
   "metadata": {
    "collapsed": true
   },
   "outputs": [],
   "source": [
    "V = np.random.random((layers[0] + 1,layers[1] + 1)) * 2 - 1 #(65, 101)"
   ]
  },
  {
   "cell_type": "code",
   "execution_count": 37,
   "metadata": {},
   "outputs": [
    {
     "data": {
      "text/plain": [
       "(65, 101)"
      ]
     },
     "execution_count": 37,
     "metadata": {},
     "output_type": "execute_result"
    }
   ],
   "source": [
    "V\n",
    "V.shape"
   ]
  },
  {
   "cell_type": "code",
   "execution_count": 38,
   "metadata": {
    "collapsed": true
   },
   "outputs": [],
   "source": [
    "W = np.random.random((layers[1] + 1,layers[2] + 1)) * 2 - 1 # (101, 11)"
   ]
  },
  {
   "cell_type": "code",
   "execution_count": 40,
   "metadata": {},
   "outputs": [
    {
     "data": {
      "text/plain": [
       "(101, 11)"
      ]
     },
     "execution_count": 40,
     "metadata": {},
     "output_type": "execute_result"
    }
   ],
   "source": [
    "W.shape"
   ]
  },
  {
   "cell_type": "markdown",
   "metadata": {},
   "source": [
    "#### 添加偏置值：最后一列全是1"
   ]
  },
  {
   "cell_type": "code",
   "execution_count": 43,
   "metadata": {},
   "outputs": [],
   "source": [
    "tmp = np.ones([X.shape[0],X.shape[1] + 1])"
   ]
  },
  {
   "cell_type": "code",
   "execution_count": 44,
   "metadata": {},
   "outputs": [
    {
     "data": {
      "text/plain": [
       "(1797, 65)"
      ]
     },
     "execution_count": 44,
     "metadata": {},
     "output_type": "execute_result"
    }
   ],
   "source": [
    "tmp.shape"
   ]
  },
  {
   "cell_type": "code",
   "execution_count": 53,
   "metadata": {},
   "outputs": [],
   "source": [
    "tmp[:,0:-1] = X"
   ]
  },
  {
   "cell_type": "code",
   "execution_count": 80,
   "metadata": {},
   "outputs": [],
   "source": [
    "X = tmp"
   ]
  },
  {
   "cell_type": "code",
   "execution_count": 121,
   "metadata": {},
   "outputs": [],
   "source": [
    "epochs = 20000\n",
    "lr = 0.11"
   ]
  },
  {
   "cell_type": "code",
   "execution_count": 129,
   "metadata": {},
   "outputs": [
    {
     "name": "stdout",
     "output_type": "stream",
     "text": [
      "迭代次数 0 准确率: 0.00666666666667\n",
      "迭代次数 1000 准确率: 0.02\n",
      "迭代次数 2000 准确率: 0.0222222222222\n",
      "迭代次数 3000 准确率: 0.0222222222222\n",
      "迭代次数 4000 准确率: 0.0177777777778\n",
      "迭代次数 5000 准确率: 0.02\n",
      "迭代次数 6000 准确率: 0.0177777777778\n",
      "迭代次数 7000 准确率: 0.02\n",
      "迭代次数 8000 准确率: 0.0222222222222\n",
      "迭代次数 9000 准确率: 0.0222222222222\n",
      "迭代次数 10000 准确率: 0.0222222222222\n",
      "迭代次数 11000 准确率: 0.0222222222222\n",
      "迭代次数 12000 准确率: 0.0222222222222\n",
      "迭代次数 13000 准确率: 0.0222222222222\n",
      "迭代次数 14000 准确率: 0.0222222222222\n",
      "迭代次数 15000 准确率: 0.0222222222222\n",
      "迭代次数 16000 准确率: 0.0222222222222\n",
      "迭代次数 17000 准确率: 0.0222222222222\n",
      "迭代次数 18000 准确率: 0.0222222222222\n",
      "迭代次数 19000 准确率: 0.0222222222222\n",
      "迭代次数 20000 准确率: 0.0222222222222\n"
     ]
    }
   ],
   "source": [
    "for n in range(epochs + 1):\n",
    "    #在训练集中随机选取一行(一个数据)：randint()在范围内随机生成一个int类型\n",
    "    i = np.random.randint(X.shape[0])\n",
    "    x = [X[i]]\n",
    "    #转成二维数据：由一维一行转为二维一行\n",
    "    x = np.atleast_2d(x)\n",
    "    \n",
    "    #L1:输入层传递给隐藏层的值：输入层64结点，隐藏层100个节点\n",
    "    L1 = sigmoid(np.dot(x,V))\n",
    "    #L2:隐藏层传递到输出层的值：输出层10个节点\n",
    "    L2 = sigmoid(np.dot(L1,W))\n",
    "    \n",
    "    # L2_delta:输出层对隐藏层的误差该变量\n",
    "    L2_delta = (y[i] - L2) * dsigmoid(L2)\n",
    "    #L1_delta：隐藏层对输入层的误差改变量\n",
    "    L1_delta = L2_delta.dot(W.T) * dsigmoid(L1)\n",
    "    \n",
    "    #计算改变后的新权重\n",
    "    W += lr * L1.T.dot(L2_delta)\n",
    "    V += lr * x.T.dot(L1_delta)\n",
    "    \n",
    "    #每训练1000次输出一次准确率\n",
    "    if n%1000 == 0:\n",
    "        predictions = []\n",
    "        for j in range(X_test.shape[0]):\n",
    "            # 获取预计结果：返回与十个标签值逼近的距离，数值最大的选为本次的预测值\n",
    "            o = predict(X_test[j])\n",
    "            #将最大的数值所对应的标签返回\n",
    "            predictions.append(np.argmax(o))\n",
    "        #np.equal():相同返回true，不同返回false\n",
    "        accuracy = np.mean(np.equal(predictions,y_test))\n",
    "        print('迭代次数',n,'准确率:',accuracy)\n",
    "    "
   ]
  },
  {
   "cell_type": "code",
   "execution_count": 128,
   "metadata": {
    "collapsed": true
   },
   "outputs": [],
   "source": [
    "def predict(x):\n",
    "    tmp = np.ones([x.shape[0] + 1])\n",
    "    tmp[0:-1] = x\n",
    "    x = tmp\n",
    "    x = np.atleast_2d(x)\n",
    "    L1 = sigmoid(np.dot(x,V))\n",
    "    L2 = sigmoid(np.dot(L1,W))\n",
    "    return L2\n",
    "    "
   ]
  },
  {
   "cell_type": "code",
   "execution_count": 130,
   "metadata": {},
   "outputs": [],
   "source": [
    "class NeuralNetwork:\n",
    "    def __init__(self,layers):#(64,100,10)\n",
    "        #权重的初始化,范围-1到1：+1的一列是偏置值\n",
    "        self.V = np.random.random((layers[0] + 1, layers[1]+1))*2 - 1\n",
    "        self.W = np.random.random((layers[1] + 1, layers[2])) * 2 - 1\n",
    "\n",
    "    def train(self,X,y,lr=0.11,epochs=10000):\n",
    "        #添加偏置值：最后一列全是1\n",
    "        temp = np.ones([X.shape[0],X.shape[1]+1])\n",
    "        temp[:,0:-1] = X\n",
    "        X = temp\n",
    "\n",
    "        for n in range(epochs+1):\n",
    "            #在训练集中随机选取一行(一个数据)：randint()在范围内随机生成一个int类型\n",
    "            i = np.random.randint(X.shape[0])\n",
    "            x = [X[i]]\n",
    "            #转为二维数据：由一维一行转为二维一行\n",
    "            x = np.atleast_2d(x)\n",
    "\n",
    "            # L1：输入层传递给隐藏层的值；输入层64个节点，隐藏层100个节点\n",
    "            # L2：隐藏层传递到输出层的值；输出层10个节点\n",
    "            L1 = sigmoid(np.dot(x, self.V))\n",
    "            L2 = sigmoid(np.dot(L1, self.W))\n",
    "\n",
    "            # L2_delta：输出层对隐藏层的误差改变量\n",
    "            # L1_delta：隐藏层对输入层的误差改变量\n",
    "            L2_delta = (y[i] - L2) * dsigmoid(L2)\n",
    "            L1_delta = L2_delta.dot(self.W.T) * dsigmoid(L1)\n",
    "\n",
    "            # 计算改变后的新权重\n",
    "            self.W += lr * L1.T.dot(L2_delta)\n",
    "            self.V += lr * x.T.dot(L1_delta)\n",
    "\n",
    "            #每训练1000次输出一次准确率\n",
    "            if n%1000 == 0:\n",
    "                predictions = []\n",
    "                for j in range(X_test.shape[0]):\n",
    "                    #获取预测结果：返回与十个标签值逼近的距离，数值最大的选为本次的预测值\n",
    "                    o = self.predict(X_test[j])\n",
    "                    #将最大的数值所对应的标签返回\n",
    "                    predictions.append(np.argmax(o))\n",
    "                #np.equal()：相同返回true，不同返回false\n",
    "                accuracy = np.mean(np.equal(predictions,y_test))\n",
    "                print('迭代次数：',n,'准确率：',accuracy)\n",
    "\n",
    "    def predict(self,x):\n",
    "        # 添加偏置值：最后一列全是1\n",
    "        temp = np.ones([x.shape[0] + 1])\n",
    "        temp[0:-1] = x\n",
    "        x = temp\n",
    "        # 转为二维数据：由一维一行转为二维一行\n",
    "        x = np.atleast_2d(x)\n",
    "\n",
    "        # L1：输入层传递给隐藏层的值；输入层64个节点，隐藏层100个节点\n",
    "        # L2：隐藏层传递到输出层的值；输出层10个节点\n",
    "        L1 = sigmoid(np.dot(x, self.V))\n",
    "        L2 = sigmoid(np.dot(L1, self.W))\n",
    "        return L2"
   ]
  },
  {
   "cell_type": "code",
   "execution_count": 132,
   "metadata": {},
   "outputs": [
    {
     "name": "stdout",
     "output_type": "stream",
     "text": [
      "开始训练\n",
      "迭代次数： 0 准确率： 0.0977777777778\n",
      "迭代次数： 1000 准确率： 0.593333333333\n",
      "迭代次数： 2000 准确率： 0.9\n",
      "迭代次数： 3000 准确率： 0.928888888889\n",
      "迭代次数： 4000 准确率： 0.948888888889\n",
      "迭代次数： 5000 准确率： 0.937777777778\n",
      "迭代次数： 6000 准确率： 0.948888888889\n",
      "迭代次数： 7000 准确率： 0.953333333333\n",
      "迭代次数： 8000 准确率： 0.962222222222\n",
      "迭代次数： 9000 准确率： 0.96\n",
      "迭代次数： 10000 准确率： 0.968888888889\n",
      "迭代次数： 11000 准确率： 0.964444444444\n",
      "迭代次数： 12000 准确率： 0.968888888889\n",
      "迭代次数： 13000 准确率： 0.968888888889\n",
      "迭代次数： 14000 准确率： 0.968888888889\n",
      "迭代次数： 15000 准确率： 0.968888888889\n",
      "迭代次数： 16000 准确率： 0.968888888889\n",
      "迭代次数： 17000 准确率： 0.966666666667\n",
      "迭代次数： 18000 准确率： 0.973333333333\n",
      "迭代次数： 19000 准确率： 0.975555555556\n",
      "迭代次数： 20000 准确率： 0.973333333333\n",
      "训练结束\n"
     ]
    }
   ],
   "source": [
    "NN = NeuralNetwork([64,100,10])\n",
    "print('开始训练')\n",
    "NN.train(X_train,labels_train,epochs=20000)\n",
    "print('训练结束')"
   ]
  },
  {
   "cell_type": "code",
   "execution_count": null,
   "metadata": {
    "collapsed": true
   },
   "outputs": [],
   "source": []
  }
 ],
 "metadata": {
  "anaconda-cloud": {},
  "kernelspec": {
   "display_name": "Python 3",
   "language": "python",
   "name": "python3"
  },
  "language_info": {
   "codemirror_mode": {
    "name": "ipython",
    "version": 3
   },
   "file_extension": ".py",
   "mimetype": "text/x-python",
   "name": "python",
   "nbconvert_exporter": "python",
   "pygments_lexer": "ipython3",
   "version": "3.6.2"
  }
 },
 "nbformat": 4,
 "nbformat_minor": 1
}
