{
 "cells": [
  {
   "cell_type": "markdown",
   "metadata": {
    "collapsed": true
   },
   "source": [
    "## 复旦中文文本分类语料库"
   ]
  },
  {
   "cell_type": "code",
   "execution_count": 56,
   "metadata": {
    "collapsed": true
   },
   "outputs": [],
   "source": [
    "import os\n",
    "import shutil\n",
    "import jieba\n",
    "from sklearn.feature_extraction.text import CountVectorizer\n",
    "from sklearn.feature_extraction.text import TfidfTransformer\n",
    "from sklearn.cross_validation import cross_val_score\n",
    "from sklearn.externals import joblib\n",
    "\n",
    "import numpy as np"
   ]
  },
  {
   "cell_type": "markdown",
   "metadata": {},
   "source": [
    "### 加载停止词"
   ]
  },
  {
   "cell_type": "code",
   "execution_count": 39,
   "metadata": {
    "collapsed": true
   },
   "outputs": [],
   "source": [
    "with open('./data/stopword.txt') as f:\n",
    "    stopword_list = f.read().split('\\n')"
   ]
  },
  {
   "cell_type": "markdown",
   "metadata": {},
   "source": [
    "### 第一步，对于中文，需要进行分词处理"
   ]
  },
  {
   "cell_type": "code",
   "execution_count": 3,
   "metadata": {
    "collapsed": true
   },
   "outputs": [],
   "source": [
    "# 获取分类\n",
    "data_list = os.listdir('./data/data/') # 语料数据\n",
    "seg_path = './data/segment' # 分词后的数据\n",
    "seg_train_path = './data/segment/train' # 分词后的训练数据\n",
    "seg_test_path = './data/segment/test' # 分词后的测试数据"
   ]
  },
  {
   "cell_type": "code",
   "execution_count": 37,
   "metadata": {
    "collapsed": true
   },
   "outputs": [],
   "source": [
    "# 获取各个分类内容，并进行切词保存在segment目录下\n",
    "def segment_content():\n",
    "    for data_cat in data_list:\n",
    "#         print (data_cat)\n",
    "        content = ''\n",
    "        if not os.path.isdir(data_cat) and not '.Ds_Store' == data_cat:\n",
    "            path = './data/data/%s'%(data_cat)\n",
    "            #print (path)\n",
    "            file_list = os.listdir(path)\n",
    "            #print (file_list)\n",
    "            for file in file_list:\n",
    "                file_path = './data/data/%s/%s'%(data_cat,file)\n",
    "                #print (file_path)\n",
    "                if '.Ds_Store' == file:\n",
    "                    os.remove(file_path)\n",
    "                else:\n",
    "                    try:\n",
    "                        f = open(file_path,mode='r', encoding='GB18030')\n",
    "                        content = f.read()\n",
    "                    except Exception:\n",
    "                        print('无法读取')\n",
    "                        continue\n",
    "                            \n",
    "                \n",
    "                if not os.path.exists('%s/%s'%(seg_train_path,data_cat)):\n",
    "                    print('%s/%s'%(seg_train_path,data_cat))\n",
    "                    os.makedirs('%s/%s'%(seg_train_path,data_cat))\n",
    "                \n",
    "                output = open('%s/%s/%s'%(seg_train_path,data_cat,file),'w')\n",
    "                content_seg = jieba.cut(content) # 使用jieba分词\n",
    "                output.write(' '.join(content_seg))\n",
    "                output.close()\n",
    "            \n",
    "            \n",
    "    "
   ]
  },
  {
   "cell_type": "code",
   "execution_count": 38,
   "metadata": {},
   "outputs": [
    {
     "name": "stderr",
     "output_type": "stream",
     "text": [
      "Building prefix dict from the default dictionary ...\n"
     ]
    },
    {
     "name": "stdout",
     "output_type": "stream",
     "text": [
      "./data/segment/train/计算机\n"
     ]
    },
    {
     "name": "stderr",
     "output_type": "stream",
     "text": [
      "Dumping model to file cache /tmp/jieba.cache\n",
      "Loading model cost 1.393 seconds.\n",
      "Prefix dict has been built succesfully.\n"
     ]
    },
    {
     "name": "stdout",
     "output_type": "stream",
     "text": [
      "./data/segment/train/文学\n",
      "./data/segment/train/哲学\n",
      "无法读取\n",
      "无法读取\n",
      "./data/segment/train/环境\n",
      "./data/segment/train/经济\n",
      "无法读取\n",
      "无法读取\n",
      "无法读取\n",
      "无法读取\n",
      "无法读取\n",
      "无法读取\n",
      "无法读取\n",
      "无法读取\n",
      "./data/segment/train/农业\n",
      "./data/segment/train/体育\n",
      "无法读取\n",
      "无法读取\n",
      "无法读取\n",
      "无法读取\n",
      "无法读取\n",
      "无法读取\n",
      "无法读取\n",
      "无法读取\n",
      "无法读取\n",
      "无法读取\n",
      "无法读取\n",
      "无法读取\n",
      "无法读取\n",
      "无法读取\n",
      "无法读取\n",
      "无法读取\n",
      "无法读取\n",
      "无法读取\n",
      "无法读取\n",
      "./data/segment/train/能源\n",
      "./data/segment/train/教育\n",
      "./data/segment/train/电子工业\n",
      "./data/segment/train/通讯\n",
      "./data/segment/train/医药\n",
      "./data/segment/train/军事\n",
      "无法读取\n",
      "无法读取\n",
      "无法读取\n",
      "./data/segment/train/太空\n",
      "无法读取\n",
      "无法读取\n",
      "无法读取\n",
      "无法读取\n",
      "无法读取\n",
      "./data/segment/train/法律\n",
      "无法读取\n",
      "无法读取\n",
      "无法读取\n",
      "无法读取\n",
      "无法读取\n",
      "无法读取\n",
      "无法读取\n",
      "无法读取\n",
      "无法读取\n",
      "无法读取\n",
      "无法读取\n",
      "无法读取\n",
      "无法读取\n",
      "无法读取\n",
      "无法读取\n",
      "无法读取\n",
      "无法读取\n",
      "无法读取\n",
      "无法读取\n",
      "无法读取\n",
      "无法读取\n",
      "无法读取\n",
      "./data/segment/train/运输\n",
      "./data/segment/train/历史\n",
      "无法读取\n",
      "无法读取\n",
      "无法读取\n",
      "无法读取\n",
      "无法读取\n",
      "无法读取\n",
      "无法读取\n",
      "无法读取\n",
      "./data/segment/train/政治\n",
      "无法读取\n",
      "无法读取\n",
      "无法读取\n",
      "无法读取\n",
      "无法读取\n",
      "无法读取\n",
      "无法读取\n",
      "无法读取\n",
      "无法读取\n",
      "./data/segment/train/艺术\n",
      "无法读取\n",
      "无法读取\n",
      "无法读取\n",
      "无法读取\n",
      "无法读取\n",
      "无法读取\n",
      "无法读取\n",
      "无法读取\n",
      "无法读取\n",
      "无法读取\n",
      "无法读取\n",
      "无法读取\n",
      "无法读取\n",
      "无法读取\n",
      "./data/segment/train/人文传记\n"
     ]
    }
   ],
   "source": [
    "segment_content()"
   ]
  },
  {
   "cell_type": "code",
   "execution_count": 43,
   "metadata": {
    "collapsed": true
   },
   "outputs": [],
   "source": [
    "#从切分的数据中分离出测试数据集\n",
    "def cut_for_test():\n",
    "    seg_data_list = os.listdir(seg_train_path)\n",
    "    for data_dir in seg_data_list:\n",
    "        if os.path.isdir('%s/%s'%(seg_train_path,data_dir)):\n",
    "            file_dir_path = '%s/%s'%(seg_train_path,data_dir)\n",
    "            #print (file_dir_path)\n",
    "            file_list = os.listdir(file_dir_path)\n",
    "            #print(file_list)\n",
    "            test_arr = file_list[-10:]\n",
    "            for sub_file in test_arr:\n",
    "                if '.Ds_Store' == sub_file:\n",
    "                    os.remove('%s/%s'%(file_dir_path,sub_file))\n",
    "                    continue\n",
    "                if not os.path.exists('%s/%s'%(seg_test_path,data_dir)):\n",
    "                    os.makedirs('%s/%s'%(seg_test_path,data_dir))\n",
    "                shutil.move('%s/%s'%(file_dir_path,sub_file),'%s/%s/%s'%(seg_test_path,data_dir,sub_file))"
   ]
  },
  {
   "cell_type": "code",
   "execution_count": 44,
   "metadata": {
    "collapsed": true
   },
   "outputs": [],
   "source": [
    "cut_for_test()"
   ]
  },
  {
   "cell_type": "markdown",
   "metadata": {},
   "source": [
    "### 第二步 获取训练集  返回训练集数据，类别列表"
   ]
  },
  {
   "cell_type": "code",
   "execution_count": 4,
   "metadata": {
    "collapsed": true
   },
   "outputs": [],
   "source": [
    "#获取训练数据集\n",
    "def load_train_set():\n",
    "    all_file_list = os.listdir(seg_train_path)\n",
    "    #print (all_file_list)\n",
    "    processed_text_set = []\n",
    "    all_class_tags = []\n",
    "    for this_dir in all_file_list:\n",
    "        if not '.Ds_Store' == this_dir:\n",
    "            content_list = os.listdir('%s/%s'%(seg_train_path,this_dir))\n",
    "            #print(content_list)\n",
    "            \n",
    "            for file in content_list:\n",
    "                if not os.path.isdir('%s/%s/%s'%(seg_train_path,this_dir,file)) and not '.Ds_Store' == file:\n",
    "                    path_name = '%s/%s/%s'%(seg_train_path,this_dir,file)\n",
    "                    #print (path_name)\n",
    "                    with open(path_name) as f:\n",
    "                        processed_text_set.append(f.read())\n",
    "                        all_class_tags.append(this_dir)\n",
    "    return processed_text_set,all_class_tags"
   ]
  },
  {
   "cell_type": "code",
   "execution_count": 25,
   "metadata": {
    "collapsed": true
   },
   "outputs": [],
   "source": [
    "processed_text_set,Y = load_train_set()"
   ]
  },
  {
   "cell_type": "code",
   "execution_count": 30,
   "metadata": {},
   "outputs": [
    {
     "ename": "AttributeError",
     "evalue": "'list' object has no attribute 'shape'",
     "output_type": "error",
     "traceback": [
      "\u001b[0;31m---------------------------------------------------------------------------\u001b[0m",
      "\u001b[0;31mAttributeError\u001b[0m                            Traceback (most recent call last)",
      "\u001b[0;32m<ipython-input-30-46fb5ec4d335>\u001b[0m in \u001b[0;36m<module>\u001b[0;34m()\u001b[0m\n\u001b[0;32m----> 1\u001b[0;31m \u001b[0mprocessed_text_set\u001b[0m\u001b[0;34m.\u001b[0m\u001b[0mshape\u001b[0m\u001b[0;34m\u001b[0m\u001b[0m\n\u001b[0m",
      "\u001b[0;31mAttributeError\u001b[0m: 'list' object has no attribute 'shape'"
     ]
    }
   ],
   "source": [
    "processed_text_set"
   ]
  },
  {
   "cell_type": "code",
   "execution_count": 27,
   "metadata": {},
   "outputs": [
    {
     "data": {
      "text/plain": [
       "['人文传记',\n",
       " '人文传记',\n",
       " '人文传记',\n",
       " '人文传记',\n",
       " '人文传记',\n",
       " '人文传记',\n",
       " '人文传记',\n",
       " '人文传记',\n",
       " '人文传记',\n",
       " '人文传记']"
      ]
     },
     "execution_count": 27,
     "metadata": {},
     "output_type": "execute_result"
    }
   ],
   "source": [
    "Y[-10:]"
   ]
  },
  {
   "cell_type": "code",
   "execution_count": 14,
   "metadata": {
    "collapsed": true
   },
   "outputs": [],
   "source": [
    "# 获得测试数据集\n",
    "def load_test_set():\n",
    "    all_file_list= os.listdir(seg_test_path)\n",
    "    test_set = []\n",
    "    test_class = []\n",
    "    for cat_dir in all_file_list:\n",
    "        if not '.Ds_Store' == cat_dir:\n",
    "            test_content_list = os.listdir('%s/%s'%(seg_test_path,cat_dir))\n",
    "            #print (test_content_list)\n",
    "            for test_content_file in test_content_list:\n",
    "                \n",
    "                if os.path.isfile('%s/%s/%s'%(seg_test_path,cat_dir,test_content_file)) and not '.Ds_Store' == test_content_file:\n",
    "                    file_path_name = '%s/%s/%s'%(seg_test_path,cat_dir,test_content_file)\n",
    "                    \n",
    "                    print('获得测试数据文件名')\n",
    "                    print(file_path_name)\n",
    "                    with open(file_path_name) as f:\n",
    "                        test_set.append(f.read())\n",
    "                        test_class.append(cat_dir)\n",
    "            return test_set,test_class"
   ]
  },
  {
   "cell_type": "code",
   "execution_count": 74,
   "metadata": {},
   "outputs": [
    {
     "name": "stdout",
     "output_type": "stream",
     "text": [
      "获得测试数据文件名\n",
      "./data/segment/test/计算机/C19-Computer2074.txt\n",
      "获得测试数据文件名\n",
      "./data/segment/test/计算机/C19-Computer1858.txt\n",
      "获得测试数据文件名\n",
      "./data/segment/test/计算机/C19-Computer2123.txt\n",
      "获得测试数据文件名\n",
      "./data/segment/test/计算机/C19-Computer1963.txt\n",
      "获得测试数据文件名\n",
      "./data/segment/test/计算机/C19-Computer0351.txt\n",
      "获得测试数据文件名\n",
      "./data/segment/test/计算机/C19-Computer1055.txt\n",
      "获得测试数据文件名\n",
      "./data/segment/test/计算机/C19-Computer1698.txt\n",
      "获得测试数据文件名\n",
      "./data/segment/test/计算机/C19-Computer0678.txt\n",
      "获得测试数据文件名\n",
      "./data/segment/test/计算机/C19-Computer0149.txt\n",
      "获得测试数据文件名\n",
      "./data/segment/test/计算机/C19-Computer0597.txt\n"
     ]
    }
   ],
   "source": [
    "test_text_set,Y_test = load_test_set()"
   ]
  },
  {
   "cell_type": "code",
   "execution_count": 75,
   "metadata": {},
   "outputs": [
    {
     "data": {
      "text/plain": [
       "['计算机 工程 \\n Computer   Engineering \\n 1999 年 \\u3000 第 25 卷 \\u3000 第 9 期 \\u3000 Vol.25   No.9     1999 \\n \\n \\n \\n 基于 Agent 的 多域 网络安全 模型 \\n 张伟奇 \\u3000 汪为 农 \\n \\u3000 \\u3000 摘 \\u3000 要 ： 根据 当前 网络系统 的 开放性 、 分布 性 等 特点 ， 分析 并 提出 了 一种 基于 Agent 的 多域 网络安全 域 、 自治 安全 域 和 安全 Agent 的 体系结构 进行 了 讨论 ． \\n \\u3000 \\u3000 关键词 ： 安全 域 ； 代理 ； 远程 方法 调用 \\n Multi - domain   Network   Security   Model   Based   on   Agent \\n Zhang   Weiqi   Wang   Weinong \\n ( Department   of   Computer   Science   and   Engineering   of   Shanghai   Jiaotong   Unviersity ,   Shanghai   200030 ) \\n \\u3000 \\u3000 Abstract \\u3000 According   to   the   open   feature   and   distribution   of   current   networks ,   this   paper   analyzes   a   multi - domain   security   model   based   on   Agent .   Also ,   the   architectures   of   multi - domain   security   model ,   autonomous   security   domain   and   security   Agent   are   discussed . \\n \\u3000 \\u3000 Key   words \\u3000 Security   domain ;   Agent ;   RMI \\n \\u3000 \\u3000 对于 一个 巨型 的 异构 网络 ， 如何 进行 有效 的 安全 管理 和 控制 ？ 从 现实 的 信息 基础 结构 的 角度 来看 ， 一个 有效 的 解决 方法 是 将 一个 巨型 网络系统 划分 为 许多 小 的 自治 安全 域 ， 这样 就 可以 将 大型 网络 的 认证 、 授权 、 审计 和 安全控制 等 任务 交给 下面 的 自治 域 代理 （ Agent ） 来 完成 ， 从而 建立 层次 型 的 安全 管理体制 。 \\n 1 \\u3000 基于 Agent 的 多 安全 域 模型 \\n \\u3000 \\u3000 定义   安全 域 是 由 同一个 管理器 管理 的 一组 安全 主体 和 客体 ， 在 安全 域 中 的 所有 对象 的 活动 都 按照 同种 或 相似 的 安全 规则 进行 工作 [ 1 ] 。 一个 安全 域 具有 比较 明确 的 边界 ， 也就是说 ， 安全 域 之间 的 通信 有且 只能 有 一个 \" 扼流点 \" ， 所有 的 域 间通信 必须 通过 这个 扼流点 的 检查 。 但 由于 各个 安全 域 之间 的 平台 、 协议 、 策略 等 的 差异 ， 域间 进行 互操作 的 难度 相当 大 。 整个 网络系统 的 安全性 最终 必须 通过 自治 域 之间 的 数据 协作 处理 和 信息 共享 互 用来 实现 ， 这 就 有 一个 安全 域 之间 和域 内 对象 之间 安全 通信 的 问题 。 所以 必须 将 Agent 引入 安全 域 ， 通过 定义 Agent 间 的 统一 、 安全 的 通信协议 ， 来 解决 异构 网络 环境 下 的 通信 问题 。 \\n \\u3000 \\u3000 Agent 至今 没有 一个 统一 的 定义 ， 只能 对 它 作 一个 大致 的 描述 。 Agent 是 一个 抽象 的 实体 ， 它 能 作用 于 自身 和 外界 环境 ， 并 能 对 外界 环境 作出反应 [ 2 ] 。 基于 Agent 的 多 安全 域 模型 如图 1 所示 。 \\n \\n 图 1 \\u3000 基于 Agent 的 多 安全 域 模型 \\n \\u3000 \\u3000 . 系统 要素 ： MOM （ Monitor   Of   Monitor ） 、 域 安全 管理 Agent 、 客户 Agent ， 实际上 MOM 可以 被 看作 是 一个 超级 Agent 。 \\n \\u3000 \\u3000 . 安全 域 划分 原则 ： 整个 网络系统 按 特定 策略 ( 地理分布 或 组织 ) 被 分成 多个 安全 域 ， 分别 为 D0 ， D1 ， D2 … … 。 D0 仅 包括 MOM 和域 管理 Agent ， 称为 主干 域 。 域 D1 、 D ２ 等 包括 域 管理 Agent 、 客户 Agent 。 主干 域和域 的 体系结构 基本一致 ， 主要 是 作用 对象 和 范围 不同 。 按照 类似 的 方法 ， 可以 在 一个 域 中 划分 出 多个 子域 。 这样 整个 网络 就 形成 一个 树型 的 逻辑 结构 ， 它 符合 了 现实 的 网络体系结构 。 \\n \\u3000 \\u3000 . 管理 原则 ： MOM 面向 主干 域 ， 负责管理 所有 域 管理 Agent ， MOM   作为 所有 域 管理 Agent 共同 信任 的 第三方 ， 一方面 提供 认证 服务 ， 另一方面 接收 各个 域 的 安全事件 报告 ， 并 为 不同 的 安全 域 配置 相应 的 信任 关系 和 安全级别 ， 配置 安全 事务 软件 ， 同时 对域 间 的 安全 通信 作 审计 和 分析 。 域 管理 Agent 面向 管理 域 ， 负责管理 客户 Agent 。 \\n \\u3000 \\u3000 MOM 和 各级 Agent 都 带有 一个 拓扑 信息 表 ， 它 包含 到 上级 Agent 、 同级 Agent 以及 本地 资源 的 可达性 信息 （ 位置 、 安全级别 、 域 信任 关系 以及 客户 访问 权限 等 ） 和 简单 的 路由 信息 ， 其 工作 原理 类似 于 DNS 。 在 MOM 和 子域 管理 Agent 、 域 管理 Agent 和 客户 Agent 之间 进行 通信 时 ， 首先 应 检查 本地 拓扑 信息 表 。 本地 拓扑 表 掌握 着 它 所 管理 的 域 内 资源 的 可达性 信息 和 基本 路由 信息 。 比如 客户 Agent 发出请求 给 子域 管理 Agent 时 ， 子域 管理 Agent 查 自己 的 表 。 如 目标 不 在 同一 子域 ， 则 将 请求 交给 上级 Agent 。 上级 Agent 根据 客户 的 权限 和源 ／ 目标 域 的 信任 关系 、 安全级别 等 进行 认证 ， 判定 是否 进行 应答 ， 如果 允许 则 回答 这个 请求 , 子域 Agent 获得 授权 后 与 目标 域 建立 连接 ， 完成 被 请求 的 任务 。 \\n \\u3000 \\u3000 . 各个 域 的 拓扑 信息 的 算法 基本 类似 ， 下面 以 主干 域 为例 ， 给出 拓扑 算法 ： \\n \\u3000 \\u3000 . 系统管理员 设定 MOM 和 备份 MOM 、 子域 管理 Agent 和 备份 子域 管理 Agent ； \\n \\u3000 \\u3000 . 首次 启动 后 或 正常 结束 前 ， 子域 管理 Agent 必须 向 MOM 发送 在线 ／ 离线 事件 ； \\n \\u3000 \\u3000 . 子域 管理 Agent 发生 故障 时 ， 备份 子域 管理 Agent 接替 工作 ， 并 向 MOM 报告 故障 事件 ； \\n \\u3000 \\u3000 . MOM 根据 事件 类型 修改 拓扑 信息 表 ， 并 向 所有 在线 子域 管理 Agent 和 备份 MOM 发送 更新 的 拓扑 信息 ； \\n \\u3000 \\u3000 . 子域 管理 Agent 按照 MOM 发来 的 信息 修改 拓扑 信息 表 ， 并 定时 做 备份 。 \\n 2 \\u3000 安全 域 的 体系结构 \\n \\u3000 \\u3000 基于 Agent 的 多 安全 域 的 解决方案 中 ， 每个 域应 采用 多种 安全 技术 ， 由内而外 、 自下而上 提供 多层 保护 。 其中 每个 自治 域 管理 Agent 至少 应 包括 防火墙 Agent 、 网络安全 管理 Agent 、 域 安全 认证 Agent 和 授权 服务 Agent 等 安全 服务器 ( 如图 2 ) 。 域 内 或 域外 的 用户 对域 内 资源 的 访问 ( 如 FTP   Server ， Email   Server 等 ) ， 最终 是 通过 单个 域 管理 Agent 或 不同 域 管理 Agent 之间 的 协作 来 解决 安全 互通 。 \\n \\n 图 2 \\u3000 安全 域 体系结构 \\n \\u3000 \\u3000 每个 域 的 网络安全 管理 Agent ， 根据 系统管理员 的 安全策略 ( 如域 的 安全 规则 集 、 域间 信任 关系 和 各种 管理 对象 ) 来 保证 用户 安全 使用 网络 。 它 的 主要 功能 是 ： \\n \\u3000 \\u3000 . 完成 域 安全 工作 状态 的 跟踪 ， 及时 收集 网络 上 的 安全事件 ， 进行 适当 的 审计 分析 ， 生成 各种 安全 信息 数据库 ， 使得 系统 可以 及时 地 发现 网络 的 安全 故障 ， 并 及时 地 采用 相应 的 安全措施 ； \\n \\u3000 \\u3000 . 对本域 内 的 服务器 配置 安全 服务 软件 ， 制定 安全策略 ， 派遣 安全 任务 ， 对域 内 的 管理 对象 的 安全级别 和 安全性 漏洞 进行 分配 、 管理 和 检查 ； \\n \\u3000 \\u3000 . 对 防火墙 Agent 进行 轮询 收集 安全 管理 信息 ， 将 动态变化 的 安全策略 反映 到 防火墙 Agent 的 安全 控制策略 上 。 \\n \\u3000 \\u3000 . 向 上级 域 安全 管理 Agent 报告 本域 内 重要 的 安全事件 和 涉及 多个 域 的 安全事件 ， 并 接受 上级 Agent 的 配置 ／ 控制 和 有关 软件 、 事务 、 消息 。 \\n \\u3000 \\u3000 由于 安全 域 之间 通过 不可 信任 的 公网 互联 ， 存在 外部 非法 用户 使用 本域 内 网络资源 的 可能 ， 必须 验证 用户 身份 ， 为此 在域 安全 管理 Agent 中 加入 认证 服务 Agent 。 授权 服务 Agent 的 功能 是 对 客户端 访问 进行 授权 工作 。 末端 服务器 将 各个 客户 的 访问 权限 和 安全级别 发给 授权 服务器 ， 由 它 来 负责 分发 授权 票据 给 已经 认证 的 客户 。 如 外部 用户 需 访问 域 内 的 数据库 ， 首先 由 认证 服务 Agent 发 认证 票根 ， 然后 由 授权 服务 Agent 发 授权 票根 ， 协同 防火墙 Agent 一起 对 用户 请求 进行 控制 的 任务 。 授权 服务 Agent 、 认证 服务 Agent 和域 网络安全 管理 Agent 协同 维护 本地 拓扑 信息 表 。 \\n 3 \\u3000 安全 Agent 的 体系结构 \\n \\u3000 \\u3000 域 管理   Agent   中 的 各个 安全 服务器 都 是 以   Agent   的 方式 工作 的 。 这 主要 是 考虑 各类 安全 服务器之间 进行 有效 的 对话 。 Agent   模式 使 各种 服务器 统一 于 一种 平台 、 协议 和 语言 。 Java   虚拟机 \\n ( JVM ) 可以 在 各种 计算机 ( 服务器 、 工作站 、 PC 等 ) 上 建立 单一 的 一致性 应用 程序接口 。 Java 中 的 RMI ( 远程 方法 调用 ) 为 基于 Client / Server 机制 的 对象 间 的 通信 提供 了 解决方案 [ 3 ] 。 因此 ， 这里 将 JVM 和 RMI 引入 了 安全 Agent 的 体系结构 中 ， 如图 3 所示 。 从 安全 域 的 应用 出发 ， 将 Agent 分成 3 层 ： 应用层 、 工作 层 和 通信 层 。 \\n \\n 图 3   安全 Agent 的 体系结构 \\n 3.1   Agent 的 系统 要素 描述 \\n \\u3000 \\u3000 应用层 为 Agent 独自 的 工作 空间 ， Agent 通过 该层 来 完成 分配 给 它 在 其 能力 范围 内 的 安全 服务 工作 。 不同 的 Agent 有 不同 的 能力 和 知识 ， 这样 每个 域 安全 管理 Agent 可以 制定 出 自己 的 安全策略 。 \\n \\u3000 \\u3000 工作 层 提供 与 应用层 的 界面 ， 根据 应用层 传递 的 信息 ， 评估 模块 判断 出 任务 是否 可 由 本地 安全 服务器 Agent 完成 ， 或是 必须 同 其它 安全 域 协同 完成 ， 或是 交付 下 一级 的 安全 服务 Agent 来 完成 。 相应 地 ， 评估 模块 将 任务 交付 下列 模块 分别 处理 ： 本地 模块 、 协作 模块 和 下级 Agent 接口 模块 。 3 个 模块 在 JVM 上 得到 统一 的 工作 平台 ， 通过 RMI 进行 有效 的 对话 ， 从而 协同 完成 安全 服务 。 \\n \\u3000 \\u3000 工作 层 的 结构 比较复杂 ， 对 各个 模块 说明 如下 ： \\n \\u3000 \\u3000 ( 1 ) 本地 模块 ： 完成 落 在 本域 范围 内 的 任务 。 包括 拓扑 机 、 推理机 、 学习机 和 系统安全 数据仓库 。 \\n \\u3000 \\u3000 . 本地 拓扑 机 ： 为 本域 内 客户 Agent 发出 的 资源 请求 或 目标 资源 落 在 本域 内 的 请求 提供 定位 服务 ； \\n \\u3000 \\u3000 . 推理机 ： 利用 已有 的 安全 知识 、 规则 等 ， 对 请求 进行 安全检查 ， 作出 判断 ； \\n \\u3000 \\u3000 . 学习机 ： 把 推理机 得出 的 或 上级 Agent 提供 的 安全 知识 ， 加入 系统安全 知识库 ， 使 系统 具有 一定 的 学习 能力 ， 提高 安全事件 检查 能力 ， 及时发现 网络攻击 事件 ； \\n \\u3000 \\u3000 . 系统安全 知识 仓库 ： 存放 本 Agent 有关 安全 知识 ， 是 Agent 借以 决策 的 依据 。 \\n \\u3000 \\u3000 ( 2 ) 协作 模块 ： 负责 Agent 之间 的 通信 和 交互 ， 向 上级 Agent 报告 本地 的 安全事件 ， 接受 来自 上级 Agent 的 指令 ， 提交 涉及 其他 域 的 请求 。 这些 功能 通过 消息 驱动 机制 来 实现 ， 主要 包括 以下 几 方面 ： \\n \\u3000 \\u3000 . 协作 拓扑 机 ： 定位 本域 用户 发出 的 请求 应落 在 本 Agent 以外 的 哪个 Agent 。 这种 拓扑 服务 需要 上级 Agent 的 拓扑 机 的 协作 ， 其 工作 原理 类似 于 DNS 。 \\n \\u3000 \\u3000 . 信任 域 关系 ： 描述 本 Agent 的 安全 能力 和 级别 ， Agent 间 的 信任 关系 。 \\n \\u3000 \\u3000 ( 3 ) 下级 Agent 接口 模块 ： 为域 安全 管理 Agent 和 被 管理 对象 ( 服务器 、 主机 等 ) 之间 的 通信 提供 接口 。 这 模块 包括 ３ 部分 ： 事件 报 、 软件 分发 ／ 任务 派遣 和 JDBC 。 本 接口 通过 JDBC 访问 数据库 ， 数据库 存放 管理 对象 的 有关 安全 信息 。 通过 事件 报 机制 ， Agent 接收 下级 管理 对象 的 安全事件 报告 。 Agent 通过 软件 分发 ／ 任务 派遣 为 管理 对象 配置 安全策略 ， 分发 升级 软件 ， 实现 对 管理 对象 的 远程 控制 。 Agent 和 下级 管理 对象 间 的 通信 通过 RMI 机制 来 实现 。 通信 层 主要 是 由 TCP / IP 协议 栈 组成 的 。 \\n 3.2   Agent 基本功能 的 实现 \\n \\u3000 \\u3000 ( 1 ) 软件 分发 / 任务 派遣 \\n \\u3000 \\u3000 在 网络安全 系统 中 ， 即使 系统 已经 十分 完善 ， 也 无法 覆盖 所有 的 安全 要求 ； 此外 ， 系统 随着 硬件平台 、 OS 的 升级 也 要 进行 相应 的 软件 升级 。 所以 ， Agent 必需 实现 软件 分发 和 动态 任务 配置 机制 。 通过 独立 于 平台 的 Java 语言 ， 可以 在 异构 网络 环境 下 实现 这个 功能 ： \\n \\u3000 \\u3000 . MOM 将 用 Java 语言 开发 的 安全 服务 软件 和 用 Java 描述 的 安全策略 形式化 文本 编译 后 ， 通过 软件 分发 / 任务 派遣 接口 以 Java 字节 码 形式 发送给 下级 Agent ; \\n \\u3000 \\u3000 . 接收者 收到 的 若 为 分发 软件 ， 则 通过 本地 的 软件 服务 对象 来 完成 新 软件 的 安装 配置 ； \\n \\u3000 \\u3000 . 接收者 收到 的 若 为 动态 任务 ， 则 由 本地 的 软件 服务 对象 解释 执行 它 ， 并 将 执行 的 结果 提交 给 上级 Agent 。 \\n \\u3000 \\u3000 ( 2 ) 多域 通信 \\n \\u3000 \\u3000 RMI 是 Java 中 实现 远程 方法 调用 的 机制 。 RMI 是 基于 TCP 的 ， 所以 比 RPC ( 基于 UDP ) 更 可靠 。 通过 RMI ， Agent 获取 远程 对象 的 指针 、 传送 参数 、 调用 远端 对象 的 服务 方法 。 这样 ， 在 一定 信任 关系 的 控制 下 ， 不同 安全 域 的 管理 Agent 可以 相互 调用 管理 对象 的 方法 ， 如同 调用 本地 方法 一样 ， 从而 实现 多域 通信 。 \\n \\u3000 \\u3000 ( 3 ) 事件报告 \\n \\u3000 \\u3000 Agent 中 的 本地 模块 具备 一定 的 决策 能力 ， 当 它 的 配置 条件 满足 时 ， 可以 认为 发生 了 某种 安全事件 。 这时 本地 模块 触发 事件报告 ， Agent 通过 协作 模块 向 上级 Agent 报告 。 事件报告 机制 相对 于 轮询 而言 ， 可以 减少 网络 的 流量 。 事件报告 的 关键在于 本地 模块 的 系统安全 知识库 的 不断丰富 完善 ， 使 Agent 具备 较 高 的 智能 。 \\n 4 \\u3000 结论 \\n \\u3000 \\u3000 在 开放 的 、 分布式 的 网络 环境 下 ， 网络 安全性 的 问题 日益突出 。 现有 的 网络安全 模型 已 不能 胜任 实际 的 需求 ， 必须 找到 一种 新 的 网络安全 模型 ， 从 理论 上 形式化 地 证明 它 是 安全 的 ， 在 此基础 上 建立 全新 的 网络安全 管理系统 ， 这是 不容置疑 的 趋势 。 Agent 概念 的 引入 ， 使得 本文 构造 的 多域 安全 模型 能 提供 更好 的 自治 性 和 协作性 ， 可以 提供 更 高级 更 有效 的 安全 协作 通信 能力 。 \\n 作者简介 ： 张伟奇 ( 1974 ～ ) ， 男 ， 研究生 ， 主研 方向 ： 网络安全 \\n 作者 单位 ： 上海交通大学 计算机科学 及 工程系 ， 上海 \\u3000 200030 \\n 参考文献 \\n 1   余巍 . 多域 网络安全 体系结构 研究 [ 博士论文 ] . 上海 ： 上海 交通 大通   学 ， 1997 - 10 \\n 2   McKay   D , Pastor   J , McEntire   R   at   el . An   Architecture   for   Information   Agents . In   Advanced   Planning   Technology ( ed .   Austin   Tate ) , The   AAAI   Press , Menlo   Park , CA . , USA , 1996   \\n 3   Heller   P , Roberts   S . Java 高级 开发 指南 . 北京 : 电子 工业 出版社 , 1997 \\n 4   余巍 , 吕葵 , 唐冶文 等 . 分布式 自治 域 的 安全 认证 研究 . 计算机 工程 ,   1998 , 24 ( 6 ) : 38 \\n 收稿 日期 ： 1998 - 12 - 10 \\u3000 修回 日期 ： 1999 - 08 - 13 \\n',\n",
       " '微型机 与 应用 \\n MICROCOMPUTER   &   ITS   APPLICATIONS \\n 2000   Vol.19   No.3   P.17 - 18 , 37 \\n \\n \\n \\n Web 环境 中 的 HTTP 状态 管理 \\n 王华火 \\u3000 罗键 \\n \\u3000 \\u3000 摘 \\u3000 要 ： 如何 在 ASP 中 利用 Application 和 Session 对象 管理 HTTP 的 状态 , 跟踪 用户 在 Web 环境 中 的 工作 期 , 并 给出 了 一个 应用 实例 。 \\n \\u3000 \\u3000 关键词 ： Application 对象   Session 对象   Cookie 文件 \\n \\u3000 \\u3000 在 桌面环境 下 , 操作系统 在 一个 应用程序 从 启动 至 结束 这 段时间 内为 它 管理 内存空间 , 该 应用程序 的 状态 是 明确 的 。 在 Client / Server 环境 中 , 客户端 应用程序 负责管理 用户 的 状态 、 工作 流程 以及 与 用户 的 交互 , 与 Server 的 对话 只 在 执行 特定 的 操作 （ 例如 查询 ） 时 发生 , 且 在 客户机 的 严格控制 下 进行 , 不 存在 状态 和 流程 的 紊乱 问题 。 而 在 Web 中 , HTTP 事务 是 随机 、 独立 、 不 确定 的 , 用户 经常 在 页面 间 、 站点 间 跳转 , 浏览器 无法 保持一致 连续性 和 连接 的 状态 。 如果 服务器 一 提交 完 浏览器 请求 的 Web 页面 后 就 将 用户 遗忘 , 则 当 用户 请求 下 一个 页面 时 , 上 一个 页面 的 信息 便 不可 用 。 而 当 用户 返回 原先 的 页面 时 , 又 需 重新 初始化 该 页面 。 所以 在 Web 中 一个 重要 的 问题 就是 如何 有效 地 管理 HTTP 的 状态 , 使得 在 Web 中 的 畅游 有序 、 轻松 而且 高效 。 Microsoft 利用 ASP 很 好地解决 了 这 一 问题 , 通过 引入 Application 和 Session 对象 , Web 的 状态 由 这 二个 对象 在 服务器端 统一 管理 , 并且 和 服务器程序 运行 于 同一 进程 空间 , 取得 了 安全 上 和 效率 上 的 双重 改善 。 \\n 1   传统 的 解决方案 \\n \\u3000 \\u3000 早期 的 服务器 方 脚本 是 CGI 。 CGI 利用 Cookie 来 管理 HTTP 状态 和 跟踪 用户 。 Cookie 是 1 个 存储 于 浏览器 目录 中 的 文本文件 , 由 Netscape 开发 并 将 其 作为 持续 保存 状态 信息 和 其它 信息 的 一种 方式 。 当 服务器 向 浏览器 返回 Web 页 时 , 同时 将 用户 在 当前 服务器 上 的 状态 和 环境 作为 1 个 Cookie 写入 客户机 。 Cookie 内 包含 其 自身 的 生命期 信息 , 当 用户 下次 重新 请求 该 页面 时 , 浏览器 首先 检查 Cookie 是否 超出 其 生命期 , 若 是 , 忽略 Cookie , 将 对 该 页面 的 请求 当成 第一次 请求 ; 若 尚未 超出 生命期 , 浏览器 把 Cookie 一起 提交 服务器 , 以便 服务器 记忆 起 用户 上次 请求 时 的 状态 信息 。 例如 可以 用 Cookie 来 支持 1 个 基于 CGI 的 购物 系统 , 其中 顾客 选中 的 货物 放进 1 个 虚拟 的 购物 卡片 , 购物 卡片 存储 在 Cookie 中 。 \\n \\u3000 \\u3000 HTTP   Cookie 通过 HTTP 头部 来 实现 , 由 服务器 通过 HTTP 头部 的 Set - Cookie 传送 给 客户机 , 其 语法 如下 : \\n \\u3000 \\u3000 Set - Cookie :   Name = VALUE \\u3000 ;   Expires = DATE \\u3000 ; \\n \\u3000 \\u3000 \\u3000 \\u3000 Env = ENV _ INFO \\u3000 ;   URL = PATH \\u3000 ; \\n \\u3000 \\u3000 \\u3000 \\u3000 Domain = DOMAIN \\u3000 ;   Secure \\n \\u3000 \\u3000 其中 : \\n \\u3000 \\u3000 （ 1 ） Name = VALUE   标识 Cookie 的 名字 \\n \\u3000 \\u3000 （ 2 ） Expires = DATE \\u3000 Cookie 的 生存期 \\n \\u3000 \\u3000 （ 3 ） Env = ENV _ INFO \\u3000 用户 在 服务器 上 的 环境 信息 句柄 \\n \\u3000 \\u3000 （ 4 ） URL = PATH \\u3000 申明 URL 在 哪个 URL 中 有效 \\n \\u3000 \\u3000 （ 5 ） Domain = DOMAIN \\u3000 Cookie 有效 的 全部 Internet \\n \\u3000 \\u3000 \\u3000 \\u3000 \\u3000 \\u3000 \\u3000 \\u3000 \\u3000 \\u3000 \\u3000 \\u3000 \\u3000 \\u3000 \\u3000 域名 子集 \\n \\u3000 \\u3000 （ 6 ） Secure \\u3000 限制 Cookie 由 HTTPS 服务器 传送 \\n \\u3000 \\u3000 由于 Cookie 在 硬盘 上 保存 了 客户 的 信息 , 因而 存在 安全 方面 的 隐患 。 Web 站点 管理员 可以 利用 Cookie 建立 关于 用户 及其 浏览 特性 的 详细资料 。 当 用户 登录 到 1 个 Web 站点 后 , 在 任一 设置 了 Cookie 的 网页 上 的 点击 操作 信息 都 会 被 加到 该 档案 中 , 档案 中 的 这些 信息 暂时 用于 站点 的 维护 , 但 也 容易 被 其他人 窃取 。 Cookie 的 安全性 问题 引起 了 广泛 的 关注 , 目前 主要 的 浏览器 均 提供 了 限制 Cookie 使用 的 方法 。 \\n 2   ASP 中 的 Application 和 Session 对象 \\n \\u3000 \\u3000 Microsoft 提出 了 管理 HTTP 状态 的 全新 方法 , 即 基于 IIS 和 ASP 的 对象 和 组件 模型 。 它 的 宗旨 是 在 Web 服务器 上 保存 用户 的 状态 和 环境 信息 。 这一 动作 由 用户 对 页面 的 申请 触发 , 且 在 一定 的 时间 内 持续 有效 。 在 这 一 模型 中 , Application 和 Session 是 管理 HTTP 状态 的 2 个 主要 对象 。 \\n \\u3000 \\u3000 Application 和 Session 对象 具有 事件 OnStart 和 OnEnd , 它们 的 代码 以 global . asa 文件 的 脚本 的 形式 保存 在 ASP 定义 的 虚拟目录 中 , 在 该 目录 中 还有 Web 页面 （ . asp ） 。 IIS 管理 虚拟目录 , 并且 虚拟目录 是 可 执行 的 。 每当 第一个 用户 请求 页面 时 , IIS 中 的 ISAPI 过滤器 处理 请求 的 页面 , 执行 其中 的 服务器端 脚本 , 结果 以 标准 HTML 的 形式 返回 给 浏览器 , 同时 激活 global . asa 中 的 Application _ OnStart 事件 和 Session _ OnStart 事件 。 Application _ OnStart 事件 初始化 应用 的 一系列 公共 变量 , 保存 必要 的 公共 环境 信息 , 以备 在 本 Application 对象 生存期 的 其它 Session 对象 使用 。 例如 页面 的 用户 请求 计数 、 应用 的 背景 设置 、 数据库 的 公共 连接 对象 等 。 而 Session _ OnStart 事件 则 保存 了 每个 用户 的 私人 环境 , 提供 了 识别 新 用户 的 第一次 操作 的 功能 , 并且 可 用于 初始化 那些 用于 管理 用户 工作 期 的 用户 信息 。 Session 对象 以 少量 的 事件 和 方法 完成 管理 用户 流程 , 系统 级 的 用户 跟踪 和 控制 等 状态 管理 任务 。 \\n 2.1   Application 和 Session 对象 的 工作 期 \\n \\u3000 \\u3000 第一个 用户 请求 某个 Web 页 时 , 激活 Application _ OnStart 和 Session _ OnStart 事件 , 只要 Application 对象 没有 终止 , 即 Application _ OnEnd 事件 没有 被 激活 , 后续 的 客户 请求 均 只 激活 Session _ OnStart 事件 。 如果 用户 在 该 应用 中 停留 的 时间 超过 Session 对象 Timeout 属性 规定 的 值 , Session _ OnEnd 事件 自动 激活 , 清除 该 用户 的 私人 状态 及 环境 信息 。 而 当 最后 一个 用户 超时 结束 会话 时 , Application _ OnEnd 激活 , 清除 应用 的 公共 环境 , 释放 占用 的 服务器资源 。 \\n 2.2   Application 和 Session 对象 的 属性   方法   事件 \\n \\u3000 \\u3000 Lock 和 Unlock   Application 对象 的 锁定 和 解锁 方 \\n \\u3000 \\u3000 \\u3000 \\u3000 \\u3000 \\u3000 \\u3000 \\u3000 \\u3000 \\u3000 \\u3000 \\u3000 \\u3000 \\u3000 法 , 用于 避免 多个 用户 同时 修改 同 \\n \\u3000 \\u3000 \\u3000 \\u3000 \\u3000 \\u3000 \\u3000 \\u3000 \\u3000 \\u3000 \\u3000 \\u3000 \\u3000 \\u3000 一 公共 属性 造成 冲突 , 锁定 后 只 允 \\n \\u3000 \\u3000 \\u3000 \\u3000 \\u3000 \\u3000 \\u3000 \\u3000 \\u3000 \\u3000 \\u3000 \\u3000 \\u3000 \\u3000 许 单个 用户 作 修改 操作 。 \\n \\u3000 \\u3000 SessionID   标识 当前 用户 会话 的 ID 号 。 \\n \\u3000 \\u3000 Timeout   Session 对象 属性 , 设置 会话 生存 \\n \\u3000 \\u3000 \\u3000 \\u3000 \\u3000 \\u3000 期 , 缺省 为 20 分钟 。 \\n \\u3000 \\u3000 Abandon   Session 对象 方法 , 立即 终止 会话 。 \\n \\u3000 \\u3000 OnStart 和 OnEnd   Application 和 Session 对象 装载 \\n \\u3000 \\u3000 \\u3000 \\u3000 \\u3000 \\u3000 \\u3000 \\u3000 \\u3000 \\u3000 和 终止 时 触发 的 事件 \\n \\u3000 \\u3000 以上 是 标准 属性 、 方法 和 事件 , Application 和 Session 对象 允许 自定义 属性 、 方法 和 事件 来 管理 复杂 的 HTTP 状态 。 \\n 3   应用 举例 \\n \\u3000 \\u3000 以下 例子 简要 说明 1 个 在线 阅读 服务 的 HTTP 状态 管理 情况 , 一些 与 本文 无关 的 细节 没有 给出 。 \\n \\u3000 \\u3000 1 . Application _ OnStart 事件 \\n \\u3000 \\u3000 作为 应用 的 初始 装载 事件 , 生成 ADO （ Active   Data   Object ） 连接 对象 , 并 将 连接 对象 定义 为 Application 的 属性 , 以备 以后 每个 用户 的 Session 对象 使用 , 最后 利用 连接 对象 打开 文献数据库 和 用户 信息 数据库 , 同时 保存 其它 一些 公共 状态 信息 。 \\n \\u3000 \\u3000 < SCRIPT   LANGUAGE = VBScript   RUNAT = Server > \\n \\u3000 \\u3000 SUB         Application _ OnStart \\n \\u3000 \\u3000 \\u3000 \\u3000 Set   bookConnect = Server . CreateObject （ ″ ADODB . \\n \\u3000 \\u3000 \\u3000 \\u3000 \\u3000 \\u3000 \\u3000 \\u3000 \\u3000 \\u3000 \\u3000 \\u3000 Connection ″ ） \\n \\u3000 \\u3000 \\u3000 \\u3000 bookConnect . Open （ ″ BOOKS ″ ） \\n \\u3000 \\u3000 \\u3000 \\u3000 Application （ ″ bookConnect ″ ） = bookConnect \\n \\u3000 \\u3000 \\u3000 \\u3000 Set   userConnect = Server . CreateObject （ ″ ADODB . \\n \\u3000 \\u3000 \\u3000 \\u3000 \\u3000 \\u3000 \\u3000 \\u3000 \\u3000 \\u3000 \\u3000 \\u3000 Connection ″ ） \\n \\u3000 \\u3000 \\u3000 \\u3000 UserConnect . Open （ ″ USERS ″ ） \\n \\u3000 \\u3000 \\u3000 \\u3000 Application （ ″ userConnect ″ ） = userConnect \\n \\u3000 \\u3000 \\u3000 \\u3000 Application . Lock \\n \\u3000 \\u3000 \\u3000 \\u3000 Application （ ″ Counter ″ ） = 0 \\n \\u3000 \\u3000 \\u3000 \\u3000 Application （ ″ Date ″ ） = Date （ ） \\n \\u3000 \\u3000 \\u3000 \\u3000 Application （ ″ Time ″ ） = Time （ ） \\n \\u3000 \\u3000 \\u3000 \\u3000 Application . Unlock \\n \\u3000 \\u3000 END   SUB \\n \\u3000 \\u3000 < / SCRIPT > \\n \\u3000 \\u3000 2 . Session _ OnStart 事件 \\n \\u3000 \\u3000 该 事件 首先 使 Application 对象 的 计数器 加 1 , 然后 将 用户 的 状态 信息 保存 到 用户 信息 数据库 , 最后 利用 Application 对象 建立 的 连接 对象 和 用户 请求 的 书 号 从 文献数据库 中 提取 请求 的 书目 。 由于 用户 数据库 中 存储 了 用户 的 信息 , 包括 请求 的 书 号 , 当 用户 暂时 离开 且 在 Session 对象 的 工作 期内 返回 该页 时 , IIS 检索 数据库 即知 用户 请求 了 哪 本书 , 而 无需 用户 重新 请求 。 \\n \\u3000 \\u3000 < SCRIPT   LANGUAGE = VBScript   RUNAT = Server > \\n \\u3000 \\u3000 SUB         Session _ OnStart \\n \\u3000 \\u3000 \\u3000 \\u3000 \\u3000 Application . Lock \\n \\u3000 \\u3000 \\u3000 \\u3000 \\u3000 Application （ ″ Counter ″ ） = Application （ ″ Counter ″ ） + 1 \\n \\u3000 \\u3000 \\u3000 \\u3000 \\u3000 Application . Unlock \\n \\u3000 \\u3000 \\u3000 \\u3000 \\u3000 SessionID = Request . Form （ ″ userid ″ ） \\n \\u3000 \\u3000 \\u3000 \\u3000 \\u3000 Set   userConnect = Application （ ″ userConnect ″ ） \\n \\u3000 \\u3000 \\u3000 \\u3000 \\u3000 SQL = ″ UPDATE   tblUser ″ \\n \\u3000 \\u3000 \\u3000 \\u3000 \\u3000 SQL = SQL   &   ″ SET ″   &   ″ userid = ″   &   Request . Form \\n \\u3000 \\u3000 \\u3000 \\u3000 \\u3000 \\u3000 \\u3000 （ ″ userid ″ ） \\n \\u3000 \\u3000 \\u3000 \\u3000 \\u3000 SQL = SQL   &   ″ SET ″   &   ″ password = ″   &   Request . Form \\n \\u3000 \\u3000 \\u3000 \\u3000 \\u3000 \\u3000 \\u3000 （ ″ password ″ ） \\n \\u3000 \\u3000 \\u3000 \\u3000 \\u3000 SQL = SQL   &   ″ SET ″   &   ″ bookid = ″   &   Request . Form \\n \\u3000 \\u3000 \\u3000 \\u3000 \\u3000 \\u3000 \\u3000 （ ″ bookid ″ ） \\n \\u3000 \\u3000 \\u3000 \\u3000 \\u3000 SQL = SQL   &   ″ SET ″   &   ″ logondate = # ″   &   Date （ ）   \\n \\u3000 \\u3000 \\u3000 \\u3000 \\u3000 \\u3000 \\u3000 &   ″ # ″ \\n \\u3000 \\u3000 \\u3000 \\u3000 \\u3000 userConnect . Executer （ SQL ） \\n \\u3000 \\u3000 \\u3000 \\u3000 \\u3000 Set   bookConnect = Application （ ″ bookConnect ″ ） \\n \\u3000 \\u3000 \\u3000 \\u3000 \\u3000 SQL = ″ SELECT ″   &   Request . Form （ ″ bookid ″ ）   & \\n \\u3000 \\u3000 \\u3000 \\u3000 \\u3000 \\u3000 \\u3000 ″ FROM   tblBook ″ \\n \\u3000 \\u3000 \\u3000 \\u3000 \\u3000 RecordSet = bookConnect . Execute （ SQL ） \\n \\u3000 \\u3000 END   SUB \\n \\u3000 \\u3000 < / SCRIPT > \\n \\u3000 \\u3000 3 . Session _ OnEnd 事件 \\n \\u3000 \\u3000 当 用户 超时 时 触发 , 使 Application 对象 的 计数器 减 1 , 同时 删除 用户 数据库 中 的 相应 记录 , 释放 系统资源 。 \\n \\u3000 \\u3000 < SCRIPT   LANGUAGE = VBScript   RUNAT = Server > \\n SUB   Session _ OnEnd \\n \\u3000 \\u3000 \\u3000 \\u3000 \\u3000 Application . Lock \\n \\u3000 \\u3000 \\u3000 \\u3000 \\u3000 Application （ ″ Counter ″ ） = Application （ ″ Counter ″ ） - 1 \\n \\u3000 \\u3000 \\u3000 \\u3000 \\u3000 Application . Unlock \\n \\u3000 \\u3000 \\u3000 \\u3000 \\u3000 Set   userConnect = Application （ ″ userConnect ″ ） \\n \\u3000 \\u3000 \\u3000 \\u3000 \\u3000 SQL = ″ DELETE   FROM   tblUser ″ \\n \\u3000 \\u3000 \\u3000 \\u3000 \\u3000 SQL = SQL   &   ″ WHERE   userid = ″   &   Session . Ses - \\n \\u3000 \\u3000 \\u3000 \\u3000 \\u3000 \\u3000 \\u3000 sionID   & ″ ; ″ \\n \\u3000 \\u3000 \\u3000 \\u3000 \\u3000 userConnect . Execute （ SQL ） \\n \\u3000 \\u3000 END   SUB \\n \\u3000 \\u3000 < / SCRIPT > \\n \\u3000 \\u3000 4 . Application _ OnEnd 事件 \\n \\u3000 \\u3000 最后 1 个 用户 超时 时 退出 应用 并 关闭 数据库 连接 。 \\n \\u3000 \\u3000 < SCTIPT   LANGUAGE = VBScript   RUNAT = Server > \\n \\u3000 \\u3000 SUB   Application _ OnEnd \\n \\u3000 \\u3000 \\u3000 \\u3000 bookConnect . Close \\n \\u3000 \\u3000 \\u3000 \\u3000 userConnect . Close \\n         \\u3000 END   SUB \\n \\u3000 \\u3000 < / SCRIPT > \\n 4   结束语 \\n \\u3000 \\u3000 ASP 中 Application 和 Session 对象 把 对 HTTP 状态 的 管理 集中 到 服务器端 , 通过 对象 和 组件 的 技术 , 采用 事件驱动 的 方法 , 使得 Web 中 状态 的 管理 简单 、 明晰 且 高效 , 克服 了 传统 方法 的 复杂性 和 不 安全性 , 使得 用户 的 HTTP 状态 清晰 、 连续 , 从而 大大 改善 了 Web 的 性能 。 \\n 王华火 （ 厦门大学 自动化系 \\ue5e4 361005 ） \\n 罗键 （ 厦门大学 自动化系 \\ue5e4 361005 ） \\n 参考文献 \\n 1 ， Chapman   D . Visual   Basic   5   Web 开发人员 指南 . 北京 : 机械 工业 出版社 , 1998 \\n 2 ， S ． 希 利尔 . Active   Server   Pages 编程 指南 . 北京 : 宇航 出版社 , 1998 \\n 3 ， Berlin   D . 精通 CGI 编程 . 北京 : 清华大学出版社 , 1998 \\n 4 ， 张林 . Cookie 的 安全性 及 拒绝 方法 讨论 . 微型机 与 应用 , 1999 ; ( 3 ) \\n 收稿 日期 ： 1999 - 09 - 27 \\n',\n",
       " '计算机 工程 \\n COMPUTER   ENGINEERING \\n 1999 年   第 25 卷   第 12 期   vol.25   No.12   1999 \\n \\n \\n \\n 视图 事务 经历 的 串行化 调度 分析 \\n 焦 \\u3000 容 \\u3000 虞险云 \\u3000 严哲南 \\u3000 陈 金海 \\n 1   串行化 调度 与 数据 一致性 \\n \\u3000 \\u3000 实例 化 视图 ( Materialized   View ) 是 提高 数据仓库 查询 效率 的 重要 技术 。 相比 虚拟 视图 ( Virtual   View ) ， 它们 都 从 数据仓库 数据源 派生 出来 ， 但 在 数据仓库 中有 实例 化 视图 元组 的 物理 存储 ， 而 虚拟 视图 的 元组 分布 在 一些 相关 的 数据源 中 。 实例 化 视图 的 元组 物理 存储 可 加速 访问速度 ， 同时 也 带来 了 数据源 更新 导致 的 视图 数据 不 一致 问题 。 在 许多 数据仓库 应用 中 ， 比如 银行业 、 零售业 等 行业 由于 数据量 非常 大 ， 视图 数据 不 一致 现象 大量 存在 ， 数据 的 一致性 成 了 数据仓库 视图 维护 的 \" 生命线 \" 。 \\n \\u3000 \\u3000 视图 数据 不 一致 的 一个 很 重要 原因 是 多个 数据源 更新 操作 并发 执行 。 如果 能 设法 保证 事务 调度 的 可 串行化 特性 ， 那么 就 能 解决 并发 事务 导致 的 数据 不一致性 问题 。 串行化 调度 的 显著 优点 在于 它 的 执行 的 原子 性 ， 调度 中 的 每 一 事务 操作 都 集中 在 一起 ， 上 一 事务 执行 完后 才 开始 下 一 事务 ， 各 事务 之间 互不 干扰 。 正是 由于 串行 事务 各 事务 彼此 保持 相对 独立 ， 串行 事务 被 取作 数据 一致性 和 正确性 的 标准 。 本文 将 就 实例 化 视图 经历 的 可 串行化 作 一些 探讨 。 \\n 2   实例 化 视图 的 串行化 调度 理论 \\n \\u3000 \\u3000 解决 串行化 调度 问题 ， 我们 会 首先 想到 传统 的 2PL 协议 。 2PL 协议 适用 条件 很 简单 ， 要求 一个 事务 内部 的 所有 加锁 操作 应 在 所有 撤锁 操作 之前 发生 。 不幸 得 很 ， 实例 化 视图 维护 与 数据源 的 更新 操作 相互 勾连 后 ， 2PL 协议 在 解决 实例 化 视图 的 串行化 问题 时 遇到 了 困难 。 对 2PL 协议 加以 扩展 ， 本文 将 提出 一个 新 的 实例 化 视图 的 串行化 问题 。 在 介绍 该 理论 之前 ， 先 简要 介绍 一下 串行化 理论 的 基本知识 。 \\n 2.1   串行化 理论 的 基本知识 \\n \\u3000 \\u3000 实例 化 视图 的 串行化 理论 会 用到 几个 概念 ， 有 必要 严格 定义 几个 概念 。 \\n \\u3000 \\u3000 定义 1 ： 实例 化 视图 经历 可 串行化 并发 事务 经历 可 串行化 当且 仅 当 这些 并发 事务 对 实例 化 视图 产生 的 影响 与 它们 依次 顺序 执行 产生 的 影响 相同 。 \\n \\u3000 \\u3000 定义 2 ： 本地化 谓词 ( Local   Predicate ) \\n \\u3000 \\u3000 我们 知道 ， 视图 一般 用 SQL 语句 来 定义 ， 一句 SQL 语句 实际上 可 看作 一个 谓词 。 那么 所谓 本地化 谓词 就是指 该 谓词 ( 具体来说 即该 SQL 语句 ) 涉及 的 所有 属性 都 来自 同一个 关系 表 。 \\n \\u3000 \\u3000 定义 3 ： 本地化 查询 ( Localized   Query ) \\n \\u3000 \\u3000 考虑 由 SQL 语句 查询 定义 的 任意 一个 视图 V ， 把 该 查询 本地化 以 构建 本地化 查询 视图 V \\' 。 有 两个 步骤 ： \\n \\u3000 \\u3000 1 ) 省略 ： 省略 SQL 中 的 GROUPBY 和 HAVING 子句 ， 以及 SELECT 子句 的 集合 属性 ， 例如 SUM ( ) 、 AVG ( ) 等 属性 。 \\n \\u3000 \\u3000 2 ) 代替 ： 构造 最强 条件 C ， C 中 只 含 两类 谓词 ： 本地 谓词 或 只 涉及 SELECT 子句 中 出现 过 的 属性 的 谓词 。 用 条件 C 代替 原有 WHERE 子句 中 的 条件 。 \\n \\u3000 \\u3000 定义 4 ： 派生 集 ds ( Derivation   Set ) \\n \\u3000 \\u3000 对于 前面 提到 的 本地化 查询 视图 V \\'   ， V 与 V \\' 之间 存在 共同 属性 。 选择 出 V \\' 里面 的 一些 元组 ， 这些 元组 在 共同 属性 上 的 值 与 V 的 元组 这些 属性 值 相等 。 \\n \\u3000 \\u3000 举个 例子 来 直观 说明 以上 一些 定义 。 \\n \\u3000 \\u3000 分析 如下 创建 视图 V 的 SQL 语句 ： \\n \\u3000 \\u3000 CREATE   VIEW   AS \\n \\u3000 \\u3000 SELECT   Stu . StuID , avg ( Score )   FROM   Stu , Tutor , Subject   \\n \\u3000 \\u3000 \\u3000 \\u3000 WHERE   Stu . StuID = Tutor . StuID   and   Tutor . StuID = Subject . \\n StuID \\n \\u3000 \\u3000 \\u3000 \\u3000 and   Subject . Subname = \\' Law \\' \\n \\u3000 \\u3000 GROUPBY   Stu . StuID \\n \\u3000 \\u3000 HAVING   avg ( Score ) > 60 \\n \\u3000 \\u3000 那么 ， 根据 本地化 查询 视图 的 构造 规则 ， 在 构造 强 条件 C 时要 删除 WHERE 子句 中 的 条件 Tutor . StuID = Subject . StuID ， 因为 这个 条件 涉及 两个 关系 表 ， 非 本地化 谓词 。 最终 构造 结果 如下 ：   \\n \\u3000 \\u3000 SELECT   Stu . StuID   FROM   Stu , Tutor , Subject \\n \\u3000 \\u3000 \\u3000 \\u3000 WHERE   Stu . StuID = Tutor . StuID   and   Subject . Subname = \\' Law \\' \\n \\u3000 \\u3000 考虑 视图 V 的 元组 t = ( 13315 ,   90 ) , 13315 是 学号 属性 Stu . StuID 的 值 ， 该 学生 基本 表中 平均分 属性 avg ( Score ) 值为 90 。 派生 集 ds ( t ) 是 以下 3 个 集合 的 并 集 ： \\n \\u3000 \\u3000 . 所有 学 号 ( StuID ) 为 13315 的 Stu 表中 的 元组 集合 \\n \\u3000 \\u3000 . 所有 导师 情况表 ( Tutor ) 中 的 StuID ( 所带 学生 ) 属性 为 13315 的 元组 集合 \\n \\u3000 \\u3000 . 所有 科目表 ( Subject ) 科目 为 法学 ( Law ) 的 元组 集合 。 \\n \\u3000 \\u3000 这样 派生 集 ds ( t ) 就 像是 视图 元组 t 的 晴雨表 。 对 ds ( t ) 的 任何 修改 都 将 影响 到 t ， 触发 系统对 t 做 相应 的 更新 操作 。 \\n 2.2   有效 经历 转化 \\n \\u3000 \\u3000 先 介绍 将 用到 的 几个 记号 。 r , w 表示 对 基本 表 的 读 和 写 ， rV 表示 读 实例 化 视图 的 元组 ， 应 指出 rV 可 等价 地 解释 成读 虚拟 视图 ( Virtual   View ) 的 元组 ， 但 虚拟 视图 中 没有 存储 物理 数据 ， 读 虚拟 视图 也 即 读出 与 虚拟 视图 对应 的 基本 表 关系 中 的 有关 元组 。 此外 ， 用 m [ t ] 表示 对 视图 元组 t 的 维护 操作 ， m [ t ] 相当于 宏 操作 ， 由读 所有 基本 表 ， 更新 每个 数据仓库 视图 这些 操作 组成 。 那么 维护 操作   m 什么 时刻 被 调用 呢 ？ 设想 在 事务 T 中 存在 这样 两个 顺序 操作 ， 先对 派生 集 ds ( t ) 中 的 元组 进行 写 操作 ， 接下来 读 视图 元组 t 。 从 上 面对 ds ( t ) 的 讨论 可以 知道 ， 对 ds ( t ) 中 的 元组 进行 写 操作 实际上 导致 了 视图 元组   t 的 变化 ， 因此 必须 在 这 两个 顺序 操作 中 插入 维护 操作 m 。 具有 这样 特征 的 实例 化 视图 事务 经历 称为 有效 经历 。 \\n \\u3000 \\u3000 可以 想象 ， 如果 把 对 具备 有效 经历 特征 的 实例 化 视图 的 读 操作 转 译成 对 虚拟 视图 的 读 操作 ， 有效 经历 的 串行化 问题 就 转化成 虚拟 视图 经历 的 串行化 问题 。 虚拟 视图 没有 维护 操作 m [ t ] 的 概念 ， 所以 转译 时应 省略 掉 这些 维护 过程 。 \\n 2.3   实例 - 串行化 图 的 构造 \\n \\u3000 \\u3000 定义 5 ： 实例 化 视图 V 的 依赖图 G ( V ) \\n \\u3000 \\u3000 G ( V ) 是 一个 有向图 。 每个 基本 表 关系 和 用于 定义 视图 V 的 其他 视图 都 对应 一个 结点 。 如果 视图 结点 N2 是从 结点 N1 派 生出 的 ， 那么 有 一条 从 N1 指向 N2 的 有 向 边 。 \\n \\u3000 \\u3000 定义 6 ： 虚拟 视图 的 冲突 操作 \\n \\u3000 \\u3000 这里 借鉴 2PL 串行化 理论 的 冲突 操作 概念 ， 如果 虚拟 视图 两个 操作 中有 一个 写 操作 的话 ， 就 定义 这是 一对 冲突 操作 。 虚拟 视图 的 冲突 操作 概念 可用 表 1 定义 。 \\n 表 1   虚拟 视图 冲突 表 \\n \\n \\u3000 r [ u ] rV [ t ] w [ u ] \\n r [ u ] NNY \\n rV [ t ] NNY \\n w [ u ] YYY \\n \\n \\n \\u3000 \\u3000 Y 表示 发生冲突 操作 ， N 表示 无 冲突 操作 。 r [ u ] ， w [ u ] 表示 对 基本 表 元组 t 的 操作 ， rV [ t ] 表示 对 虚拟 视图 的 元组 t 的 读 操作 。 当然 u 应是 派生 集 ds ( t ) 中 的 元素 ， u 的 写 操作 w [ u ] 实际上 引起 了 视图 元组 t 的 变化 ， 所以 在 表 1 中 w [ u ] 和 rV [ t ] 是 一对 冲突 操作 。 在 虚拟 视图 冲突 操作 概念 的 基础 上 ， 下面 提出 实例 - 串行化 图 的 构造 规则 。 实例 - 串行化 图 的 构造 规则 ： \\n \\u3000 \\u3000 1 ) 节点 的 构造 ： 并发 事务 中 的 每个 事务 都 对应 一个 节点 。 \\n \\u3000 \\u3000 2 ) 边 的 构造 ： 如果 Ti 中有 一 操作 先于 Tj 中一 操作 发生 ， 并且 按照 表 1 中 的 冲突 概念 ， 这 两个 操作 是 一对 冲突 操作 ， 那么 有 一条 从 节点 Ti 指向 节点 Tj 的 有 向 边 。 \\n \\u3000 \\u3000 构造 出 实例 - 串行化 图后 ， 可 依据 下面 的 定理 判断 有效 经历 是否 可 串行化 。 \\n \\u3000 \\u3000 定理 ： 一个 有效 经历 是 实例 - 可 串行化 的 当且 仅 当 实例 - 串行化 图是 无环 的 。 \\n \\u3000 \\u3000 限于 篇幅 ， 不 在 本文 给出 该 定理 的 证明 。 但 必须 强调 定理 的 适用 条件 ， 定理 仅 适用 于 实例 化 视图 经历 是 有效 经历 的 情形 。 如果 一个 实例 化 视图 经历 是 无效 经历 ， 这个 实例 化 视图 必定 是 不可 串行化 的 ， 借助 实例 - 串行化 图 的 无 环性 判断 无效 经历 的 可 串行化 没有 任何 意义 。 \\n \\u3000 \\u3000 出现 的 符号 做 一些 说明 ： \\n \\u3000 \\u3000 . rl [ RX ] ： 对 关系 表 R 中 的 元组 X 加读 锁 。 \\n \\u3000 \\u3000 . r [ RX ] ： 读 关系 表 R 中 的 元组 X 。 \\n \\u3000 \\u3000 . wl [ RX ] ： 对 关系 表 R 中 的 元组 X 加写 锁 。 \\n \\u3000 \\u3000 . w [ RX ] ： 写 关系 表 R 中 的 元组 X 。 \\n \\u3000 \\u3000 . u [ RX ] ： 对 关系 表 R 中 的 元组 X 解锁 。 \\n \\u3000 \\u3000 . VX ： 实例 化 视图 V 中 的 一个 元组 ， 这个 元组 由 关系 表 R 、 S 中 的 相关 元组 RX 和 SX 作 连接 操作 得出 。 \\n \\u3000 \\u3000 . VY ： 与 VX 相似 ， VY 从 关系 表 R 、 S 中 的 相关 元组 RY 和 SY 派生 得出 。 \\n \\u3000 \\u3000 作为 判断 视图 串行化 定理 的 一个 应用 ， 表 2 描述 了 一个 实例 化 视图 串行化 调度 过程 。 不难看出 ， 事务 T1 的 解锁 操作 u [ VY ] , u [ RY ] , u [ VY ] 都 在 所有 加锁 操作 之后 发生 。 同样 ， 事务 T2 和 T3 的 解锁 操作 也 在 加锁 操作 之后 发生 ， 因此 并发 事务 T1 、 T2 和 T3 满足 2PL 协议 。 但是 通过 下面 的 分析 ， 我们 发现 该 事务 调度 并非 串行化 调度 。 \\n 表 2   各 时刻 的 事务 执行 情况 \\n \\n 时标 T1T2T3 \\n 1r [ VY ] \\u3000 \\u3000 \\n 2 \\u3000 wl [ SY ] \\n 3w [ SY ] \\n 4wl [ SY ] \\n 5 提交 \\n 6 \\u3000 wl [ RY ] \\n 7w [ RY ] \\n 8u [ RY ] \\n 9 提交 \\n 10m [ VY ] \\u3000 \\n 11r [ VY ] \\n 12r [ VY ] \\n 13u [ SY ] , u [ RY ] , u [ VY ] \\n 14 提交 \\n \\n \\n \\u3000 \\u3000 根据 前面 的 视图 有效 经历 概念 ， 时刻 t3 的 w 操作 、 时刻 t7 的 w 操作 与 时刻 t12 的 r 操作 之间 插入 了 时刻 t10 的 维护 操作 m [ t ] ， 表 2 描述 的 经历 为 有效 经历 。 这样 该 有效 事务 经历 就 可以 适用 可 串行化 定理 了 。 \\n \\u3000 \\u3000 时刻 3 出现 的 事务 T2 含读 SY 的 操作 w [ SY ] ， 后面 时刻 7 事务 T3 包含 写 RY 的 操作 w [ RY ] ， 按照 实例 - 串行化 图 的 构造 规则 ， 在 图 1 中 右半部 出现 了 由 T2 指向 T3 的 弧 。 再 注意 到 在 时刻 1 事务 T1 的 r [ VY ] 和 稍后 的 时刻 3 就 发生 了 T2 的 w [ SY ] 操作 构成 了 一对 冲突 操作 ， 于是 图 1 左 半部 中 可 看到 T1 指向 T2 的 弧 。 在 时刻 7 就 发生 了 T3 的 w [ RY ] 操作 和 时刻 12 事务 T1 的 r 构成 了 一对 冲突 操作 ， 于是 图 1 左 半部 中 可 看到 T3 指向 T1 的 弧 。 实例 - 串行化 图 就 包含 一个 环 ， 从而 该 实例 - 串行化 图是 不可 串行化 的 。 \\n \\n 图 1 有环 依赖图 \\n \\u3000 \\u3000 综合 对表 2 描述 的 实例 化 视图 事务 经历 的 讨论 ， 可以 知道 实例 - 串行化 图是 一种 有效 的 解决 可 串行化 问题 的 策略 。 \\n 2.4   串行化 事务 调度 的 实现 \\n \\u3000 \\u3000 根据 特定 的 需要 ， 数据仓库 的 具体 体系结构 设计 是 相当 灵活 的 。 对 广泛 使用 的 数据仓库 体系结构 - - 斯坦福大学 数据仓库 研究 课题组 ( WareHouse   Information   Project   at   Stanford ,   WHIPS ) 提出 的 WHIPS 结构 作 一些 结构 引伸 ， 我们 提出 一种 改进 的 体系结构 来 支持 视图 可 串行化 特性 ， 如图 3 所示 。 新 结构图 中 增加 了 事务 管理器 这个 新 部件 。 事务 管理器 的 主要 功能 是 ： 集成 器 把 收集 到 的 一系列 更新 信息 发送给 事务 管理器 。 把 有关 更新 操作 组合成 具有 原子 性 的 多个 事务 后 ， 视图 管理器 判断 视图 经历 是否 有效 经历 ， 如果 是 有效 经历 ， 进一步 建立 经历 的 依赖图 ， 判断 其无环性 决定 经历 是否 可 串行化 。 确认 事务 经历 可 串行化 后 ， 把 事务 提交 给 数据仓库 ， 执行 事务 的 实例 化 视图 更新过程 ， 否则 执行 事务 撤回 操作 。 \\n \\u3000 \\u3000 如果 采用 图 2 的 数据仓库 体系结构 判断 出 视图 可 串行化 ， 可 设计 出 事务 调度 的 Seri - Sche 算法 。 先 介绍 算法 中将 涉及 的 专用 术语 ： \\n \\n 图 2   数据仓库 的 新 结构 \\n \\u3000 \\u3000 ( 1 ) source _ evaluate (   ) 函数 ： 计算 查询 Q 的 查询 结果 A 。 \\n \\u3000 \\u3000 1 ) MV ( Materlized   View ) ： 实例 化 视图 ， 有 实在 的 元组 存放 在 数据仓库 中 。 \\n \\u3000 \\u3000 2 ) AL ( Action   Lists ) ： 对 数据仓库 操作 的 动作 列表 。 \\n \\u3000 \\u3000 3 ) pending ( Q ) :   当 调用 source _ evaluate (   ) 过程 处理 查询 Q 时 ， 同时 发生 了 数据 更新 操作 ， 该 更新 操作 被 暂时 放进 集合 pending ( Q ) 中 。 待 查询 Q 处理 完后 ， 再 对 MV 、 AL 作 相应 的 处理 。 \\n \\u3000 \\u3000 4 ) UQS ( Unanswered   query   set ) ： UQS 为 这样 一类 查询 集 ， 这 类 查询 已 发送至 相关 数据源 ， 但 数据仓库 还 没收 到 相应 查询 结果 。 \\n \\u3000 \\u3000 5 ) V <   Ui   > ： 更新 Ui 对 视图 V 的 影响 。 \\n \\u3000 \\u3000 接着 描述 Seri - Sche 算法 ： \\n \\u3000 \\u3000 输入 ： 更新 操作 Ui \\n \\u3000 \\u3000 输出 ： 实例 化 视图 MV 的 最新 状态 \\n \\u3000 \\u3000 伪 代码 ：   \\n \\u3000 \\u3000 \\u3000 对 任一 数据源 x 的 处理 ： \\n \\u3000 \\u3000 1 ) 数据源 完成 数据 更新 Ui 后 ， 把 Ui 发送至 数据仓库 。 \\n \\u3000 \\u3000 2 ) 一旦 收到 Qi 查询 ， 计算 出 当前 数据源 状态 SS [ x ] 下 的 查询 结果 Ai ， 并 发送 Ai 至 数据仓库 。 \\n \\u3000 \\u3000 对 数据仓库 部分 的 处理 ： \\n \\u3000 \\u3000 1 ) AL 初始化 为 空集 \\n \\u3000 \\u3000 2 ) 收到 更新 Ui 的 信息 后 ：   \\n \\u3000 \\u3000 3 ) if   Ui 是 删除 操作 \\n \\u3000 \\u3000 \\u3000 \\u3000 begin \\n \\u3000 \\u3000 4 ) 把 来不及 处理 的 查询 Ui 加到 集合 pending ( Qj ) ; \\n \\u3000 \\u3000 5 ) 把 key _ delete ( MV , Ui )   函数 加 到 动作 列表 集合 AL 中 \\n \\u3000 \\u3000 \\u3000 \\u3000 end \\n \\u3000 \\u3000 6 ) if   Ui 是 插入 操作   begin \\n \\u3000 \\u3000 7 ) 令 Qi ＝ V < Ui >   并且 集合 pending ( Qi ) 保持 原样 \\n \\u3000 \\u3000 8 ) 执行 函数 source _ evaluate ( Qi ) , 且 将 结果 赋值 给 Ai \\n \\u3000 \\u3000 9 ) 对 pending ( Qi ) 中 的 每 一个 元素 Uj ,   执行 键 删除 函数 key _ delete ( Ai , Uj ) \\n \\u3000 \\u3000 10 ) 在 AL 集合 中 加入 insert ( MV , Ai ) \\n \\u3000 \\u3000 \\u3000 end \\n \\u3000 \\u3000 11 ) UQS 为 空集 时 ， 在 MV 上 执行 动作 列表 集合 AL 中 所有 元素 ， 该 执行 操作 为单 事务 操作 。 注意 不要 增加 与 MV 中 相同 的 元组 。 \\n \\u3000 \\u3000 12 ) 动作 列表 集合 AL 置空 \\n \\u3000 \\u3000 \\u3000 End   { of   Seri - Sche 算法 } \\n 3   总结 及 思考 \\n \\u3000 \\u3000 本文 通过 举例 的 方式 导出 了 数据仓库 实例 化 视图 的 串行化 理论 ， 利用 该 理论 来 保证 事务 并发 执行 时 的 数据 一致性 。 我们 主要 做 的 工作 是 在 继承 2PL 协议 的 冲突 操作 概念 的 基础 上 ， 作出 改进 ， 提出 实例 - 串行化 图 的 构造 规则 ， 来 判断 数据仓库 实例 化 视图 的 可 串行 性 。 一个 可 串行化 实例 化 视图 必须 同时 满足 两个 条件 ： 首先 该 实例 化 视图 经历 是 有效 经历 ， 这 是 可 串行化 的 必要条件 。 第二个 条件 是 实例 - 串行化 图是 无环 的 。 \\n \\u3000 \\u3000 可是 ， 数据仓库 实例 化 视图 的 并发 控制 研究 是 一个 很 新 的 课题 ， 值得 研究 的 问题 很多 。 举个 例子 ， 在 对 数据仓库 频繁 做 增加 、 删除 等 更新 操作 ， 却 相对 较少 地 做 读数据 基本 表 操作 情况 下 ， 也就是说 数据仓库 负载 失衡 时 ， 本文 提出 的 实例 化 视图 的 串行化 理论 还 是不是 最佳 的 并发 控制 方法 呢 ？ 本文 远远 谈不上 尽善尽美 ， 如果 能 起到 抛砖引玉 的 作用 ， 我们 的 初衷 就 已 获得 满足 。 \\n 作者 单位 ： 复旦大学 计算机科学 系 ， 上海 200433 \\n 参考文献 \\n 1   Yue   Zhuge , Wiener   J   L , Molina   H   G . Multiple   Consistency   for   DataWarehousing . http : / / db . stanford . edu . cn / zhuge / 1996 / mvc . ps \\n 2   Bernstein   P   A , Hadzilacos   V , Goodman   N . Concurrency   Control   and   Recovery   in   Database   Systems . Addison - wesley , 1987 \\n',\n",
       " '微型机 与 应用 \\n MICROCOMPUTER   &   ITS   APPLICATIONS \\n 1999 年   第 18 卷   第 1 期   Vol.18   No.1   1999 \\n \\n \\n \\n Windows 下 利用 中文 WORD 输出 AUTOCAD 工程图纸 \\n 王纯贤 \\n \\u3000 \\u3000 摘 \\u3000 要 ： 对 AutoCAD 和 WORD 中 几种 图形 格式 及 生成 与 调用 方法 进行 了 比较 ， 给出 了 在 Windows 环境 下 利用 中文 WORD 对 AutoCAD 中 的 工程图纸 进行 汉化 输出 的 实现 方法 。 \\n \\u3000 \\u3000 关键词 ： 图形 格式 \\u3000 WORD 字 处理软件 \\u3000 AutoCAD 绘图 软件 \\u3000 工程图纸 \\n \\u3000 \\u3000 中文 WORD 和 AutoCAD 绘图 软件 都 是 目前 广为 流行 的 Windows 应用软件 。 其中 中文 WORD 具有 强大 的 文字处理 和 表处理 功能 ， 但 它 提供 的 画图 工具 远远 满足 不了 复杂 图形 如 工程图纸 的 绘制 要求 。 AutoCAD 则 以 它 卓越 的 图形 功能 广泛 用于 绘制 各种 工程图纸 和 施工 图纸 ， 但 西文 AutoCAD 不能 输入 汉字 ， 汉化 的 AutoCAD 也 只 适合 于 输入 少量 、 字型 单一 的 汉字 ， 难以 满足 一般 工程图纸 中 输入 各种 汉字 特别 是 数据 表格 的 需要 。 本文 通过 对 AutoCAD 和 WORD 中 图形 格式 、 生成 和 调用 方法 的 比较 ， 根据 工程图纸 的 特点 ， 给出 了 在 Windows 环境 下 ， 通过 WORD 与 AutoCAD 的 数据交换 ， 对 AutoCAD 绘制 的 工程图纸 输入 各种 字型 的 汉字 和 各种规格 的 数据 表格 ， 获得 足够 精确 和 美观 的 工程图纸 的 方法 。 \\n 1 \\u3000 WORD 和 AUTOCAD 图形 格式 、 生成 与 调用 方法 比较 \\n \\u3000 \\u3000 WORD   7.0 和 AutoCAD   R12 兼容 的 图形 格式 主要 有 4 种 ： \\n \\u3000 \\u3000 1 . AutoCAD 图形 格式 ( * . dwg ) 。 这是 AutoCAD 本身 提供 的 以 二进制 形式 存储 的 图形 文件格式 ， 文件 较 小 ， 在 WORD 中 缩放 处理 时 图形 不 失真 ； \\n \\u3000 \\u3000 2 . Windows 位图 ( * . bmp ) 。 这种 格式 在 Windows 下 得到 广泛 的 支持 ， 支持 稀疏 位 图 ， 但 在 WORD 中 进行 缩放 处理 时会 产生 失真 现象 ； \\n \\u3000 \\u3000 3 . Windows 元图 ( * . wmf ) 。 这种 格式 具有 高级 的 性能 描述 ， 文件 比 相应 的 位图 小 很多 ， 在 WORD 中 缩放 时 不 失真 ， 是 Windows 下 与 设备 无关 、 最好 的 1 种 图形 格式 ； \\n \\u3000 \\u3000 4 . 惠普 图形 语言 HPGL 图 ( * . hgl ) 。 这种 格式 易 产生 图形 ， 与 图纸 大小 无关 ， 但 在 AutoCAD 中 生成 很 麻烦 ， 在 WORD 中 处理结果 与 元 图 相同 。 \\n \\u3000 \\u3000 由 以上 比较 可见 ， 利用 WORD 处理 AutoCAD 工程 图形 时 采用 AutoCAD 本身 的 图形文件 和 元 图 格式 最好 。 在 AutoCAD 中 生成元 图 图形 格式 的 方法 有 2 种 ： 文件 方式 和 剪贴板 方式 ， 其生 步骤 分别 为 ： \\n \\u3000 \\u3000 1 . 文件 方式 ： 打开 AutoCAD 软件 绘制 好 工程 图形 ， 选 FILE 项 ， 在 其 下拉菜单 中 选择 Import / Export 项 ， 再 在 其弹 出 菜单中选择 WMF   out … 项 ， 再 按 提示 输入 文件名 或 回车 默认 取原 图形 文件名 ， 之后 可用 矩形框 选择 所 需 的 图形 回车 即可 生成 1 个 扩展 名为 . wmf 的 元 图 文件 。 \\n \\u3000 \\u3000 2 . 剪贴板 方式 ： 打开 AutoCAD 软件 绘制 好 工程 图形 ， 选 EDIT 项 ， 其 下拉菜单 中有 多项 选择 ， 其中 有 2 个 选项 可以 生成元 图 格式 图形 。 如 选择 COPYVECTORS ， 再 按 提示 选择 需 粘贴 的 图形 ， 则 向 剪贴板 上 复制 进 1 个 . wmf 格式 图形 ； 如 选择 COPYEMBED ， 再 按 提示 选择 需 粘贴 的 图形 ， 则 在 剪贴板 上 生成 1 个 具有 OLE ( 对象 链接 与 嵌入 ) 功能 的 . wmf 格式 图形 。 \\n \\u3000 \\u3000 在 WORD 中 调用 元图 图形 格式 AutoCAD 图形 的 方法 也 有 2 种 ： \\n \\u3000 \\u3000 1 . 图片 插入方式 ： 打开 中文 WORD 进入 编辑 状态 ， 把 光标 移到 欲 粘贴 图片 的 位置 ， 然后 下 拉 插入 ［ I ］ 菜单 选择 图片 ［ P ］ 项 ， 之后 按 提示 直接 输入 已 生成 的 图片 文件名 或 在 对话框 中 选择 图片 文件 ， 图片 便 被 插入 到 指定 位置 。 \\n \\u3000 \\u3000 2 . 剪贴板 粘贴 方式 ： 在 WORD 编辑 状态 下 ， 把 光标 移到 欲 插入 图形 的 位置 ， 再 进行 粘贴 操作 ， 剪贴板 上 的 AutoCAD 图形 便 被 粘贴 到 指定 位置 。 \\n \\u3000 \\u3000 在 WORD 中 直接 调用 AutoCAD 本身 的 图形文件 插入 图形 的 方法 是 ： 进入 WORD 编辑 状态 ， 把 光标 移到 欲 插入 图形 的 位置 ， 下 拉 插入 ［ I ］ 菜单 ， 选择对象 ［ O ］ 项 ， 再 按 提示 选择 由 文件创建 ［ F ］ 项 ， 从 列出 的 文件目录 中 选择 所 需 的 * . dwg 文件 ， 再 选择 链接 到 文件 项 即可 调入 该 . dwg 格式 图形 。 该 操作 具有 OLE 功能 ， 因此 系统 将 同时 打开 AutoCAD 供 用户 对 该 图形 修改 。 \\n \\u3000 \\u3000 从 以上 所述 可以 看出 ， AutoCAD 和 WORD 之间 的 数据交换 可以 通过 文件 方式 或 剪贴板 方式 实现 ， 其中 以 剪贴板 方式 最为 灵活 快捷 ， 因此 一般 情况 下应 优先选择 这种 方式 。 另外 ， 剪贴板 方式 使用 COPYEMBED 命令 较 好 ， 其 优点 在于 具有 OLE 功能 ， 允许 用户 直接 在 WORD 中 调用 AutoCAD 进行 图形 修改 。 具体方法 是 先用 鼠标 选中 粘贴 进入 WORD 中 的 图形 ， 再用 鼠标 双击 该 图形 即可 调入 AutoCAD 进行 图形 修改 ， 修改 之后 按 提示 作出 选择 即可 更新 WORD 中 的 图形 。 \\n 2 \\u3000 利用 中文 WORD 对 AutoCAD 工程图纸 汉化 输出 \\n \\u3000 \\u3000 对 工程图纸 的 一般 要求 是 ： ( 1 ) 图面 尺寸 应 符合 比例 ， 图幅 周边 有 图框 线 ； ( 2 ) 在 图面 的 空白处 附注 汉字 说明 ， 如 技术 要求 、 参数 列表 等 ； ( 3 ) 在 图面 右下方 设置 数据 表格 ， 如 标题栏 、 明细 等 ； ( 4 ) 图形 中作 少量 的 汉字 标注 。 根据 这些 要求 ， 在 用 WORD 输出 AutoCAD 工程图纸 时 ， 可以 采用 前面 所述 方法 把 已 绘制 好 的 工程 图形 在 AutoCAD 中 生成 图片 文件 或 复制到 剪贴板 上 ， 再 调用 中文 WORD ， 采用 适当 的 技巧 进行 处理 。 下面 以 COPYEMBED 命令 为例 说明 具体操作 方法 。 \\n \\u3000 \\u3000 第一步 ： 生成 常用 空白 图纸 库 ， 其 目的 是 生成 各种 常用 标准图 幅 的 空白 图纸 备用 。 以 纵向 布置 的 A5 号 图纸 ( 210 × 148 ) 为例 ： \\n \\u3000 \\u3000 1 . 打开 中文 WORD   7.0 ， 在 页面设置 中 设置 纸张 大小 为 A5 号 ， 左 边框 为 2.5 cm ， 上 、 下 、 右边 框均 为 0.5 cm ， 方向 设置 为 纵向 。 \\n \\u3000 \\u3000 2 . 利用 WORD 强大 的 制表 功能 ， 通过 自动 制表 、 手动 制表 、 单元格 合并 操作 ， 建立 1 个 表格 如图 1 所示 。 其中 ( 1 ) 区 主要 用于 放置 图形 ， ( 4 ) 区为 标题栏 ， ( 2 ) 、 ( 3 ) 区则 主要 用于 输入 汉字 。 \\n \\n \\n 图 1 \\u3000 表格 \\n \\u3000 \\u3000 3 . 按 工程 制图 标准 ， 对图 1 进行 单元格 调整 和 实化 图框 线 操作 。 就 本例 而言 ， 把 ( 1 ) 和 ( 2 ) 区 的 总 宽 × 总高 设置 为 18cm × 11cm ， ( 3 ) 区 的 宽 × 高 设置 为 4cm × 2.8 cm ， ( 4 ) 区 标题栏 的 总 宽 × 总高 设置 为 14cm × 2.8 cm ， 标题栏 中 各栏 的 尺寸 设置 方法 与 此 类似 。 实化 图框 线时 ， 画细 边框线 应 把 制表 笔 粗细 设置 为 3 / 4 磅 ( 约 0.27 mm ) ， 画 粗 边框线 时则 应 设置 为 1.5 磅 ( 约 0.53 mm ) 或 2.25 磅 ( 约 0.8 mm ) ， 之后 在 标题栏 内 填好 汉字 ， 即可 得到 如图 2 所示 的 一张 完全符合 国家标准 的 空白 图纸 画面 ， 图中 的 虚线 在 图纸 输出 时 不 显示 。 \\n \\n 图 2 \\u3000 符合 国家标准 的 空白 图纸 \\n \\u3000 \\u3000 4 . 存盘 退出 。 之后 借助于 这个 图纸文件 通过 纸张 大小 设置 和 单元格 调整 操作 即可 很 方便 地 生成 各种 符合 国家标准 尺寸 的 图纸 ， 为 方便管理 和 使用 ， 把 这些 标准 空白 图纸文件 放入 一 专门 子目录 中 形成 1 个 空白 图纸 库 。 \\u3000 \\u3000 \\n \\u3000 \\u3000 第二步 ： 打开 AutoCAD   R12 ， 按 比例 绘制 好 工程图 ， 再 键入 “ DIST ” 命令 ， 得到 图形 左右 端点 距离 X ， 之后 下拉 EDIT 项 ， 从弹 出 菜单中选择 COPYEMBED 命令 ， 再 选取 全部 图形 复制到 剪贴板 上 。 \\n \\u3000 \\u3000 第三步 ： 根据 所 绘制 图形 的 大小 从 第一步 已 建立 的 空白 图纸 库中 复制出 1 个 图幅 大小 合适 的 空白 图纸文件 ， 将 其 文件名 改为 欲 输出 图纸 的 文件名 ， 之后 双击鼠标 将 其 调入 WORD 中 ， 进入 编辑 状态 。 这 一步 相当于 在 图板 上铺 上 1 张 标准 空白 图纸 。 \\n \\u3000 \\u3000 第四步 ： 将 光标 移至 图 2 中 ( 1 ) 区 合适 位置 ， 再 将 剪贴板 上 的 图形 粘贴 进来 。 用 光标 选中 图形 ， 此时 在 图形 周边 出现 8 个 小 方框 ， 将 光标 移至 位于 对角 的 方框 上 ， 出现 双 箭头 时 即可 按 比例 缩放 图形 。 对照 标尺 使 其 宽度 等于 第二步 中 的 X 值 。 \\n \\u3000 \\u3000 第五步 ： 填写 标题栏 ， 在 图 2 中 的 ( 2 ) 区 或 ( 3 ) 区 输入 汉字 说明 。 ( 1 ) 区中 的 汉字 则 可 在 任意 位置 使用 WORD 绘图 功能 中 所 提供 的 文本框 、 垂直 文本框 或 标注 功能 ， 方便 地 输入 各种 大小 、 式样 的 汉字 。 编辑 再 完成 之后 ， 存盘 待 输出 。 \\n 3 \\u3000 结束语 \\n \\u3000 \\u3000 本文 所 介绍 的 方法 简便易行 ， 不需 二次开发 ， 仅 使用 通用软件 和 普通 打印机 就 能 输出 美观 、 汉化 的 工程图纸 ， 适合 于 中小型 企业 特别 是 广大 的 个人 AutoCAD 用户 。 需要 注意 的 是 ， 目前 WORD   7.0 能够 处理 的 纸张 幅面 最大 为 55.87 cm × 55.87 cm ， 因此 无法 直接 输出 超过 此 尺寸 的 大幅面 AutoCAD 工程图纸 ， 但 可以 间接 地 采取 分而治之 的 策略 ， 把 AutoCAD 工程 图形 分成 大小 适当 的 几 部分 分别 调入 WORD 中 ， 再 在 WORD 中 对照 标尺 按 比例 缩小 ， 并 在 图 2 中 的 ( 1 ) 区 和 ( 2 ) 区 合理 调整 各 部分 位置 ， 即可 得到 1 张 按 比例 缩小 的 大幅面 AutoCAD 工程图纸 。 \\u3000 \\u3000 \\n 作者 单位 ： 合肥工业大学 机械 工程系 ( 230009 ) \\n 参考文献 \\n \\u3000 1 \\u3000 侯阳 . 微机 图形 文件格式 集粹 . 北京 ： 学苑 出版社 ， 1993 \\n \\u3000 2 \\u3000 SOEN   F 著 ， 阮红译 . 深入 剖析 AutoCAD   13   for   Windows . 北京 ： 科学出版社 ， 1995 \\n \\u3000 3 \\u3000 STEELE   H 著 ， 宋荣译 . 怎样 使用 Microsoft   Word   for   Windows   95 . 北京 ： 电子 工业 出版社 ， 1996 \\n ( 收稿 日期 ： 1998 - 07 - 12 ) \\n',\n",
       " '计算机 应用 \\n COMPUTER   APPLICATIONS \\n 1999 年   第 19 卷   第 9 期   Vol.19   No.9   1999 \\n \\n \\n \\n 可以 动态 修改 的 数据库系统 \\n 王臻 \\n \\u3000 \\u3000 摘 \\u3000 要 \\u3000 本文 介绍 了 利用 PowerBuilder6.0 的 动态 （ Dynamic ） 数据 窗口 ( DataWindow ) 技术 修改 数据库 的 列 属性 名称 ， 并且 保存 所 做 修改 的 办法 。 \\n \\u3000 \\u3000 关键词 \\u3000 数据 窗口 ， 对象 ， 数据库 \\n \\u3000 \\u3000 在 实际 的 数据库 开发 中 ， 用户 往往 会 有 这样 的 要求 ， 他们 希望 能够 根据 企业 （ 公司 ） 环境 的 变化 实时 对 数据库 的 列 属性 名称 进行 调整 。 这些 调整 的 具体内容 在 数据库系统 的 开发 设计阶段 是 不能 确定 的 。 这 就 要求 数据库系统 有 良好 的 灵活性 和 可扩充性 。 \\n \\u3000 \\u3000 下面 以 PowerBuilder6.0 为 开发工具 ， 介绍 具体 的 实现 方法 。 \\n 1 \\u3000 设计 思想 \\n \\u3000 \\u3000 利用 PowerBuilder6.0 的 动态数据 窗口 ( DataWindow ) 技术 修改 数据库 的 列 属性 名称 。 同时 ， 定义 一个 附加 的 保存 表 ， 将 这些 列 属性 名称 的 修改 信息 保存 在 该表中 。 这样 可以 使 此次 所 做 的 修改 可以 保存 到 下次 修改 为止 。 \\n 2 \\u3000 数据 窗口 的 动态 修改 技术 \\n \\u3000 \\u3000 在 数据 窗口 中 的 列 、 文本 、 按钮 、 图片 都 称为 数据 窗口 对象 （ Dwobject ） ， 它们 都 有 自己 的 属性 。 \\n \\u3000 \\u3000 通过 动态 地 创建 数据 窗口 对象 中 的 对象 、 设置 数据 窗口 对象 的 属性 以及 数据 窗口 对象 中 对象 的 属性 、 访问 数据 窗口 控制 中 的 数据 可以 达到 修改 数据 窗口 外观 的 目的 。 \\n \\u3000 \\u3000 程序 中 访问 数据 窗口 对象 的 方法 有 两个 ： \\n \\u3000 \\u3000 .   使用 describe (   ) ， modify (   ) 函数 \\n \\u3000 \\u3000 下面 语句 获取数据 窗口 中 name 列 背景 颜色 （ background . color ） 属性 值 ： \\n \\u3000 \\u3000 dw — 1 . describe ( \" name .   Background . color \" ) \\n \\u3000 \\u3000 下面 语句 设置 数据 窗口 中 name 列 背景 颜色 为 白色 ： \\n \\u3000 \\u3000 dw — 1 . modify ( \" name .   Background . color = \\n string ( rgb ( 255 , 255 , 255 ) ) \"   ) \\n \\u3000 \\u3000 .   使用 数据 窗口 表达式 \\n \\u3000 \\u3000 数据 窗口 表达式 使用 点 操作符 （ . ） 来 指示 要 访问 的 对象 、 对象 中 的 对象 、 以及 对象 的 属性 。 其 语法 为 ： \\n \\u3000 \\u3000 dwcontrol . object . dwobjectname . \\n {   . object . dwobjectname   . } { . property } = value   \\n \\u3000 \\u3000 下面 语句 设置 数据 窗口 中 name 列 背景 颜色 为 白色 ： \\n \\u3000 \\u3000 dw — 1 . object . name . background . color \\n = rgb ( 255 , 255 , 255 ) \\n \\u3000 \\u3000 以下 设计 过程 使用 的 是 数据 窗口 表达式 方法 。 \\n 3 \\u3000 设计 步骤 \\n 3.1 \\u3000 定义 表 结构 \\n \\u3000 \\u3000 在 PowerBuilder6.0 的 数据库 画笔 （ DataBase   Painter ） 中 定义 表 结构 。 \\n \\u3000 \\u3000 例如 ， 定义 职员 信息 表 （ personnel ） 结构 为   ：   \\n \\u3000 \\u3000 personnel \\n Per — id \\u3000 \\u3000 \\u3000 \\u3000 Char ( 30 ) \\u3000 \\u3000 NOT   NULL \\n Per — name   Char ( 10 ) NOT   NULL \\n Per — departmentChar ( 20 ) NOT   NULL \\n \\u3000 \\u3000 相应 的 header 及 label 名称 为 ： \\n \\u3000 \\u3000 \\u3000 ID 号 \\n \\u3000 \\u3000 \\u3000 姓名 \\n \\u3000 \\u3000 \\u3000 所在 部门 \\n \\u3000 \\u3000 同时 ， 定义 保存 表 （ define ） 结构 为 ：   \\n \\u3000 \\u3000 define \\n Per — id — name \\u3000 \\u3000 \\u3000 \\u3000 \\u3000 \\u3000 Char ( 30 ) NULL \\n Per — name — name   Char ( 10 ) NULL \\n Per — department — nameChar ( 20 ) NULL   \\n \\u3000 \\u3000 相应 的 header 及 label 名称 为 ： \\n \\u3000 \\u3000 \\u3000 第一列 名称 \\n \\u3000 \\u3000 \\u3000 第二列 名称 \\n \\u3000 \\u3000 \\u3000 第三列 名称 \\n 3.2 \\u3000 定义数据 窗口 对象 \\n \\u3000 \\u3000 利用 PowerBuilder6.0 的 数据 窗口 画笔 （ DataWindow   Painter ） 定义数据 窗口 对象 。 \\n \\u3000 \\u3000 .   为 职员 信息 表 （ personnel ） 定义数据 窗口 对象 d — personnel ， PowerBuilder6.0 自动 将列 的 相应 文本 对象 （ 用于 显示 列 的 header 及 label 值 ） 命名 为 : \\n Per — id — t   \\n Per — name — t   \\n Per — department — t \\n \\u3000 \\u3000 可以 通过 修改 这些 文本 对象 的 text 属性 达到 修改 列 属性 名称 的 目的 。   \\n \\u3000 \\u3000 .   为 保存 表 （ define ） 定义数据 窗口 对象 d — define 。   \\n 3.3 \\u3000 设计 用户 操作 窗口 \\n \\u3000 \\u3000 利用 PowerBuilder6.0 的 窗口 画笔 （ Window   Painter ） 定义 窗口 对象 。 \\n 3.3 . 1 \\u3000 定义 职员 信息 窗口 \\n \\u3000 \\u3000 .   定义 职员 信息 窗口 对象 w — 1 ； \\n \\u3000 \\u3000 .   在 窗口 上 放置 数据 窗口 控件 dw — 1 ， 并 将 之 与 数据 窗口 对象 d — personnel 相连接 ， dw — 1 的 显示 属性 设置 为 visible ； \\n \\u3000 \\u3000 .   在 窗口 上 放置 数据 窗口 控件 dw — 2 ， 并 将 之 与 数据 窗口 对象 d — define 相连接 ， 在 窗口 画笔 中将 dw — 2 的 显示 属性 设置 为 invisible 。 \\n \\u3000 \\u3000 W — 1 的 open 事件 的 处理程序 为 ： \\n \\u3000 \\u3000 {   \\n dw — 1 . settransobject ( sqlca ) \\n dw — 2 . settransobject ( sqlca ) \\n / / dw — 2 为 隐藏 的 列 属性 名称 的 保存 表 \\n dw — 1 . retrieve ( ) \\n dw — 2 . retrieve ( ) \\n dw — 1 . object . per — id — t . text = dw — 2 . getitemstring ( 1 , 1 ) \\n dw — 1 . object . per — name — t . text = dw — 2 . getitemstring ( 1 , 2 ) }   \\n dw — 1 . object . per — department — t . text = dw — 2 . getitemstring ( 1 , 3 )   \\n }   \\n \\u3000 \\u3000 .   在 窗口 上 放置 按钮 控件 “ 修改 列 属性 名称 ” （ cb — 1 ） \\n \\u3000 \\u3000 cb — 1 的 clicked   事件 的 处理程序 为 ：   \\n \\u3000 \\u3000 {   open ( w — 2 )   \\n / /   用于 弹出 3.3 . 2 中 创建 的 列 属性 名称 保存 窗口 w — 2 \\n } \\n \\u3000 \\u3000 w — 1 窗口 的 外观 如图 1 。 \\n \\n 图 1 \\n 3.3 . 2 \\u3000 创建 列 属性 名称 保存 窗口 \\n \\u3000 \\u3000 .   创建 列 属性 名称 保存 窗口 对象 w — 2 ； \\n \\u3000 \\u3000 w — 2 的 open 事件 的 脚本 程序 为 ：   \\n \\u3000 \\u3000 {   \\n dw — 2 . settransobject ( sqlca ) \\n dw — 1 . retrieve ( ) \\n }   \\n \\u3000 \\u3000 .   在 窗口 上 放置 数据 窗口 控件 dw — 1 ， 并 将 之 与 数据 窗口 对象 d — define 相连接 。 \\n \\u3000 \\u3000 .   在 窗口 上 放置 按钮 控件 “ 保存 ” （ cb — 1 ） ， cb — 1 的 clicked 事件 的 脚本 程序 为 ： \\n \\u3000 \\u3000 {   \\n if   update ( dw — 1 ) = 1   then   \\n commit   ; \\n messagebox ( \" ok ! \" , \" 成功 保存 ! \" ) \\n else   \\n rollback   ; \\n messagebox ( \" pity ! \" , \" 保存 失败 ! \" ) \\n end   if \\n } \\n \\u3000 \\u3000 w — 2 的 外观 如图 2 。 \\n \\n 图 2 \\n \\u3000 \\u3000 本文 中 利用 PowerBuilder6.0 的 动态数据 窗口 技术 修改 应用程序 的 外观 ， 利用 隐藏 的 数据 窗口 保存 这些 改动 ， 满足 了 用户 的 需求 ； 这种 思路 还 可以 推广 到 其他 应用 中 。 \\n 作者简介 ： 王臻 \\u3000 硕士 研究生 。 主要 从事 计算机 软硬件 环境 、 MIS 及 数据库 应用 系统 的 研究 开发 工作 。 \\n 作者 单位 ： 中国科学院 空间 中心 四室 \\u3000 北京 （ 100080 ） \\n 收稿 日期 : 1999 - 06 - 18 \\n',\n",
       " \"自动化 学报 \\n ACTA   AUTOMATICA   SINICA \\n 1998 年   第 24 卷   第 5 期     Vol.24     No.5   1998 \\n \\n \\n \\n 一种 回归 神经网络 的 快速 在线 学习 算法 \\n 韦 \\u3000 巍 \\n 摘 \\u3000 要 \\u3000 针对 回归 神经网络 BP 学习 算法 收敛 慢 的 缺陷 ， 提出 了 一种 新 的 快速 在线 递推 学习 算法 . 本 算法 在 目标 函数 中 引入 了 遗忘 因子 ， 并 借助于 非线性 系统 的 最大 似然 估计 原理 成功 地 解决 了 动态 非线性 系统 回归 神经网络 模型 权 系数 学习 的 实时性 和 快速性 问题 . 仿真 结果表明 ， 该 算法 比 传统 的 回归 BP 学习 算法 具有 更快 的 收敛 速度 .. \\n 关键词 \\u3000 回归 神经网络 ， 在线 学习 ， 快速 算法 . \\n A   NEW   ON - LINE   RECURSIVE   LEARNING   ALGORITHM   FOR \\n RECURRENT   NEURAL   NETWORK \\n WEI   WEI \\n ( Department   of   Electrical   Engineering ,   Zhejiang   University ,   Hangzhou   310027 ) \\n Abstract \\u3000 In   this   paper   a   new   on - line   recursive   learning   algorithm   for   recurrent   neural   network   is   proposed .   It   overcomes   the   disadvantage   of   the   slow   convergence   of   the   recurrent   BP   algorithm .   The   real - time   learning   ability   and   the   fast   convergence   of   the   recurrent   network   model   of   nonlinear   dynamical   system   have   been   obtained   by   introducing   the   forgetting   factor   in   the   objective   function   and   the   maximum   likelihood   estimation   principle .   Simulation   results   show   that   the   proposed   algorithm   performs   better   than   the   traditional   recurrent   BP   algorithm . \\n Key   words \\u3000 Recurrent   neural   network ,   on - line   learning ,   fast   algorithm . \\n 1 \\u3000 引言 \\n \\u3000 \\u3000 传统 的 前 向 传播 神经网络 在 动态 时序 信号处理 、 非线性 动态 系统控制 等 带有 强 时序 行为 系统 的 应用 中 存在 相当 大 的 困难 . 目前 虽然 有 通过 在 网络 中 引入 时滞 环节 来 描述 系统 的 动态 性能 ［ 1 ］ ， 但是 能够 更 直接 更 生动 地 反映 系统 动态 特性 的 网络 应该 是 动态 神经网络 ， 它 包含 网络 内部 状态 的 反馈 . 回归 神经网络 就是 利用网络 的 内部 状态 反馈 来 描述 系统 的 非线性 动力学 行为 . 构成 回归 神经网络 模型 的 方法 有 很多 ， 但 总 的 思想 都 是 通过 对 前馈 神经网络 中 加入 一些 附加 的 、 内部 的 反馈 通道 来 增加 网络 本身 处理 动态 信息 的 能力 . 例如 根据 状态 信息 的 反馈 途径 不同 可 构成 两种 不同 的 回归 神经网络 结构 模型 ： Jordan 型 ( 如图 1 ( a ) ) 和 Elman 型 ( 如图 1 ( b ) ) . \\n \\n \\n ( a ) Jordan 网络结构 \\u3000 \\u3000 \\u3000 \\u3000 \\u3000 \\u3000 \\u3000 ( b ) Elman 网络结构 \\n 图 1 \\u3000 回归 神经网络 结构 模型 \\n \\u3000 \\u3000 由于 在 回归 神经网络 中 存在 内部 反馈 ， 因此 传统 前馈 网络 的 学习 算法 — — BP 法已 不能 直接 应用 于 回归 神经网络 的 学习 . 1987 年 Pineda 首先 提出 了 回归 神经网络 的 BP 学习 算法 ［ 2 ］ . 遗憾 的 是 Pineda 提出 的 方法 仍然 是 依据 梯度 法来 进行 的 ， 因此 不可避免 地会 产生 局部收敛 和 收敛 速度慢 等 缺陷 . 如何 寻求 一种 快速 的 寻优 算法 来 解决 回归 神经网络 的 学习 问题 已 引起 许多 专家学者 的 关注 . 本文 将 非线性 系统 的 最小 二乘 递推 算法 引 到 回归 神经网络 权阵 的 学习 中来 ， 利用 此 算法 的 实时性 和 快速性 来 解决 神经网络 的 学习 问题 . 依据 回归 神经网络 BP 学习 算法 的 原理 和 方法 来 推导 出 回归 神经网络 的 快速 在线 学习 算法 . 仿真 实验 进一步 证明 了 此 学习 算法 的 有效性 和 快速性 . \\n 2 \\u3000 回归 神经网络 模型 及其 BP 学习 算法 \\n \\u3000 \\u3000 对于 一个 动态 的 目标 序列 tk , tk - 1 , tk - 2 , … , 传统 的 神经元网络 动态 系统 描述 法是 通过 引入 系统 的 先前 输出 yk - 1 , yk - 2 , … , yk - n 等 作为 前向 传播 神经网络 模型 的 输入 信号 ， 从而 来 描述 系统 的 动力学 特性 的 . 最 典型 的 此类 模型 结构 就是 Narendra   K . S . 等 人 提出 的 带 时滞 环节 的 MLP 网络结构 ［ 1 ］ . 显然 ， 引入 过少 的 时滞 环节 即 n 太小 则 不能 描述 具有 高阶 滞后 系统 的 动态 时序 特性 . 另一方面 ， 引入 过大 的 时滞 环节 即 n 太大 ， 则 需要 系统 更 多 的 记忆 单元 来 保持 所有 的 先验 信息 ， 因此 也 是 不 可取 的 . 回归 神经网络 就是 针对 这一 缺陷 而 提出 的 . 它 能 利用 很少 的 记忆 单元 来 描述 任何 系统 的 动力学 特性 . \\n \\u3000 \\u3000 设 Y ， H ， U ， R 分别 表示 m 维 输出 矢量 、 h 维 隐含 单元 的 状态 矢量 、 n 维 输入 矢量 和 r 维 内部 反馈 状态 矢量 ， 则 回归 神经网络 模型 可以 用 如下 方程 来 描述 \\n Yk = Φ ( b + β ′ Hk ) , \\u3000 Hk = Ψ ( c + γ ′ Uk + δ ′ Rk ) , \\u3000 Rk = Λ ( Uk , Rk - 1 , W ) \\u3000 \\u3000 ( 1 ) , ( 2 ) , ( 3 ) \\n 其中 k 表示 第 k 时刻 ， Φ ， Ψ ， Λ 分别 为 输出 神经元 、 隐含 神经元 和 回馈 神经 单元 的 矢量 函数 ， W 为 s 维 的 神经网络 连接 权 系数 阵 ， 包括 ( b , β ' , c , γ ' , δ ' ) . 当取 Rk = Yk - 1 , Hk - 1 ， 0 时 ， 则 此 网络 分别 为 Jordan 、 Elman 、 MLP 网络结构 . \\n \\u3000 \\u3000 由于 引入 了 回归 单元 函数 ( 3 ) ， 可以 实现 对 所有 先验 输入 数据 的 纪录 ； 换言之 ， 回归 神经网络 的 回归 变量 R 能够 依据 网络 输出 Y 或 隐含 单元 的 状态 H 的 信息 用 紧凑 的 形式 来 保留 系统 所有 以前 的 信息 . 由式 ( 3 ) 递推 可 得 \\n Rk = Λ ( U \\ue00c k , Rk - 1 ; W ) = Λ ( U \\ue00c k , Λ ( Uk - 1 , Rk - 2 ; W ) ; W ) = … = Γ ( Uk ; W ) , \\u3000 \\u3000 ( 4 ) \\n 其中 Uk = ｛ U0 , U1 , … , Uk ｝ 为 所有 以前 的 输入 数据 信息 . \\n \\u3000 \\u3000 从 ( 4 ) 式 可以 看出 ， 回归 神经网络 模型 是 最 节约 的 网络 模型 ， 它 无需 存储 所有 的 输入 信息 但 又 能 在 网络 中 反映 出 系统 所有 的 历史 信号 对 当前 系统 响应 的 影响 . 正是 由于 回归 神经网络 的 这 一 特性 使得 其 在 动态 领域 的 应用 具有 很大 的 吸引力 . \\n \\u3000 \\u3000 由 ( 1 ， 2 ) 式 可得 \\n Yk = Φ ( b + β ′ Ψ ) ( c + γ ′ Uk + δ ′ Rk ( W ) ) = F ( Uk , Rk ( W ) ; W ) . \\u3000 \\u3000 ( 5 ) \\n 将式 ( 4 ) 代入 式 ( 5 ) 可以 看出 ， 网络 的 输出 Yk 也 是 系统 过去 所有 输入 Uk - 1 的 函数 . 要 使 这样 的 回归 网络 真正 能 在 实际 中 得到 应用 ， 首先 需要 解决 此类 网络 的 学习 问题 . 与 传统 的 前 向 传播 网络 一样 ， 回归 神经网络 的 学习 指标 函数 仍然 选用 误差 平方和 函数 ， 即 给定 的 样本 输出 空间 Zk , k = 0 , 1 , 2 … \\n \\u3000 \\u3000 ( 6 ) \\n 对于 动态 序列 Zk 的 网络 权 系数 阵 W 的 最优 求解 可 归结为 求 \\n \\u3000 \\u3000 ( 7 ) \\n 其中 E ［ . ］ 表示 数学 期望 . \\n 假设 式 ( 7 ) 的 极限 存在 ， 则 由 最大 似然 估计 法 可知 权 系数 阵 的 更新 公式 为 \\n Wk + 1 = Wk - η k + 1Pk + 1 \\u3000 eTk + 1 . ek + 1 , \\u3000 \\u3000 ( 8 ) \\n 其中 \\n ek + 1 = Zk + 1 - F ( Uk + 1 , Rk + 1 ; Wk ) ， \\u3000 ( 9 ) \\n \\u3000 ek + 1 为 ek + 1 对 参数 阵 W 的 梯度 矢量 . \\n \\u3000 \\u3000 当 Pk + 1 = I 时 ， 即 为 梯度 法 ； 当 Pk + 1 = ETk + 1 . ETk + 1 时 ， 即 为 牛顿 法 . 其中 Ek + 1 = \\n \\u3000 \\u3000 必须 注意 的 是 ， 由于 方程 ( 9 ) 描述 的 误差 矢量 既 是 W 的 显 函数 又 是 Rk + 1 的 函数 即 W 的 隐 函数 . 因此 在 求 梯度 矢量 ek + 1 时 不但 要 考虑 ek + 1 对 W 的 显式 求导 而且 要 考虑 它 的 隐式 求导 . 考虑 了 这些 因素 以后 ， 不难 得出 回归 神经网络 模型 ( 1 - 3 ) 的 BP 学习 算法 ( 见 文献 ［ 3 ］ ) . \\n 3 \\u3000 回归 网络 的 在线 学习 算法 \\n \\u3000 \\u3000 由于 考虑 的 是 动态 系统 ， 因此 在 处理 样本 数据 时应 尽量 加重 最新 的 输入输出 数据 在 网络 建模 中 的 作用 . 与 回归 神经网络 的 传统 BP 学习 算法 指标 函数 不同 的 是 ， 本文 提出 的 改进 算法 采用 遗忘 因子 对 Jk 中 的 各项 拟合 残差 平方 进行 加权 办法 来 提高 动态 模型 的 实时性 . 即取 目标 函数 \\n \\u3000 \\u3000 ( 10 ) \\n \\u3000 \\u3000 如果 Wk 是 满足 目标 函数 ( 10 ) 的 极小解 ， 则 有 \\n . \\u3000 \\u3000 ( 11 ) \\n 假设 最大 似然 估计 k 具备 良好 的 渐近 性质 ， 则 当 k 比较 大时 k 可望 与 真值 W 很 接近 . 因此 在 = k 点 的 附近 e ( l , ) 可 在 k 点 进行 泰勒 展开 ， 并取 一次 项得 \\n \\u3000 \\u3000 ( 12 ) \\n \\u3000 \\u3000 若 再 取得 一组 新 的 观察 数据 Zk + 1 ， 则 可 根据 l = k + 1 时刻 以前 的 全部 观察 ， 得出 使 目标 函数 \\n \\u3000 \\u3000 ( 13 ) \\n 的 极小解 k + 1 . 此时 还 应有 \\n \\u3000 \\u3000 \\u3000 ( 14 ) \\n 由于 k 很大 时 ， k + 1 ≈ k ， 故 按式 ( 12 ) 有 \\n \\u3000 \\u3000 \\u3000 ( 15 ) \\n \\u3000 \\u3000 ( 16 ) \\n \\u3000 \\u3000 利用 式 ( 11 ) ， ( 15 ) ， ( 16 ) ， 对 目标 函数 ( 10 ) 式 进行 求导 得 \\n \\u3000 ( 17 ) \\n \\u3000 \\u3000 将式 ( 15 ) — ( 17 ) 代入 式 ( 14 ) 中可得 \\n \\u3000 \\u3000 ( 18 ) \\n 由式 ( 18 ) 可 得 \\n \\u3000 \\u3000 ( 19 ) \\n \\u3000 \\u3000 引入 变量 \\n \\u3000 \\u3000 \\u3000 ( 20 ) \\n 则 回归 神经网络 的 联结 系数 矩阵 的 更新 公式 为 \\n k + 1 = k - Pk + 1 \\u3000 e ( k + 1 , k ) e ( k + 1 , k ) ， \\u3000 \\u3000 ( 21 ) \\n 其中 \\n \\u3000 \\u3000 ( 22 ) \\n \\u3000 \\u3000 利用 矩阵 反演 公式 可 将 ( 22 ) 式 进一步 简化 ， 从而 可 得出 整个 回归 神经网络 的 快速 在线 学习 算法 \\n \\u3000 \\u3000 1 ) 随机 选取 一个 初始 估计 系数 阵 表示 在 第一步 迭代 时权 系数 阵 按 梯度方向 进行 更新 的 步长 . \\n \\u3000 \\u3000 2 ) k ← 0 . \\n \\u3000 \\u3000 3 ) 取 当前 最新 的 样本 数据 ( Uk + 1 , Zk + 1 ) ， 按 下列 各式 更新 权 系数 阵 \\n Rk + 1 = Λ ( Uk + 1 , Rk ; Wk ) , \\u3000 \\u3000 ( 23 ) \\n e ( k + 1 , k ) = Zk + 1 - F ( Uk + 1 , Rk + 1 , k ) , \\u3000 \\u3000 ( 24 ) \\n k + 1 = Λ W ( Uk + 1 , Rk ; Wk ) + k . Λ R ( Uk + 1 , Rk ; Wk ) , \\u3000 \\u3000 ( 25 ) \\n \\u3000 e ( k + 1 , k ) = - FW ( Uk + 1 , Rk + 1 ; Wk ) - k + 1FR ( Uk + 1 , Rk + 1 ; Wk ) , \\u3000 ( 26 ) \\n γ k + 1 = ［ α Im × m + \\u3000 eT ( k + 1 , k ) Pk \\u3000 e ( k + 1 , k ) ］ - 1 , \\u3000 \\u3000 ( 27 ) \\n Pk + 1 = ［ α Pk - Pke ( k + 1 , k ) γ k + 1eT ( k + 1 , k ) Pk ］ / α , \\u3000 \\u3000 ( 28 ) \\n k + 1 = k - Pk + 1e ( k + 1 , k ) e ( k + 1 , k ) . \\u3000 \\u3000 ( 29 ) \\n \\u3000 \\u3000 4 ) k ← k + 1 , 转 3 ) . \\n 4 \\u3000 仿真 研究 \\n \\u3000 \\u3000 通过 一个 例子 的 仿真 结果 来 评价 本文 提出 的 快速 在线 学习 算法 的 有效性 . 仿真 模型 选用 文献 ［ 4 ］ 中 给出 的 双线性 DGP 模型 ， 即 \\n zk = 0.5 - 0.4 zk - 1 + 0.4 zk - 1uk - 1 + uk , \\u3000 \\u3000 k = 1 , 2 , … , kmax , \\u3000 \\u3000 ( 30 ) \\n 其中 uk 选择 独立 的 随机 序列 N ( 0 ， 2 ) . \\n \\u3000 \\u3000 不难看出 ， 此 系统 的 输出 依赖于 系统 过去 的 所有 信息 . 在 例中 选用 Elman 回归 神经网络 结构 ， 并取 隐含 单元 为 4 . 隐含 神经元 的 激励函数 为 Sigmoid 函数 、 输出 单元 为 线性 函数 . 在 例子 的 仿真 研究 中取 η = 0.02 , α = 0.95 , ρ = 0.68 . W0 ， R0 ， 0 为 0 — 1 之间 的 随机数 . 输入 单元 为 zk - 1 , uk . 当选 用 Elman 回归 神经网络 结构 时其 连接 系数 总共 有 33 个 . 利用 此 神经网络 结构 和 给定 的 动态 模型 进行 仿真 研究 ， 其 仿真 结果 如图 2 ， 图 3 所示 . \\n \\n \\n 图 2 \\u3000 两种 学习 算法 的 平方 误差 曲线 \\n \\n \\n 图 3 \\u3000 两种 学习 算法 的 辨识 结果 \\n \\u3000 \\u3000 图 2 中 的 横座标 表示 迭代 的 次数 ， 纵座标 表示 最近 25 个点 的 平方 误差 均值 . 其中 实线 表示 利用 本 算法 进行 学习 的 平方 误差 收敛 曲线 、 虚线 表示 用 传统 回归 网络 BP 学习 算法 训练 的 平方 误差 收敛 曲线 ； 图 3 表示 最后 一次 迭代 学习 结束 后 的 最近 25 个点 的 系统 响应 曲线 . 其中 横座标 表示 时间 相对值 、 纵座标 为 系统 的 输出 即 实线 表示 动态 模型 的 真实 输出 值 、 点 划线 表示 回归 网络 在线 学习 算法 得出 的 辨识 结果 、 点 线 表示 传统 回归 网络 BP 学习 算法 得出 的 辨识 结果 . 从 仿真 结果 可以 看出 ， 回归 网络 在线 学习 算法 具备 比 传统 回归 BP 算法 更快 的 收敛性 和 更 高 的 辨识 精度 . 回归 网络 在线 学习 算法 在 学习 过程 中 由于 P0 的 正 定性 难以 时时刻刻 得以 满足 ， 因此 不可避免 地 出现 一些 波动 . 在 本 算法 中 采取 了 一些 措施 来 抑制 算法 可能 出现 的 发散 ， 如当 相邻 两次 的 目标 函数 上升幅度 过大时权 系数 的 更新 将 沿 梯度方向 进行 . 矩阵 P0 将 重置 为 对角 阵 . 从而 保证 了 回归 神经网络 在线 学习 算法 能够 正常 运行 下去 . 此外 ， 在 初始 学习 阶段 ， 由于 Wk 远离 真值 W ， 因此 式 ( 12 ) 的 近似 度 受到 严重 影响 . 在 仿真 研究 中 本文 采取 在 初始 的 几步 中 选择 负 梯度方向 进行 搜索 ， 而后 转入 在线 递推 算法 的 训练 和 学习 . \\u3000 \\n 1 ) 国家教委 留学 回国 人员 科研 启动 基金 资助 . \\n 作者简介 ： 韦巍 \\u3000 1964 年 出生 . 1986 年 在 浙江大学 获 硕士学位 ， 1994 年 获 博士学位 . 现为 浙江大学 电机系 副教授 . 近年来 发表 学术论文 20 余篇 . 目前 主要 研究 方向 为 智能 控制 理论 和 应用 、 机器人 控制 . \\n 作者 单位 ： ( 浙江大学 电机系 \\u3000 杭州 \\u3000 310027 ) \\n 参考文献 \\n \\u3000 1 \\u3000 Narendra   K   S ,   Parthasarathy   K . Identification   and   control   of   dynamical   systems   using   neural   networks .   IEEE   Trans .   on   N . N .   1990 ,   1 ( 1 ) : 4 — 27 \\n \\u3000 2 \\u3000 Pineda   F   J .   Generalization   of   back - propagation   to   recurrent   neural   networks .   Physical   Rev . Lett . ,   1987 ,   59 : 2229 — 2232 \\n \\u3000 3 \\u3000 Kuan   C   M ,   Hornik   K ,   White   H .   A   conversgence   results   for   learning   in   recurrent   neural   networks .   Neural   Computation ,   1994 ,   6 ( 2 ) : 420 — 440 \\n 收稿 日期 \\u3000 1996 - 08 - 12 \\n\",\n",
       " \"软件 学报 \\n JOURNAL   OF   SOFTWARE \\n 2000 \\u3000 Vol.11 \\u3000 No.4 \\u3000 P.494 - 501 \\n \\n \\n \\n \\n Ada - I : 支持 保护 对象 继承 的 Ada95 扩充 语言 \\n 陆嘉 \\u3000 温冬婵 \\u3000 王鼎兴 \\n \\u3000 摘要 \\u3000 面向对象 并发程序 设计 语言 能够 帮助 程序员 利用 面向对象 技术 编写 并发程序 , 从而 获得 面向对象 技术 给 软件开发 带来 的 种种 好处 . 然而 ， 由于 继承 异常现象 的 存在 ， 影响 了 并发程序 设计 语言 引入 继承 特性 . Ada95 语言 是 支持 并发程序 设计 的 面向对象 语言 之一 , 但 并 不 支持 保护 对象 的 继承 . Ada - I 语言 在 Ada95 语言 的 基础 上 进行 扩充 , 从而 支持 保护 对象 的 继承 , 并且 避免 了 继承 异常现象 的 出现 . \\n \\u3000 关键词 \\u3000 Ada95 , 保护 对象 , 继承 , 继承 异常 , 面向对象 并发程序 设计 语言 . \\n \\u3000 中图法 分类号 \\u3000 TP312 \\n Ada - I :   An   Extension   Language   Supporting   Inheritance   of   Protected   Objects   Based   on   Ada95 \\n LU   Jia \\u3000 WEN   Dong - chan \\u3000 WANG   Ding - xing \\n （ Department   of   Computer   Science   and   Technology \\u3000 Tsinghua   University \\u3000 Beijing \\u3000 100084 ） \\n Abstract \\u3000 \\u3000 Object - Oriented   concurrent   languages   can   help   programmers   to   develop   concurrent   programs   and   to   gain   benefits   by   using   object - oriented   technology ,   such   as   encapsulation   and   inheritance .   But   inheritance   anomaly   influences   designing   object - oriented   concurrent   languages .   Ada95   is   one   of   the   object - oriented   languages   that   support   concurrent   program   designing ,   but   it   does   not   support   the   inheritance   of   protected   objects .   Ada - I   language   based   on   Ada95   supports   the   inheritance   of   protected   objects ,   and   can   avoid   the   inheritance   anomaly . \\n Key   words \\u3000 Ada95 ,   protected   object ,   inheritance ,   inheritance   anomaly ,   object - oriented   concurrent   language . \\n \\u3000 \\u3000 目前 , 面向对象 技术 在 计算机科学 的 各个领域 上 有 非常 广泛 的 应用 , 出现 了 许多 面向对象 并发程序 设计 语言 , 如 ABCL / 1 , Presto , ACT ++ 等等 . 但 由于 继承 异常 ( inheritance   anomaly ) 现象 , 一些 面向对象 并发程序 设计 语言 不能 很 好 地 支持 代码 复用 , 破坏 了 对象 的 继承性 . 针对 该 问题 , 许多 学者 提出 了 解决方案 ［ 1 ～ 4 ］ . \\n \\u3000 \\u3000 Ada95 语言 是 少数几个 能 支持 并发程序 设计 且 广泛应用 的 高级 语言 之一 . 它 定义 了 任务 ( task ) 类型 , 保护 ( protected ) 类型 , 以及 一系列 支持 并发程序 设计 的 语法 语义 . 在 Ada95 中 , 并发程序 以 任务 对象 和 保护 对象 为 单位 , 通过 任务 对象 和 保护 对象 的 并发 处理 ， 协同 完成 某一 特定 的 计算 和 处理 任务 . 我们 将 Ada95 中 的 任务 对象 和 保护 对象 统一 称为 并发 对象 . \\n \\u3000 \\u3000 虽然 Ada95 已经 在 顺序程序 设计 方面 适应 了 面向对象 程序设计 的 要求 , 支持 继承 、 多态 、 封装 等 典型 面向对象 特性 , 在 并发程序 设计 方面 ， Ada95 中 的 并发 对象 也 具有 了 一些 面向对象 特性 , 如 封装 性 , 但是 , Ada95 并 不 支持 并发 对象 的 继承 , 因此 ， Ada95 还 不能 满足 面向对象 并发程序 设计 的 要求 . \\n \\u3000 \\u3000 因为 Ada95 中 任务 对象 的 语言 描述 框架 与 面向对象 技术 中 的 对象 描述 框架 差异 较大 , 如 任务 对象 之间 可以 通过 数据共享 交互 , 面向对象 技术 中 的 对象 只 通过 消息传递 交互 ， 所以 任务 对象 不易 抽象 出 面向对象 技术 中 方法 的 概念 . 而 Ada95 中 的 保护 对象 的 语言 描述 框架 与 面向对象 技术 中 的 对象 类似 , 比较 容易 引入 继承 的 特性 . 因此 ， 在 本文 中 我们 主要 讨论 保护 对象 的 继承 问题 . \\n \\u3000 \\u3000 在 本文 中 , 我们 基于 Ada95 语言 提出 了 一个 支持 保护 对象 继承 的 扩充 语言 Ada - I , 并 在 该 语言 中 消除 了 继承 异常现象 . \\n 1 \\u3000 继承 异常现象 \\n \\u3000 \\u3000 继承 是 面向对象 程序设计 的 关键 概念 之一 , 是 在 顺序 面向对象 程序设计 中 解决 代码 复用 问题 的 常用 方法 . 当前 , 虽然 许多 面向对象 技术 可以 很 方便 地 引入 到 并发程序 设计 中 , 进行 面向对象 并发程序 设计 , 但是 继承 却 不能 按照 顺序 面向对象 程序设计 中 的 使用 方法 简单 地 引入 并发程序 设计 , 因为 这样 会 导致 继承 异常现象 的 出现 , 也就是说 ， 子类 不能 进行 增量 式 声明 , 也 即 只 声明 父类 中 不 具有 的 变量 、 方法 等 , 而 其他 的 变量 、 方法 从 其 继承 的 父类 中 进行 代码 复用 , 无需 再作 声明 . 当 出现 继承 异常现象 时 , 子类 不仅 要 声明 父类 中 不 具备 的 变量 、 方法 , 而且 不得不 对 父类 中 定义 的 某些 方法 , 甚至 所有 方法 在 子类 中 重新 定义 . \\n \\u3000 \\u3000 在 面向对象 并发 系统 中 , 由于 可以 同时 有 多个 消息 访问 一个 并发 对象 , 对象 之间 的 消息传递 具有 不确定性 , 所以 ， 为了 保证 并发 对象 的 完整性 和 并发 对象 中 数据 的 一致性 , 每个 并发 对象 对 接收 到 的 消息 通常 按照 运行 条件 检查 、 运行 相应 方法 以及 运行 后 相应 的 状态 转换 这 3 个 步骤 来 处理 . 当 并发 对象 的 当前 状态 不 满足 所 接收 消息 的 运行 条件 时 , 并发 对象 则 不 处理 该 消息 , 直到 并发 对象 的 状态 满足 该 消息 条件 为止 . 满足 某个 接收 消息 运行 条件 的 并发 对象 的 所有 状态 称为 该 消息 的 可纳 状态 ( acceptable   states ) . 所有 消息 的 可纳 状态 的 总和 称为 该 并发 对象 的 可纳 状态 集 . \\n \\u3000 \\u3000 Matsuoka 与 Yonezawa 在 文献 ［ 1 ］ 中 分析 了 并发 对象 继承 异常现象 出现 的 原因 , 认为 并发 对象 继承 异常 问题 的 出现 是因为 子类 对象 在 继承 父类 对象 方法 时 增加 的 新 方法 改变 了 父类 对象 的 可纳 状态 集 的 情况 , 又 因为 与 处理 可纳 状态 相关 的 运行 条件 检查和 状态 转换 是 和 对象 的 方法 紧密 相关 的 , 从而 导致 需要 重新 改写 父类 对象 的 方法 , 以 满足 新 的 运行 条件 检查和 状态 转换 的 要求 . 文献 ［ 1 ］ 将 可纳 状态 的 改变 分成 以下 3 类 ： ( 1 )   可纳 状态 集 的 重新 划分 ； ( 2 )   可纳 状态 集 的 历史 相关 ； ( 3 )   可纳 状态 集 的 扩充 与 修改 . \\n \\u3000 \\u3000 下面 , 我们 以类 C++ 的 面向对象 并发程序 设计 语言 对 继承 异常现象 出现 的 原因 作一 简单 介绍 . \\n 1.1 \\u3000 可纳 状态 集 的 重新 划分 \\n \\u3000 \\u3000 由于 每个 并发 对象 的 运行 可以 考虑 为 一系列 的 状态 转换 , 而 每 一个 状态 是 由 并发 对象 的 所有 变量 当前 的 取值 构成 的 . 我们 可以 根据 并发 对象 每 一个 方法 的 可 接收 条件 , 也 就是 相对 应 消息 的 可纳 状态 , 形成 可纳 状态 集 的 一个 划分 . \\n \\u3000 \\u3000 以有界 队列 Buffer 为例 , 有 界 队列 有 两个 基本 方法 , get ( ) 从 队列 中取 一个 元素 , put ( x ) 将 元素 x 放入 队列 . 显然 , 当 队列 元素 个数 为 0 , 即 队列 空时 , get ( ) 不能 运行 , 当 队列 满时 , put ( x ) 不能 运行 . 于是 , 我们 可以 得到 有 界 队列 可纳 状态 集 的 一个 划分 ： empty , partial , full , 相应 为 队列 空 、 队列 半满 、 队列 满 . \\n \\u3000 \\u3000 我们 将 有界 队列 Buffer 作为 基类 , 由 其 派生 一个 新 的 子类 SubBuffer . 在 该 子类 中 , 我们 增加 一个 新 的 方法 get2 ( ) , 即 从 队列 中 取出 两个 元素 . 显然 ， 当 队列 中 元素 个数 为 1 时 , get2 ( ) 不能 运行 , 而 get ( ) , put ( x ) 依然 能够 运行 . 我们 可以 看出 子类 SubBuffer 的 可纳 状态 集与 父类 Buffer 相比 多 了 一个 get2 ( ) 的 可纳 状态 one , 因此 ， 子类 SubBuffer 对 父类 的 可纳 状态 集 进行 了 新 的 划分 ： empty , one , partial , full ， 如图 1 所示 . \\n \\n Fig.1 \\u3000 Repartition   of   acceptable   states   set \\n 图 1 \\u3000 可纳 状态 集 的 重新 划分 \\n \\u3000 \\u3000 我们 可以 看到 , 子类 SubBuffer 重写 了 父类 中 已有 的 方法 , 而 不能 直接 继承 . 这 就 出现 了 继承 异常现象 . \\n 1.2 \\u3000 可纳 状态 集 的 历史 相关 \\n \\u3000 \\u3000 可纳 状态 集 的 历史 相关 指 子类 派生 的 新 方法 与 父类 方法 运行 的 次序 相关 . 例如 , 我们 以有界 队列 Buffer 为 基类 派生 一个 新类 NewBuffer . 这个 新类 中 增加 了 一个 新 的 方法 gget ( ) , 它 的 运行 条件 是 在 它 运行 之前 有 连续 两个 put ( x ) 方法 运行 . \\n \\u3000 \\u3000 如图 2 所示 , 为了 描述 gget ( ) 的 可纳 状态 , 我们 需要 重新 描述 父类 中 的 get ( ) , put ( x ) 等 方法 , 从而 导致 出现 继承 异常现象 . \\n \\n Fig.2 \\u3000 History   relation   of   acceptable   states   set \\n 图 2 \\u3000 可纳 状态 集 的 历史 相关 \\n 1.3 \\u3000 可纳 状态 集 的 扩充 与 修改 \\n \\u3000 \\u3000 对于 子类 SubBuffer 而言 , 它 并 没有 扩充 或 修改 父类 的 可纳 状态 集 , 而 只是 改变 了 可纳 状态 集 的 划分 . 如果 我们 需要 从 基类 Buffer 派 生出 一个 新 的 子类 LockBuffer , 这个 子类 引入 一个 新 的 条件 ： 是否 加锁 . 如果 已经 加锁 的话 , 方法 get ( ) , put ( x ) 不能 运行 ； 如果 没有 加锁 , 则 能 运行 . 这样 , 方法 get ( ) 和 put ( x ) 的 可 运行 条件 就 增加 了 , 也就是说 ， 相应 的 可纳 状态 集 扩充 了 . \\n \\u3000 \\u3000 因为 如果 我们 采用 和 图 1 、 图 2 相同 的 语言 描述 方法 , 将 不会 出现 继承 异常现象 . 为了 说明 问题 , 我们 采用 新 的 语言 描述 方法 , 如图 3 所示 . 在 这种 描述 方法 下 , 父类 的 方法 需要 重新 定义 , 出现 了 继承 异常现象 . \\n \\n Fig.3 \\u3000 Modification   of   acceptable   states   set \\n 图 3 \\u3000 可纳 状态 集 的 修改 与 扩充 \\n \\u3000 \\u3000 从 这个 例子 我们 可以 看到 , 不同 的 语言 描述 方法 , 出现 继承 异常现象 的 原因 也 是 不同 的 . \\n 2 \\u3000 保护 对象 \\n \\u3000 \\u3000 保护 对象 是 Ada95 语言 新 增加 的 语言 成分 , 用来 描述 专门 为 其他 对象 服务 的 并发 对象 . 保护 对象 的 结构 与 程序包 和 任务 的 结构 相似 , 但 其中 的 说明 和体 不同 . 保护 对象 的 说明 部分 给出 访问 权限 , 而体 则 给出 实现 的 细节 . 与 程序包 和 任务 不 一样 的 是 , 保护 对象 的 体 不能 说明 任何 数据 ， 而 只能 说明 子程序 和 实体 . 数据 必须 放在 私有 部分 说明 . \\n \\u3000 \\u3000 保护 对象 可以 由 保护 类型 声明 . 保护 类型 与 保护 对象 之间 的 关系 与 面向对象 语言 中 的 类 与 对象 实例 相同 . 保护 对象 的 操作 分为 保护 子程序 和 保护 入口 , 而 保护 子程序 又 分为 过程 和 函数 . 过程 、 函数 和 入口 分别 由 关键字 procedure , function 和 entry 说明 . 过程 可以 用 任意 方式 访问 私有 数据 , 函数 则 只能 读 私有 数据 , 而 入口 可以 任意 访问 私有 数据 , 但 它 带有 入口 限制 条件 , 只有 在 满足 限制 条件 的 情况 下 ， 保护 对象 才能 运行 相应 的 入口 体 . \\n 3 \\u3000 我们 的 扩充 语言 方案 \\n \\u3000 \\u3000 Ada95 在 顺序程序 设计 方面 支持 面向对象 程序设计 , 支持 继承 、 多态 、 封装 等 典型 的 面向对象 特性 . 而 在 并发程序 设计 方面 , Ada95 不能 全面 支持 面向对象 程序设计 . 任务 对象 、 保护 对象 等 支持 封装 , 但 不 支持 继承 . 由于 保护 对象 的 语言 描述 特性 与 典型 的 面向对象 程序设计 语言 描述 特性 相似 , 例如 ， 数据 的 私有 、 多种 操作 的 独立 描述 . 因此 , 我们 在 Ada95 语言 的 基础 上 , 针对 保护 对象 增加 支持 继承 的 特性 , 设计 了 Ada - I 语言 ， 并且 在 这种 语言 描述 方法 的 基础 上 , 消除 了 继承 异常现象 . \\n 3.1 \\u3000 保护 类型 声明 \\n \\u3000 \\u3000 Ada - I 中 的 保护 类型 声明 与 Ada95 中 的 类似 , 由 类型 说明 和 类型 体 构成 . 在 类型 说明 中 声明 保护 类型 的 可 调用 操作 和 内部 数据 . 在 类型 体中 声明 各个 操作 的 具体 实现 . \\n \\u3000 \\u3000 保护 类型 可以 派生 子 类型 . 为了 使 Ada - I 语言 简单 易懂 , 我们 支持 单 继承 , 而 不 支持 多 继承 . 子 类型 从父 类型 中 继承 父 类型 的 变量 和 操作 . 子 类型 只 定义 不同于 父 类型 的 那些 变量 和 操作 , 一方面 ， 子 类型 可以 增加 父 类型 中 没有 的 变量 和 操作 , 另一方面 , 子 类型 还 可以 重新 定 义父 类型 的 变量 和 操作 . \\n \\u3000 \\u3000 子 类型 声明 在 类型 说明 中 采用 关键字 inherit 来 说明 该子 类型 是从 某个 父 类型 派生 出来 的 . 同时 ， 在 类型 说明 中 声明 父 类型 中 没有 的 变量 和 操作 , 以及 需要 重新 定义 的 操作 . \\n \\u3000 \\u3000 子 类型 的 类型 说明 中 所 提及 的 操作 的 具体 实现 在 类型 体中 加以 声明 . \\n \\u3000 \\u3000 子 类型 声明 的 语言 描述 如下 ： \\n \\u3000 \\u3000 protected   type   〈 子 类型 标识符 〉   inherit   〈 父 类型 标识符 〉   is   — — 类型 说明 \\n \\u3000 \\u3000 \\u3000 〈 父 类型 中 未定义 的 操作 〉 \\n \\u3000 \\u3000 \\u3000 〈 子 类型 重新 定义 的 父 类型 已有 操作 〉 \\n \\u3000 \\u3000 \\u3000 ... \\n \\u3000 \\u3000 private \\n \\u3000 \\u3000 \\u3000 〈 父 类型 中 未定义 的 数据 〉 \\n \\u3000 \\u3000 \\u3000 ... \\n \\u3000 \\u3000 end   〈 子 类型 标识符 〉 \\n 3.2 \\u3000 保护 类型 操作 描述 \\n \\u3000 \\u3000 由于 Ada95 中 原来 的 保护 对象 操作 的 描述 方法 与 图 3 中 的 描述 法相 类似 , 因此 会 导致 继承 异常现象 的 发生 . 为了 消除 继承 异常现象 , 我们 将 改变 保护 对象 原来 的 描述 方法 . \\n \\u3000 \\u3000 因为 保护 对象 中 的 过程 操作 和 入口 操作 具有 一定 的 相似性 , 两者 的 差别 就 在于 过程 操作 没有 运行 条件 检查 , 而 入口 操作 需要 在 运行 前 进行 运行 条件 检查 , 所以 ， 我们 用 不 进行 运行 条件 检查 的 入口 操作 代替 过程 操作 . 于是 ， 在 Ada - I 中 保护 对象 就 有 函数 和 入口 这 两类 操作 . \\n \\u3000 \\u3000 同时 , 我们 将 保护 对象 原来 的 入口 操作 分成 两个 部分 ： 运行 条件 检查和 操作 运行 动作 . 在 Ada - I 中 分别 用 关键字 condition , action 加以 说明 . 我们 可以 将 condition 和 action 理解 成 保护 类型 入口 操作 的 两种 属性 . 属性 condition 是 一个 条件 表达式 , 而 属性 action 是 一系列 动作 . \\n \\u3000 \\u3000 Ada - I 中 保护 对象 入口 操作 的 基本 描述 结构 如下 ： \\n \\u3000 \\u3000 entry   〈 标识符 〉   ( 参数表 )   is \\n \\u3000 \\u3000 begin \\n \\u3000 \\u3000 \\u3000 \\u3000 condition \\n \\u3000 \\u3000 \\u3000 \\u3000 begin \\n \\u3000 \\u3000 \\u3000 \\u3000 \\u3000 \\u3000 〈 入口 条件 表达式 〉 \\n \\u3000 \\u3000 \\u3000 \\u3000 end   condition ; \\n \\u3000 \\u3000 \\u3000 \\u3000 action \\n \\u3000 \\u3000 \\u3000 \\u3000 begin \\n \\u3000 \\u3000 \\u3000 \\u3000 \\u3000 \\u3000 〈 操作 运行 动作 〉 \\n \\u3000 \\u3000 \\u3000 \\u3000 end   action ； \\n \\u3000 \\u3000 end ; \\n \\u3000 \\u3000 当 Ada - I 中 的 保护 对象 入口 被 调用 时 , 保护 对象 首先 检查 入口 条件 表达式 , 如果 条件 表达式 结果 为 真 , 继续执行 action 中 描述 的 运行 动作 ； 否则 , 该 入口 调用 排队 等待 . 其中 的 condition 可以 缺省 . Condition 缺省 表示 入口 条件 永为 真 , 也 就是 不 作 入口 条件 检查 . 用 缺省 condition 描述 的 入口 操作 相当于 Ada95 中 的 过程 操作 . \\n \\u3000 \\u3000 Ada - I 中 保护 对象 的 函数 操作 与 Ada95 中 的 一样 , 没有 运行 条件 检查 , 并且 多个 函数 操作 之间 可以 并发 运行 . \\n \\u3000 \\u3000 以 有界队 列为 例 , 其 描述 如图 4 所示 . \\n \\n Fig.4 \\u3000 Bounded   buffer \\n 图 4 \\u3000 有 界 队列 \\n 3.3 \\u3000 操作 代码 复用 \\n \\u3000 \\u3000 为了 实现 操作 代码 的 复用 , 我们 可以 在子 类型 操作 中 直接 引用 父 类型 的 操作 . 于是 , 我们 引入 描述 父 类型 操作 和子 类型 操作 关系 的 关键字 super , 用以 表示 父 类型 . \\n \\u3000 \\u3000 Super 关键字 可以 用 在 某 一 入口 操作 的 condition 的 声明 部分 , 也 可以 用 在 action 的 声明 部分 . 它 表示 子 类型 的 入口 操作 在 condition 和 action 中 分别 继承 相应 的 父 类型 中 入口 操作 的 相应 部分 . \\n 在 condition 部分 使用 , 其 语言 描述 如下 ： \\n super . 〈 父 类型 操作 标识符 〉 ' condition \\n \\u3000 \\u3000 在 action 部分 使用 , 其 语言 描述 如下 ： \\n super . 〈 父 类型 操作 标识符 〉 ' action \\n \\u3000 \\u3000 在 condition 部分 使用 表示 继承 父 类型 中 某 入口 操作 的 condition 条件 表达式 , 因此 , 该 表达式 可以 与 其他 条件 表达式 进行 一定 的 布尔运算 , 即 可以 进行 与 、 或 、 非 运算 , 分别 用 and , or , not 表示 . \\n 而 在 action 部分 使用 表示 继承 父 类型 中 某 入口 操作 的 action 动作 . \\n \\u3000 \\u3000 在子 类型 中 , 如果 我们 重新 定义 一个 父 类型 入口 操作 , 在 描述 过程 中 需要 将 condition 和 action 两 部分 都 重新 说明 . 如果 缺省 condition 或 action 中 的 一部分 ， 则 表示 相应 部分 从父 类型 中 继承 . \\n \\u3000 \\u3000 我们 以有界 队列 Buffer 和 派生 子 类型 LockBuffer 为例 . 该子 类型 引入 一个 条件 是否 加锁 和 两个 操作 ： 加锁 lock 和 开锁 unlock . 当 队列 被 锁 时 , get 与 put 都 不能 操作 , 直到 队列 被 开锁 . 如图 5 所示 , 我们 在子 类型 LockBuffer 的 condition 中 采用 super . get 和 super . put 来 分别 表示 父 类型 Buffer 的 get 和 put 的 入口 条件 表达式 , 重写 了 get 和 put 的 入口 条件 , 用 缺省 action 表达 了 对父 类型 的 动作 代码 复用 . \\n \\n Fig.5 \\u3000 Locked   bounded   buffer \\n 图 5 \\u3000 加锁 有 界 队列 \\n \\u3000 \\u3000 我们 可以 看到 , 在 Ada - I 中 , 子 类型 可以 最大 限度 地 继承 父 类型 中 的 操作 , 而 不 需要 重新 定 义父 类型 的 操作 . \\n 3.4 \\u3000 消除 继承 异常现象 \\n \\u3000 \\u3000 我们 在 第 1 节 分析 了 出现 继承 异常现象 的 3 个 原因 . Ada - I 可以 有效 地 消除 由 这些 原因 所 引起 的 继承 异常现象 , 从而 提高 代码 复用 的 效率 . \\n \\u3000 \\u3000 因为 在 Ada - I 中 , 保护 对象 操作 的 代码 被 分为 两 部分 ： condition 和 action ， 而 这 两 部分 可以 分别 进行 代码 复用 , 所以 由于 运行 前 检查 条件 变化 引起 的 继承 异常现象 都 可以 通过 重新 定义 操作 中 的 condition 部分 得以 解决 , 无需 重新 定义 操作 的 动作 部分 . \\n \\u3000 \\u3000 可纳 状态 集 的 重新 划分 和 可纳 状态 集 的 扩充 与 修改 都 是 由于 父类 方法 在 子类 中 的 运行 条件 发生变化 而 引起 的 , 因此 ， 如图 5 所示 , 我们 在 Ada - I 中 可以 消除 可纳 状态 集 的 扩充 与 修改 所 引起 的 继承 异常现象 . 如图 6 所示 , 我们 可以 消除 可纳 状态 集 的 重新 划分 所 引起 的 继承 异常现象 . 对于 可纳 状态 集 的 历史 相关 引起 的 继承 异常现象 , 如图 6 所示 , 我们 可以 将子 类型 中 操作 的 action 部分 分成 两个 步骤 . 第 1 步 ， 通过 super 引用 父 类型 操作 , 第 2 步 ， 对 引入 的 新 变量 进行 处理 . 这样 , 我们 可以 复用 父 类型 中 操作 的 condition 部分 代码 和 action 部分 代码 , 而 不必 再 将 这些 代码 在子 类型 中 重写 一遍 . \\n \\n Fig.6 \\u3000 Bounded   buffer   for   get2 \\n 图 6 \\u3000 增加 get2 的 有界 队列 \\n \\n Fig.7 \\u3000 New   bounded   buffer   \\n 图 7 \\u3000 新有界 队列 \\n \\u3000 \\u3000 从 上面 的 简单 分析 和 例子 我们 可以 看出 , 在 Ada - I 中 的 保护 类型 ( 对象 ) 继承 可以 消除 继承 异常现象 , 或者说 可以 最大 限度 地 进行 代码 复用 . \\n 4 \\u3000 小 \\u3000 结 \\n \\u3000 \\u3000 面向对象 并发程序 设计 语言 能够 帮助 程序员 利用 面向对象 技术 编写 并发程序 , 从而 获得 面向对象 技术 给 软件开发 带来 的 种种 好处 . 然而 ， 由于 继承 异常现象 的 存在 ， 影响 了 并发程序 设计 语言 引入 继承 特性 . \\n \\u3000 \\u3000 Ada95 语言 是 支持 并发程序 设计 的 面向对象 语言 之一 , 但 并 不 支持 保护 对象 的 继承 . 我们 在 Ada95 语言 的 基础 上 设计 了 Ada - I 语言 . 它 支持 保护 对象 的 继承 , 并且 避免 了 继承 异常现象 的 出现 . \\n \\u3000 \\u3000 Ada - I 语言 将 保护 类型 的 入口 操作 分为 运行 条件 描述 和 运行 动作 两 部分 . 这 两 部分 作为 入口 操作 的 两种 属性 ， 可以 在子 类型 中 加以 引用 . 这为 程序员 提供 了 灵活 、 易用 的 描述 手段 以 进行 面向对象 并发程序 设计 . \\n 陆嘉 （ 清华大学 计算机科学 与 技术 系 \\u3000 北京 \\u3000 100084 ） \\u3000 \\n 温冬婵 （ 清华大学 计算机科学 与 技术 系 \\u3000 北京 \\u3000 100084 ） \\u3000 \\n 王鼎兴 （ 清华大学 计算机科学 与 技术 系 \\u3000 北京 \\u3000 100084 ） \\n 参考文献 \\n 1 ， Matsuoka   S ,   Yonezawa   A .   Analysis   of   inheritance   anomaly   in   object - oriented   concurrent   languages .   In :   Agha   G ,   Wegner   P ,   Yonezawa   A   eds .   Research   Directions   in   Concurrent   Object - Oriented   Programming .   Cambridge ,   MA :   MIT   Press ,   1993 .   107 ～ 150 \\n 2 ， Neusius   C .   Synchronizing   actions .   In :   America   P   ed .   Proceedings   of   the   ECOOP ' 91 .   Berlin :   Springer - Verlag ,   1991 .   118 ～ 132 \\n 3 ， Meseguer   Jos é .   Solving   the   inheritance   anomaly   in   concurrent   object - oriented   programming .   In :   Nierstrasz   O   ed .   Proceedings   of   the   ECOOP ' 93 .   Berlin :   Springer - Verlag ,   1993 .   220 ～ 246 \\n 4 ， Frolund   S .   Inheritance   of   synchronization   constraints   in   concurrent   object - oriented   programming   languages .   In :   Madsen   O   ed .   Proceedings   of   the   ECOOP ' 92 .   Berlin :   Springer - Verlag ,   1992 .   185 ～ 196 \\n\",\n",
       " '自动化 学报 \\n ACTA   AUTOMATICA   SINICA \\n 1998 年   第 24 卷   第 4 期   Vol.24   No.4   1998 \\n \\n \\n \\n \\n 基于 分形 理论 的 一种 图象 分割 方法 1 ) \\n 刘文萍 \\u3000 吴 立德 \\n 摘 \\u3000 要 \\u3000 介绍 了 一种 基于 分形 特征 进行 人造 目标 分割 的 方法 . 它 是 用 分形 模型 描述 自然 场景 ， 基于 人   造 目标 和 自然 背景 在 分形 特征 上 的 差别 ， 并 利用 概率 松弛 的 思想 增强 这种 差异 ， 从而 自 适应 分割 出 目标 图象 . 实验 结果 验证 了 这种 方法 的 有效性 和 可行性 . \\n 关键词 \\u3000 分形 ， 图象 分割 ， 概率 松弛 . \\n A   METHOD   FOR   IMAGE   SEGMENTATION   BASED   ON   FRACTAL   THEORY \\n \\n LIU   WENPING   WU   LIDE \\n ( Dept . of   Computer   Science , Fudan   University , Shanghai   200433 ) \\n Abstract   Based   on   fractal   characters , a   method   for   segmenting   man － made   objects   is   presented , in   which   fractal   model   is   used   to   describe   the   n   atural   background . The   difference   between   man － made   objects   and   the   natural   scene   in   fractal   characters   is   enhanced   by   using   the   probabilistic   relaxation , and   the   difference   is   also   employed   to   segment   man － made   objects   adaptively . Experiments   have   shown   the   effectiveness   and   feasibility   of   the   approach . \\n Key   words   Fractal , image   segmentation , probabilistic   re   laxation . \\n 1 \\u3000 引言 \\n \\u3000 \\u3000 图象 分割 是 图象处理 中 的 关键技术 ， 目前 的 分割 方法 大都 利用 人造 目标 及 自然 背景 之间 的   灰度 及 几何 特性 上 的 差异 ， 从 自然 景物 中 提取 目标 . 但 由于 实际 成 象 条件 和 环境 等 因素 的 影响 ， 通常 所 摄取 的 图象 中 上述 特性 发生 了 变化 ， 基于 这些 差别 进行 分割 ， 势必会 造成 较 高 的 错 分率 和 漏检 率 . 因此 ， 如何 在 不同 的 自然环境 下 分割 出 人造 目标 ， 仍然 是 人们 不断 探索 的 课题 . \\n \\u3000 \\u3000 分形 理论 的 创立 为 图象 分割 技术 开辟 了 新 的 途径 ［ 1 ］ ， 但 由于 实际 环境 变化 、 不同 目标 类型 等 因素 的 影响 ， 传统 的 基于 分形 理论 的 图象 分割 方法 ， 用于 实际 图象 所 取得 的 效果 并 不 理想 . 本文 在 基于 分形 特征 用于 人造 目标 图象 分割 的 基础 上 ， 利用 松驰 法 改善 分割 性能 ， 获得 了 较 好 的 实验 结果 . \\n 2 \\u3000 分形 模型 及 特征参数 提取 \\n \\u3000 \\u3000 本文 选择 一种 公认 较 好 的 描述 自然 背景 的 模型 - - 分数 布朗 随 机场   FBR ［ 1 ］ ， 下面 先对 有关 概念 作一 简述 ［ 1 ， 2 ］ . \\n \\u3000 \\u3000 定义 1 . \\u3000 设   0 ＜ H ＜ 1 , b0 为 任意 实数 ， 随机 过程 满足 \\n \\n 称 BH ( t ) 为 分数 布朗运动 ( Fractional   Brownian   Motion , 简记 为   FBM ) . H 为 分形 参数 ， H = 0.5 时为 通常 的 布朗运动 ， b0 为 初始值 . FBM 是 一个 非 平稳 的 自 仿射 随机 过程 ， 即 对 c , BH ( ct ) - BH ( 0 ) ≈ cH ｛ BH ( t ) - BH ( 0 ) ｝ . \\n \\u3000 \\u3000 TH 定律 . \\u3000 设   BH ( t ) 为 分数 布郎 运动 ( 均值 为 0 ) ， 则 其 满足 \\n E ｜ ［ BH ( t + T ) - BH ) ］ ｜ = CHTH , \\n E ｜ ［ BH ( t + T ) - BH ( t ) ］ 2 = CHT2H , \\n 其中   CH   为 一 常数 . 该 定律 表明   FBM   场 增量 的 一 、 二阶 绝对 矩 具有 各向同性 . \\n \\u3000 \\u3000 定义 2 . \\u3000 如果 对 任意 t , T , 随机 函数   B ( t ) 满足 \\n \\n 称 B ( t ) 为 分形 布朗 随机 函数 ， F ( y ) 为 零 均值 随机变量 的 分布 函数 . \\n \\u3000 \\u3000 分形 模型 满足 性质 \\n A ( r ) ～ r2 - D , \\u3000 \\u3000 ( 1 ) \\n 其中 D 为 分维 数 ， A ( r ) 是 尺度 为 r 时分 形 布朗 函数 的 表面积 . \\n \\u3000 \\u3000 Mandelbrot 基于 性质 ( 1 ) 提出 了 一种 计算 分形 维数 的 思想 ［ 3 ］ ， 将 图象 视为 一座 山丘 ， 高度 为 图象 的 灰度 值 ， 在 距 该 表面 为 ε 的 两侧 形成 了 一厚 为 2 ε 的 毯子 ( 图 1 ) ， 表面积 \\n A ( ε ) = F ε 2 - D , \\u3000 \\u3000 ( 2 ) \\n 则 \\u3000 \\u3000 \\u3000 \\u3000 \\u3000 \\u3000 \\u3000 \\u3000 \\u3000 \\u3000 \\u3000 logA ( ε ) = c1   log ε + c0 ， \\u3000 \\u3000 \\u3000 \\u3000 \\u3000 ( 3 ) \\n 其中   c1 = 2 - D   为 图 2 拟合 直线 的 斜率 ， 并 进而 求 出 分形 维数 D . 具体 算法 如下 ： \\n \\u3000 \\u3000 设 毯子 的 上 、 下 表面 分别 为 u ε , b ε ， 灰度 函数 为 g ( i , j ) , u0 ( i , j ) = b0 ( i , j ) = g ( i ,   j ) ， 对 所有 ε = 1 , 2 , 3 ， … ， 定义 \\n \\n 式 中   d ( i , j , m , n ) 为点 ( i , j ) 和 ( m , n ) 之间 的 距离 . \\n \\n \\n 图 1 \\u3000 “ 毯子 ” 示意图 \\n \\n \\n 图 2 \\u3000 直线 拟合 求 D \\n \\u3000 \\u3000 毯子 的 体积 , 表面积 A ( ε ) = ( v ε - v ε - 1 ) / 2 ， 求 不同 ε 对应 的 表面积   A ( ε ) ， 再 由 ( 3 ) 式 得 拟合 直线 斜率 2 - D ， 进而 得到 分形 维数 D . \\n 3 \\u3000 分形 用于 图象 分割 及其 改进 方法 \\n \\u3000 \\u3000 基于 分形 特性 的 图象 分割 方法 的 步骤 如下 ： \\n \\u3000 \\u3000 1 ) 对 一幅   N × N   的 图象 ， 从 图象 的 起点 开始 ， 沿 水平 和 垂直 方向 滑动 - - M × M 的 窗口 ， 计算 窗口 内 图象 的 分形 维数 作为 窗 中心点 处 图象 的 分形 特征值 . 利用 上述 算法 ， 求取 输入 的 灰度 图象 中 各点 的 局部 分形 维数 ， 得到 分维 数 分布 图象 ， 简称 分形 图象 . \\n \\u3000 \\u3000 2 ) 由于 自然 背景 符合 DFBR 场 模型 ， 有 2 ＜ D ＜ 3 ； 人造 目标 不 具有 统计 意义 上 的 自 相似性 ， 不 满足 分形 模型 ， 所得 的 分形 维数 可能 小于 2 ， 利用 这种 分形 特征 差异 来 区分 自然 背景 和 人造 目标 ， 是 基于 分形 理论 分割 人造 目标 的 基本 思想 . \\n \\u3000 \\u3000 实际 的 自然 景物 并 不是 完全 自 相似 的 理想 分 形体 ， 加上 图象 采集 装备 和 采集 过程 中 各 因素   的 影响 ， 仅 根据 分形 维数 区分 目标 和 景物 并 不 可靠 ， 还 需 做 进一步 的 处理 . 将 分维 数   D   图象   归一化 后 影射 成分 形 灰度 图象   \\ue15f ， 然后 将 \\ue15f 作为 输入 ， 利用 概率 松弛法 增强 背景 和 目标 的   分形 特征 差异 ， 最后 用 固定 阈值 进行 分割 . \\n \\u3000 \\u3000 有关 松弛法 的 算法 较 多 ， 本文 采用 梯度 松弛法 ［ 4 ］ ， 它 是 根据 最大 梯度 优化 准则   函数 来 确定 松弛 迭代 过程 的 . 按 梯度 投影 法 导出 概率 迭代 公式 \\n P ( n + 1 ) i ( λ k ) = P ( n ) i ( λ k ) + ρ ( n ) i ( 2qi ( λ k ) - 1 ) , k   = 1 , 2 . \\n 其中 λ 1 和 λ 2 分别 为 具有 高 和 低 D 值 ( 背景 和 目标区 ) 的 象素 类 的 标记 ； \\n \\u3000 \\u3000 \\u3000 \\u3000 ｛ ［ pi ( λ 1 ) , pi ( λ 2 ) ］ T , i = 0 , 1 , … ， 255 ｝ 是 与 灰度 有关 的 概率 向量 集 ； \\n \\u3000 \\u3000 \\u3000 \\u3000 ｛ ［ qi ( λ 1 ) , qi ( λ 2 ) ］ T , i = 0 , 1 , … ， 255 ｝ 是 相容 向量 集 . 实际上 ， qi ( λ k ) 是 象素 xi 邻域 中 各 象素 概率 的 均值 ， 即 \\n \\n \\u3000 \\u3000 参数 a1 ， a2 及 概率 初值 可 控制 松弛 过程 . 实验 中 发现 ， 松弛法 仅 需 几次 迭代 ， 就 可用 一 固定 概率 阈值 来 分离 所 对应 的 人造 目标 和 背景 区域 . \\n 4 \\u3000 实验 结果 及 分析 \\n \\u3000 \\u3000 我们 对 38 幅 实际 图象 进行 了 仿真 实验 . 在 具体 实现 中 注意 到 以下 三点 ： \\n \\u3000 \\u3000 1 ) 滑窗 大小 的 选取 . 如果 窗过 大 ， 则 影响 运算 速度 和 直线 拟合 的 精度 ； 过 小 ， 则 不能 准确 地 反映 图象 的 统计 特性 ， 实验 中窗 大小 为 9 × 9 ； \\n \\u3000 \\u3000 2 ) 尺寸 ε 的 取值 范围 . 理论 上 分形 具有 尺度 不变性 ， 在 所有 尺度 上均 满足 自 相似性 ， 但 实际 的 自然 场景 仅 在 一小 尺度 范围 上 呈现 分形 特征 ， 实验 中 取值   1 ≤ ε ≤ 9 ； \\n \\u3000 \\u3000 3 ) 概率 松弛 过程 中 概率 初值 的 选择 . 实验 按下式 赋 初值 ， \\n \\n \\u3000 \\u3000 其中 i , I 分别 表示 图象 的 灰度 及 灰度 均值 ； INI 是 一 灰度 函数 ， 当 i ＞ I 时 ， INI = 1 ; 当 i ＜ I 时 ， 0.7 ＜ INI ＜ 1 . \\n \\u3000 \\u3000 我们 对 38 幅 真实 图象 作 了 大量 实验 ， 均 取得 了 较 好 的 分割 结果 ， 部分 实验 结果 如图 3 和 图 4   所示 ( 各图 中 上 为 原始 图象 ， 下 为 分割 结果 ) . 实验 参数 为 ： 原始 图象 灰度级 ［ 0 ， 255 ］ ； 图象 大小   100 × 100 ； 滑窗 尺寸   9 × 9 ； 松弛 次数 3 ； 概率 阈值   p = 0.5 ； PC机 型   486DX   / 33 ； 运行 时间 约 16s . \\n \\n \\n 图 3 \\u3000 对空 目标 的 分割 ( 背景 为 云层 ) \\n \\u3000 \\u3000 分割 结果 图为 多值 图 ， 背景 的 灰度 置 为 零 ， 分割 出 的 区域 灰度 值同 原始 图 . 实验 结果表明 该   方法 可 对 自然环境 中 的 人造 目标 进行 较 好 的 分割 . 其中 ， 图 3 ( a ) ， ( b ) 是 灰度 极性相反 的 两幅 飞行器 图象 ； 图 4 ( a ) , ( b ) 为 极性相反 且 大小 不同 的 舰船 图象 ； 图 3 ( c ) 是 处于 强 噪声 背景 中 的 飞机 ； 图 4 ( c ) 是 夜间 拍摄 的 多艘 船 图象 . 本文 方法 针对实际 采集 到 的 图象 ， 自动 进行 全 视场 搜索 ， 单帧 即可 准确 分割 出 处于 自然 背景 中 的 人造 目标 ， 且 不受 人造 目标 的 运动 姿态 、 速度 、 灰度 极性 变化 等 因素 的 影响 ， 对 海洋 、 空中 等 不同 自然 背景 中 的 不同 目标 均 可 得到 较 好 的 结果 ， 还 可 用于 多 目标 分割 ， 是 一种 性能 较为 优良 的 图象 分割 方法 . \\n \\n \\n 图 4 \\u3000 对 舰船 的 分割 ( 背景 为 海面 和 天空 ) \\n 5 \\u3000 结论 \\n \\u3000 \\u3000 本文 提出 的 分割 方法 是 以 DFBR 场 作为 描述 自然 背景 的 分形 模型 ， 结合 松弛法 增强 分形 特征 以 提高 分割 精度 和 自适应性 ， 利用 增强 后 的 分形 特征 分割 人造 目标 ， 实验 结果 证实 了 它 的 有效性 和 可行性 . \\n \\u3000 \\u3000 1 ) \\u3000 国家 “ 八 六三 － 三一七 ” 资助 项目 . \\n 作者 单位 ： 复旦大学 计算机系 \\u3000 上海 \\u3000 200433 \\n 参考文献 \\n 1 \\u3000 Pentland   A   P . Fractal － based   description   of   natural   scenes . I   EEE   Trans . PAMI , 1984 , PAMI － 6 ( 6 ) : 661 - 674   \\n 2 \\u3000 Fortin   C   et   al . Fractal   dimension   in   the   analysis   of   medical   ima   ges . IEEE   Engineering   in   Medicine   and   Biology.1992 , 6 : 173 -   181 \\n 3 \\u3000 Chaudhuri   B   B , Sarkar   N .   An   efficient   approach   to   estimate   fractal   dimension   of   textural   images .   Pattern   Recognition ,   1992 ,   25 ( 9 ) : 1035 - 1041 \\n 4 \\u3000 Bhanu   B , Faugeras   O   D . Segmentation   of   images   having   unimodal   distributions . IEEE   Trans . PAMI , 1982 , PAMI － 4 ( 4 ) : 408 - 419 \\n 收稿 日期 \\u3000 1996 - 09 - 17 \\n',\n",
       " '微型 电脑 应用 \\n MICROCOMPUTER   APPLICATIONS \\n 2000 \\u3000 Vol.16 \\u3000 No.1 \\u3000 P.41 - 43 \\n \\n \\n \\n 基于 Intranet / Internet 的 医院 \\n 信息系统 实现 \\n 徐浩 \\u3000 辛 海燕 \\n 摘 \\u3000 要 ： 本文 以 一个 大型 综合 医院 为 实例 ， 介绍 了 利用 Intranet / Internet 技术 实现 新一代 医院 信息系统 的 关键步骤 和 实施 中应 注意 的 问题 。 \\n 关键词 ： 医院 \\u3000 网络 \\u3000 信息系统 \\u3000 Intranet / Internet \\n Abstract ： This   paper   describes   the   key   processes   and   problems   in   realization   of   the   new   generation   Hospital   Information   System   ( HIS ) using   Intranet / Internet   technology . Alargepolyclinic   hospital   is   used   aas   an   example   for   illustration . \\n Keywords ： hospital   network   IS   Intranet / Internet   client / server   browse / server   accout ▲ \\n 一 、 概述 \\n \\u3000 \\u3000 随着 计算机 在 医院 应用 的 深入 ， 医院 对 计算机网络 系统 又 有 了 新 的 认识 ： 一方面 ， 要求 系统可靠性 高 、 带宽 高 、 响应 快 、 安全性 好 ， 能够 满足 日常 业务 的 需要 ； 另一方面 ， 由于 医院 间 竞争 的 日益 激烈 ， 医院 需要 宣传 自己 ， 同时 ， 医生 和 护士 也 需要 不断 的 同 外界 交流 ， 来 提高 自身 的 技术水平 。 \\n \\u3000 \\u3000 Intranet 就是 采用 Internet 技术 建立 起来 的 单位 内部网 ： 利用 TCP / IP 协议 ， 由 Web 服务器 和 浏览器 组成 的 网络 。 它 功能强大 ， 应用 广泛 ， 容易 学习 和 使用 ， 管理 维护 更新 方便 。 既 具备 传统 单位 内部 网络 的 安全性 ， 又 具备 Internet 的 开放性 和 灵活性 。 在 对 单位 内部 应用 提供 有效 管理 的 同时 ， 又 能 与 外界 进行 信息 交流 。 \\n \\u3000 \\u3000 将 Intranet / Internet 技术 运用 于 医院 的 计算机网络 建设 中 ， 可 使 系统 技术水平 先进 ， 软件开发 周期短 ， 用户界面 一致 ， 用户 培训 少 ， 特别 适合 于 床位 在 一 千张 左右 的 大中型 医院 。 可 在 较 短 的 时间 内 实现 一个 较 完善 的 医院 网络系统 。 下面 我们 就 以 青岛大学 医学院 附属 医院 为 例来 说明 。 \\n 二 、 系统 总体方案 \\n \\u3000 \\u3000 要 实现 一个 计算机网络 系统 ， 布线 是 必不可少 的 ， 这是 网络 的 基础 。 青岛大学 医学院 附属 医院 是 由 门诊 大楼 A座 、 门诊 大数 B座 、 病房 大楼 、 放射 楼 、 检验 楼 、 综合楼 、 行政 楼 等 七座 楼宇 构成 。 在 楼 内 ， 我们 采用 五类 双绞线 按 建设部 结构化 标准 布线 ， 楼楼 之间 用六芯 62.5 / 125 多模 光纤 连接 ， 光纤 全部 汇集 到 计算机 中心 中 。 全院 共计 有 1000 余个 信息点 ， 有 12 个 设备 间 ， 计算机 中心 在 门诊 大楼 A座 。 这样 按 结构化 标准 设计 的 布线 系统 ， 灵活 方便 ， 适用 于 多种 网络拓扑 结构 。 \\n \\u3000 \\u3000 目前 ， 我们 从 经济 上 和 实用性 方面 考虑 ， 主干 采用 100M 交换式 以太网 ， 10M 交换 到 桌面 ， 将来 很 容易 升级 到 千兆 以太网 或 ATM 。 \\n \\u3000 \\u3000 通过 64K   DDN 专线 连接 到 Internet ， 建立 自己 的 网站 ， 对外 发布 信息 ， 对内 提供 Internet 访问 服务 。 \\n \\u3000 \\u3000 从 经济 上 和 性能 上 考虑 ， 我们 选用 微软 的 BackOffice 产品 作为 自己 的 后台 软件平台 ： 服务器 操作系统 用 Windows   NT   4.0 ， 数据库 用 SQL   Server6.5 ， 邮件 服务器 用 Exchange5.5 ， WEB 服务器 用 IIS3.0 ， 代理服务器 用 Proxy2.0 。 网络 上 运行 的 协议 是 TCP / IP 。 \\n \\u3000 \\u3000 应用软件 的 开发 主要 有 传统 的 客户机 / 服务器 ( Client / Server ) 方式 和 先进 的 浏览器 / 服务器 ( Browse / Server ) 方式 ， 在 本 项目 中 ， 我们 将 两者 结合 起来 ， 充分发挥 它们 的 所长 。 \\n 三 、 系统实施 \\n \\u3000 \\u3000 网络 示意图 如图 1 所示 ， 用 3COM   Switch   3300 做 主干 交换机 ， 直接 连接 三个 服务器 ， 通过 光纤 连接 到 各楼层 设备 间 的 3COM   Switch   1100 交换机 上 ， 各 桌面 工作站 均 独占 10M 带宽 。 网络 通过 路由器 和 Internet 相连 。 下面 我们 着重 介绍 几个 关键 的 实施 部分 。 \\n \\n 图 1 \\n \\u3000 \\u3000 1 . IP地址 的 申请 及 路由器 的 配置 ： \\n \\u3000 \\u3000 我们 向 邮电局 ( 或 其它 ISP ) 申请 IP地址 ， 得到 的 IP地址 是 10.82 . 128.33 到 10.82 . 128.62 ， 子网掩码 为 255.255 . 255.224 。 我们 的 路由器 同步 串口 IP地址 为 10.82 . 185.2 ， 局端 路由器 串口 IP地址 为 10.82 . 185.1 ， 子网掩码 均 为 255.255 . 255.252 。 \\n \\u3000 \\u3000 路由器 我们 选用 CISCO2501 ， 下面 是 路由器 的 配置 过程 ： \\n \\u3000 \\u3000 ( 1 ) 以太 口 E0 的 配置 ： \\n \\u3000 \\u3000 Interface   ethernet   0 \\n \\u3000 \\u3000 \\u3000 IP   address   10.82 . 128.34 \\u3000 255.255 . 255.224 \\n \\u3000 \\u3000 \\u3000 \\u3000 \\u3000 \\u3000 \\u3000 \\u3000 \\u3000 \\u3000 \\u3000 \\u3000 \\u3000 \\u3000 设置 E0 口 IP地址 \\n \\u3000 No   shutdown 启动 E0 口 \\n \\u3000 \\u3000 ( 2 ) 同步 串口 S0 的 配置 ： \\n \\u3000 \\u3000 \\u3000 Interface   serial   0 \\n \\u3000 \\u3000 \\u3000 \\u3000 Ip   address   10.82 . 185.2 \\u3000 255.255 . 255.252 \\n \\u3000 \\u3000 设置 S0 口 IP地址 \\n \\u3000 \\u3000 \\u3000 \\u3000 No   shutdown 启动 S0 口 \\n \\u3000 \\u3000 ( 3 ) 路由 协议 配置 ： \\n \\u3000 \\u3000 \\u3000 Router   igrp   1 设置 IGRP 路由 协议 \\n \\u3000 \\u3000 \\u3000 \\u3000 Network10.0 . 0.0 网络 10.0 . 0.0 连到 \\n \\u3000 \\u3000 路由 路上 \\n \\u3000 \\u3000 ( 4 ) 路由表 配置 ： \\n \\u3000 \\u3000 \\u3000 Ip   classless \\u3000 \\u3000 \\u3000 \\u3000 允许 转发 路由表 外 \\n \\u3000 \\u3000 子网 的 包 \\n \\u3000 \\u3000 \\u3000 Ip   router0.0 . 0.0 \\u3000 0.0 . 0.0 \\u3000 10.82 . 185.1 \\n \\u3000 \\u3000 建立 静态 路由表 ， \\n 向 网络 外发 的 包均 \\n 转发 到 10.82 . 185.1 \\n \\u3000 \\u3000 2 . 服务器 及其 系统软件 实施 \\n \\u3000 \\u3000 计算机 中心 有 三个 NT 服务器 ： 其 名称 分别 为 ： AccountServer 、 SQLServer 、 ProxyServer ， 它们 都 配有 磁盘阵列 卡 ， 并 将 个 3 个 热插拔 Ultra   Wide   SCSI   9G 硬盘 配置 成 RAID5 方式 。 这样 ， 如果 有 一个 磁盘 损坏 ， 可以 在线 替换 不 影响 使用 。 AccountServer 上 运行 IIS   3.0 、 FrontPage98 扩展 、 Exchange5.5 ， 同时 做 Web 服务器 和 邮件 服务器 ， 配 512 兆 内存 ， 4 个 Pentium Ⅱ Xeon 处理器 。 SQLServer 上 运行 SQL   Server6.5 ， 是 数据库 服务器 ， 配 512 兆 内存 ， 4 个 Pentium   Ⅱ   Xeon 处理器 。 ProxyServer 作为 代理服务器 和 网络 的 防火墙 ， 配有 两块 网卡 ， 运行 IIS3.0 和 Proxy2.0 。 \\n \\u3000 \\u3000 3 . 代理服务器 及 防火墙 ： \\n \\u3000 \\u3000 单位 内部 网上 的 计算机 ， 除了 服务器 ProxyServer 外 ， 都 自己 分配 内部 IP地址 ， 和 ISP 分配 IP地址 无关 。 我们 使用 150.150 . 1.1 到 150.150 . 10.254 ， 子网掩码 为 255.255 . 0.0 作为 自己 的 内部 IP地址 范围 。 \\n \\u3000 \\u3000 服务器 ProxyServer 配备 两块 网卡 ， 一块 网卡 的 IP地址 为 内部网 地址 ( 150.150 . 1.3 ) ， 另 一块 网卡 IP地址 为 ISP 分配 ( 10.82 . 128.33 ) 。 它 将 单位 内部网 和 Internet 隔离 起来 ， 所有 内部网 用户 需要 访问 Internet 都 要 经过 ProxyServer , 在 ProxyServer 中 设置 了 1G 的 缓冲区 ， 用来 加速 Internet 的 访问 ， 用户 访问 Internet 上 的 网站 页面 ， 首先 查看 ProxyServer 缓冲区 中 是否 已有 ， 若 有 则 直接 从 缓冲区 中 取回 ， 若 没有 则 再 通过 DDN 专线 到 Internet 上 去取 ， 同时 ， 放到 缓冲区 中 ， 大大 加速 了 Internet 的 访问速度 。 ProxyServer 同时 作为 网络 的 防火墙 ， 可以 根据 需要 滤除 一些 可疑 的 包 ， 只有 ProxyServer 暴露 在 Internet 上 。 \\n \\u3000 \\u3000 4 . Windows   NT 的 域 的 设置 ： \\n \\u3000 \\u3000 Windows   NTServer 是 用域 来 管理 计算机 和 帐号 的 ， 我们 建立 两个 域 ： IntraDomain 域 和 ProxyDomain 域 ， 只有 代理服务器 ProxyServer 属于 ProxyDomain 域 ， 是 ProxyDomain 域 的 主 域控制器 ( PDC ) ， 其它 服务器 和 计算机 都 属于 IntraDomain 域 ， AccountServer 是 主 域控制器 ( PDC ) 。 两个 域 之间 建立 单向 信任 关系 ， 如图 2 所示 。 \\n \\n 图 2 \\n \\u3000 \\u3000 IntraDomain 域 是 被 信任 域 ( 帐户 域 ) ， ProxyDomain 域 是 信任 域 ( 资源 域 ) 。 所有 帐号 都 建立 在 IntraDomain 域 中 ， IntraDomain 域 的 用户 可以 访问 IntraDomain 域 和 ProxyDomain 域 的 资源 ， 而 ProxyDomain 域 的 用户 只能 访问 本域 的 资源 ， 这样 就 进一步 保障 了 网络 的 安全性 ， 即使 有 入侵者 闯入 了 ProxyServer ， 也 不能 对 网络 上 的 其它 资源 造成 破坏 。 \\n \\u3000 \\u3000 5 . 帐户 和 资源 的 管理 \\n \\u3000 \\u3000 网络 上 的 用户 要 根据 不同 的 职责 设置 相应 的 权限 。 根据 NT 对 帐号 和 资源 的 管理 原则 ： 要 将 用户 放入 全局 组中 ， 全局 组 放入 要 访问 资源 的 本地 组中 ， 给 本地 组 赋予 相应 的 权限 。 下面 我们 就 以 设置 Internet 浏览 和 收发 邮件 许可 为 例来 说明 ： \\n \\u3000 \\u3000 网上 的 用户 ， 不 可能 都 允许 他们 访问 Internet ， 我们 先 在 IntraDomain 域 中 建立 两个 全局 组 ： InternetBrowse 组和 InternetMail 组 ， 将 允许 进行 浏览 的 用户 放入 InternetBrowse 组中 ， 将 允许 收发 邮件 的 用户 放入 InternetMail 组中 ， 在 代理服务器 ProxyServer 上 建立 两个 本地 组 InternetBrowse 组和 InternetMail 组 ， 将 全局 组 InternetBrowse 放入 本地 组 InternetBrowse 中 ； 将 全局 组 InternetMail 放入 本地 组 InternetMail 中 。 配置 Web   Proxy 服务 ， 设置 访问控制 ： 对 WWW 允许 本地 组 InternetBrowse 完全 控制 ， 对 FTP 允许 本地 组 InternetBrowse 读取 。 配置 WinSock   Proxy 服务 ， 设置 访问控制 ： 允许 本地 组 InternetMail 无 限制 的 访问 权力 。 这样 只要 是 全局 组 InternetBrowse 的 成员 就 能 进行 Internet 浏览 ， 只要 是 全局 组 InternetMail 的 成员 就 能 收发 邮件 。 \\n \\u3000 \\u3000 6 . 网页 的 设计 与 维护 \\n \\u3000 \\u3000 我们 主要 用 FrontPage98 设计 了 医院 的 网页 ， 包括 医院 的 特色 、 科室 简介 、 专家 简介 、 每日 应诊 专家 、 医疗 服务 、 新 技术 新 项目 等等 。 我们 的 网页 是 动态 的 ， 内容 大都 是 放在 服务器 SqlServer 上 的 SQL6.5 数据库 中 ， 网页 通过 ASP 技术 从 数据库 中 取得 数据 。 \\n \\u3000 \\u3000 在 各 相关 科室 的 计算机 上 我们 开发 了 相应 的 更新 数据库 的 客户端 软件 ， 负责 维护 与 自己 科室 有关 的 网页内容 ， 例如 门诊部 每周 将 各 科室 的 专家 排班 表 录入 到 SQL 数据库 中 ， 这样 就 保证 了 网页 的 实时 更新 。 \\n \\u3000 \\u3000 内部网 的 Web 服务器 是 AccoutServer , 但 AccountServer 对 Internet 来说 ， 是 不 可见 的 ， 怎样 实现 把 我们 的 网页 发布 出来 呢 ? 这 就要 靠 代理服务器 的 功能 了 ， 我们 在 代理服务器 中 Web   Proxy 出版 选项 中 设置 ： 允许 Web 出版 ， 并 将 出版 服务器 设为 AccountServer 。 这样 ， 在 Internet 上 就 可以 访问 我们 的 网页 了 。 \\n \\u3000 \\u3000 7 . Internet 访问控制 和 记费 的 实现 \\n \\u3000 \\u3000 我们 在 SQLServer 服务器 中 建立 一个 一个 数据库 MSP ， 其中 建立 一个 表 MSP - LOG - TABLE ， 这 是 对 WWW ， WinSock 等 代理 活动 的 日志 记录 。 建表 SQL 语句 如下 所示 ： \\n CREATE   TABLE   MSP - LOG - TABLE ( \\n \\u3000 \\u3000 ClientIP \\u3000 \\u3000 \\u3000 \\u3000 \\u3000 \\u3000 \\u3000 \\u3000 \\u3000 varchar ( 32 ) , \\u3000 \\u3000 \\u3000 \\u3000 \\u3000 用户 IP地址 \\n \\u3000 \\u3000 ClientUserName \\u3000 \\u3000 \\u3000 \\u3000 \\u3000 \\u3000 varchar ( 32 ) , \\u3000 \\u3000 \\u3000 \\u3000 \\u3000 用户名 \\n \\u3000 \\u3000 ClientAgent \\u3000 \\u3000 \\u3000 \\u3000 \\u3000 \\u3000 \\u3000 varchar ( 128 ) , \\n \\u3000 \\u3000 ClientAuthenticate \\u3000 \\u3000 \\u3000 \\u3000 varchar ( 5 ) , \\n \\u3000 \\u3000 logTime \\u3000 \\u3000 \\u3000 \\u3000 \\u3000 \\u3000 \\u3000 \\u3000 \\u3000 datetime , \\u3000 \\u3000 \\u3000 \\u3000 \\u3000 \\u3000 \\u3000 日期 及 时间 \\n \\u3000 \\u3000 service \\u3000 \\u3000 \\u3000 \\u3000 \\u3000 \\u3000 \\u3000 \\u3000 \\u3000 varchar ( 12 ) , \\n \\u3000 \\u3000 servername \\u3000 \\u3000 \\u3000 \\u3000 \\u3000 \\u3000 \\u3000 \\u3000 varchar ( 32 ) , \\n \\u3000 \\u3000 referredserver \\u3000 \\u3000 \\u3000 \\u3000 \\u3000 varchar ( 32 ) , \\n \\u3000 \\u3000 DestHost \\u3000 \\u3000 \\u3000 \\u3000 \\u3000 \\u3000 \\u3000 \\u3000 varchar ( 32 ) , \\u3000 \\u3000 \\u3000 \\u3000 \\u3000 \\u3000 目标 主机名 \\n \\u3000 \\u3000 DestHostIP \\u3000 \\u3000 \\u3000 \\u3000 \\u3000 \\u3000 \\u3000 varchar ( 32 ) , \\n \\u3000 \\u3000 DestHostPortint , \\n \\u3000 \\u3000 processingtime \\u3000 \\u3000 \\u3000 \\u3000 \\u3000 \\u3000 int , \\n \\u3000 \\u3000 bytessent \\u3000 \\u3000 \\u3000 \\u3000 \\u3000 \\u3000 \\u3000 \\u3000 int , \\u3000 \\u3000 \\u3000 \\u3000 \\u3000 \\u3000 \\u3000 \\u3000 \\u3000 发送 字节数 \\n \\u3000 \\u3000 bytesrecvd \\u3000 \\u3000 \\u3000 \\u3000 \\u3000 \\u3000 \\u3000 \\u3000 int , \\u3000 \\u3000 \\u3000 \\u3000 \\u3000 \\u3000 \\u3000 \\u3000 \\u3000 收到 字节数 \\n \\u3000 \\u3000 protocol \\u3000 \\u3000 \\u3000 \\u3000 \\u3000 \\u3000 \\u3000 \\u3000 \\u3000 varchar ( 8 ) , \\n \\u3000 \\u3000 transport \\u3000 \\u3000 \\u3000 \\u3000 \\u3000 \\u3000 \\u3000 \\u3000 varchar ( 8 ) , \\n \\u3000 \\u3000 operation \\u3000 \\u3000 \\u3000 \\u3000 \\u3000 \\u3000 \\u3000 \\u3000 varchar ( 8 ) , \\n \\u3000 \\u3000 ori \\u3000 \\u3000 \\u3000 \\u3000 \\u3000 \\u3000 \\u3000 \\u3000 \\u3000 \\u3000 \\u3000 varchar ( 255 ) , \\n \\u3000 \\u3000 mimetype \\u3000 \\u3000 \\u3000 \\u3000 \\u3000 \\u3000 \\u3000 \\u3000 \\u3000 varchar ( 32 ) \\n \\u3000 \\u3000 objectsource \\u3000 \\u3000 \\u3000 \\u3000 \\u3000 \\u3000 \\u3000 varchar ( 10 ) , \\n \\u3000 \\u3000 resultcode \\u3000 \\u3000 \\u3000 \\u3000 \\u3000 \\u3000 \\u3000 \\u3000 int , \\n \\u3000 \\u3000 CacheInfo \\u3000 \\u3000 \\u3000 \\u3000 \\u3000 \\u3000 \\u3000 \\u3000 \\u3000 int \\n \\u3000 \\u3000 ) \\n \\u3000 \\u3000 配置 好 ProxyServer 的 ODBC 驱动 及 系统 DSN 名 ， 设置 Web   Proxy 、 Winsock   Proxy 服务 ， 使 访问 日志 通过 ODBC 记录 到 上述 数据表 中 。 我们 用 Delphi3 开发 了 一个 查询 统计 软件 ， 可 对 用户 活动 随时 进行 监督 ， 并 可以 按 访问 日期 、 用户名 、 访问 站点 、 收发 字节数 等 进行 统计 ， 依据 它 可 对 用户 进行 记费 。 \\n \\u3000 \\u3000 8 . 应用软件 的 开发 和 实施 \\n \\u3000 \\u3000 对 医院 内部 软件 的 开发 ， 我们 采用 传统 的 客户机 / 服务器 ( Client / Server ) 方式 和 先进 的 浏览器 / 服务器 ( Browse / Server ) 相结合 的 方法 进行 ， 主要 包括 下面 几个 子系统 。 \\n \\u3000 \\u3000 . 门急诊 管理系统 ： 包括 门诊 挂号 、 收费 、 发药 系统 和 门诊病人 管理系统 。 \\n \\u3000 \\u3000 . 住院 管理子系统 ： 医嘱 在 病房 录入 计算机 ， 根据 医嘱 自动 记帐 ， 病房 药房 按 医嘱 完成 配药 ， 各种 化验 、 检查报告 、 影象 资料 均 由 计算机网络 自动 传递 。 \\n \\u3000 \\u3000 . 影象 管理子系统 ： 所有 影象 资料 及 检查报告 均 录入 计算机 。 \\n \\u3000 \\u3000 . 化验 、 检查 科室 管理子系统 ： 化验 仪器 、 检查 设备 ， 能同 网络 相连 的 直接 同 网络 相连 ， 不能 相连 的 将 结果 录入 计算机 。 \\n \\u3000 \\u3000 . 药品 管理子系统 ： 包括 药品 的 入库 、 出库 、 库存 、 调价 、 报损 、 查询 等 。 \\n \\u3000 \\u3000 . 物资 管理子系统 ： 固定资产 、 低值易耗品 、 卫生用品 及其 它 用品 等 的 出入库 、 库存 、 各 科室 的 拥有 情况 、 完好 情况 、 使用 情况 等 。 \\n \\u3000 \\u3000 . 多媒体 导医 子系统 ： 包括 就诊 指南 、 医院 的 布局 、 科室 的 特点 、 专家教授 的 特长 、 药费 、 检查费 、 治疗费 的 价格 等等 。 \\n \\u3000 \\u3000 . 领导 查询 子系统 ： 查询 各个 子系统 的 数据 ， 包括 各个 病人 情况 、 床位 占用 、 工作进展 情况 、 库存 等等 。 \\n \\u3000 \\u3000 . 相互 交流 及 对外 宣传 子系统 ： 在 网上 开 研讨会 ， 互发 Email 。 将 医院 的 情况 、 特色 、 等 及时 的 发布 出去 ， 宣传 自身 。 \\n \\u3000 \\u3000 对 一些 录入 量 大 、 要求 响应 快 的 应用 ， 例如 门诊 收款 、 划价 、 取药 ， 病房 病入 出入 转 ， 医嘱 录入 ， 设备 材料 的 出入库 等 应用 ， 我们 采用 Client / Server 的 方式 ， 用 Delphi3 开发 前台 应用程序 ， 通过 SQL   link 和 后台 SQL 数据库 连接 。 \\n \\u3000 \\u3000 对 其它 一些 录入 量少 、 使用 人员 不 固定 的 应用 ， 例如 多媒体 查询 系统 、 领导 决策 查询 系统 、 信息检索 系统 等 ， 采用 Browse / Server 的 方式 ， 前台 统一 用 浏览器 做 客户端 ， 用 Delphi3 开发 应用服务器 ， 制作 一些 ActiveX   Form ， 这样 浏览器 界面 不至于 显得 过于 单调 ， 操作 起来 很 容易 ， 大大减少 了 培训 工作量 。 \\n 四 、 经验 和 总结 \\n \\u3000 \\u3000 1 . 我们 的 网络 是 通过 防火墙 和 Internet 相连 的 ， 系统 安全性 是 最 重要 的 ， 应将域 上 的 guest 帐号 禁止 ， 管理员 用户名 应 更改 。 要 设置 好 帐号 规则 ， 如 口令 的 最小 长度 、 有效期 、 帐号 的 锁定 策略 等 。 在 服务器 上要 禁止 IP 转发 ， 只有 代理服务器 上 的 IP地址 才 是 外部 可见 的 。 \\n \\u3000 \\u3000 2 . 系统管理员 对 资源 的 权限 管理 一定 要 设置 好 ， 不要 形成 安全漏洞 。 权限 的 管理 一定 要 按照 NT 的 原则 ， 将 用户 帐号 放到 全局 组中 ， 将 全局 组 放到 本地 组中 ， 对 本地 组 赋予 资源 使用 的 权限 ， 并 做好 记录 。 \\n \\u3000 \\u3000 3 . 系统 负载 均衡 ： 将 负载 均匀 分散 到 几个 服务器 上 。 系统 响应 得以 加快 。 \\n \\u3000 \\u3000 4 . 系统 可伸缩性 强 ： 根据 医院 规模 的 不同 ， 可以 增加 或 减少 服务器 的 数量 及 配置 ， 也 可以 很 容易 的 升级 到 千兆 以太网 或 ATM 。 \\n \\u3000 \\u3000 5 . 把 服务器 ProxyServer   放到 单独 的 域 中 ， 进正 正派 增强 了 系统 安全性 。 \\n \\u3000 \\u3000 6 . 采用 Cclient / Server   和   Browse / Server 两种 方法 开发 应用软件 ， 充分发挥 了 它们 的 优点 ， 避免 他们 的 缺点 ， 能够 在 较 短 的 时间 内 建立 较 完善 的 医院 信息系统 。 ■ \\n 作者 单位 ： 徐浩 ( 青岛大学 医学院 附属 医院 计算机 中心   266003 ) \\n 参考文献 ： \\n ［ 1 ］ Microsoft   Corporation   Supporting   Microsoft   Windows   NT   Server   4.0   Enterprise   Technologies \\n ［ 2 ］ Cisco   Systems   Inc   Cisco   2500   Series   Router   Installation   and   Caonfiguration   Guide \\n ［ 3 ］ Misrosoft   Corporation   ProxyServer   2.0   培训 教程 \\n ［ 4 ］ D . Solomon   SQL   Server   6.5   开发 指南 \\n ［ 5 ］ 李维   Delphi   3.0   从 入门 到 精通 \\n 收稿 日期 : 1999 - 10 - 19 \\n',\n",
       " \"自动化 学报 \\n ACTA   AUTOMATICA   SINICA \\n 2000 \\u3000 Vol.26 \\u3000 No.1 \\u3000 P.1 - 6 \\n \\n \\n \\n 受非 完整 约束 移动机器人 的 跟踪 控制 \\n 董文杰 \\u3000 霍伟 \\n 摘   要   讨论 受非 完整 约束 移动机器人 运动学 模型 和 动力学 模型 的 跟踪 控制 问题 . 通过 把 它们 化成 统一 的 标准型 ， 提出 了 新 的 动态 跟踪 控制器 . 这些 控制器 具有 维数 低 和 没有 奇异 点 的 优点 . 仿真 结果表明 了 所 提出 控制 方法 的 有效性 . \\n 关键词   轮式 移动机器人 ， 跟踪 控制 ， 非 完整 控制系统 . \\n TRACKING   CONTROL   OF   MOBILE   ROBOTS   WITH   NONHOLONOMIC   CONSTRAINT \\n DONG   Wenjie   HUO   Wei \\n ( The   7th   Res . Div . , Beijing   Univ . of   Aero .&   Astro . , Beijing   100083 ) \\n Abstract   This   paper   investigates   the   tracking   problem   of   kinematic   and   dynamic   models   of   wheeled   mobile   robots   with   nonholonomic   constraints . New   tracking   controllers   are   designed   with   the   canoincal   form . Our   controllers   are   dynamic   and   have   virtues   of   low   dimensions   and   no   singular   points . Simulation   results   show   effectiveness   of   the   controllers . \\n Key   words   Wheeled   mobile   robot , tracking   control , nonholonomic   system . \\n 1   引言 \\n \\u3000 \\u3000 近年来 ， 受非 完整 约束 移动机器人 的 跟踪 控制 得到 了 广泛 研究 . 文献 ［ 1 ］ 用 动态 反馈 线性化 的 方法 讨论 了 这类 移动机器人 的 跟踪 控制 问题 ， 设计 出 了 动态 跟踪 控制器 . 该 方法 的 不足之处 是 控制器 具有 奇异 点且 维数 较 高 . 针对 这些 缺点 ， 本文 提出 了 新 的 跟踪 控制 方案 ， 设计 出 了 新 的 一维 动态 跟踪 控制器 ， 因而 克服 了 文献 ［ 1 ］ 中 控制器 维数 较 高 和 有 奇异 点 的 缺陷 ， 解决 了 受 非 完整 约束 移动机器人 的 跟踪 控制 问题 . \\n 2   跟踪 问题 描述 \\n \\u3000 \\u3000 讨论 文献 ［ 1 ］ 中除 ( 3 ， 0 ) 类外 的 四类 受非 完整 约束 移动机器人 ， 其 运动学 模型 可 统一 \\n 简写 为 \\n \\u3000 ( 1 ) \\n 其 动力学 模型 可 简写 为 \\n \\u3000 ( 2 ) \\n 式 ( 1 ) 和 ( 2 ) 中 各 符号 的 定义 及 含义 见 文献 ［ 1 ］ . \\n 给定 满足 \\n \\u3000 ( 3 ) \\n 的 二次 可微 轨迹 X * ， 本文 的 运动学 模型 跟踪 问题 是 设计 控制 律 u 使得 limt → ∞ ( X ( t ) - X * ( t ) ) = 0 和 动力学 模型 跟踪 问题 是 设计 控制 律 v 使得 limt → ∞ ( X ( t ) - X * ( t ) ) = 0 和 \\n 表 1   四类 移动机器人 运动学 方程 的 标准型 及 相应 变换 \\n 类 状态 变换 q = φ ( X ) 输入 变换 σ = ψ - 1 ( X ) u 标准型 奇异 点 \\n 无 \\n \\n \\u3000 \\u3000 \\n \\n \\u3000 \\u3000 为 讨论 上述 跟踪 控制 问题 ， 取 状态 变换 q = φ ( X ) 和 输入 变换 σ = Ψ - 1 ( X ) u ( 见表 1 ［ 2 ］ ) ， 系统 ( 1 ) 可 化为 标准型 \\n \\u3000 ( 4 ) \\n 或 \\n \\u3000 ( 5 ) \\n 取 状态 变换 q = φ ( X ) ,   σ = Ψ - 1 ( X ) u 和 输入 变换 v = Ψ - T ［ Ψ T Ψ w + Ψ T σ ］ , 方程 ( 2 ) 可 化为 系统 ( 4 ) \\n 或 ( 5 ) 的 扩展 形式 \\n \\u3000 ( 6 ) \\n 或 \\n \\u3000 ( 7 ) \\n 令 对应 系统 ( 4 ) 和 ( 5 ) 两种 情况 ， 变换 后 的 期望 轨迹 \\n q * ( t ) 可 由 虚拟 参考 系统 \\n \\u3000 ( 8 ) \\ue006 \\n 或 \\n \\u3000 ( 9 ) \\n 生成 ， 其中 σ * ( t ) 是 已知 向量 . 于是 本文 运动学 模型 跟踪 问题 等价 于 设计 控制 律 σ 使得 \\n \\u3000 ( 10 ) \\n 动力学 模型 跟踪 问题 等价 于 设计 控制 律 w 使得 ( 10 ) 式 成立 . 因而 下面 讨论 系统 ( 4 ) ， ( 5 ) 和 ( 6 ) ， ( 7 ) 的 跟踪 问题 ， 而 将 q * ( t ) 视为 期望 轨迹 . 另外 ， 为 使 跟踪 问题 可解 ， 做 如下 假设 \\n 假设 1 .   中 去掉 分量 q * 1 . \\n 假设 2 .   有 界 ， 且 当 t 趋于 无穷 时 σ * 1 不 趋于 零 . \\n 注 1 . 由表 1 知 某些 类 移动机器人 的 上述 变换 有 奇异 点 . 当 被控 系统 初始 位置 在 奇异 点时 ， 应 给 系统 一 扰动 使 其 离开 奇异 点 ， 然后 再 应用 上述 变换 . 一旦 系统 不 在 奇异 点 ， 本文 的 控制 律 可以 保证系统 不会 遇到 奇异 点 . 因而 以后 不再 专门 讨论 这个 问题 . \\n 3   控制器 设计 \\n \\u3000 \\u3000 主要 讨论 系统 ( 5 ) 和 ( 7 ) 的 跟踪 控制 问题 ， 沿着 同样 的 思路 不难 解决 系统 ( 4 ) 和 ( 6 ) 的 跟踪 问题 . 令则 由 方程 ( 5 ) 和 ( 9 ) 可 得 \\n \\u3000 ( 11 ) \\n 基于 方程 ( 11 ) ， 有 如下 定理 \\n 定理 1 . 给定 满足 假设 1 和 2 的 期望 轨线 q * ( t ) ， 则 控制 律 \\n \\u3000 ( 12 ) \\n 可 使 系统 ( 5 ) 的 状态 全局 渐近 跟踪 期望 轨线式 中均 为 正数 . \\n \\u3000 \\u3000 证明 . 闭环 方程 可 写成 如下 形式 \\n \\u3000 ( 13 ) \\n 取正 函数 \\n \\n 将 V 沿 方程 ( 13 ) 求导 ， 有 \\n \\u3000 ( 14 ) \\n 所以 V 非增 ， 且 有 有限 极限 Vlim ≥ 0 ， 于是 由 V 的 定义 知 p 和 e 有界 ， 从而 由 假设 1 知 \\n 有 界 ， 且 考虑 到式 ( 13 ) 及 假设 2 知有界 . 由 以上 所证知 \\n \\n 有 界 ， 所以 一致 连续 . 由 引理 知 趋于 零 ， 于是 由式 ( 14 ) 知 p 和 e4 , j ( 1 ≤ j ≤ m ) 趋于 零 . 又 由 σ * 1 有界知 趋于 零 ， 对 求导 ， 有 \\n \\u3000 ( 15 ) \\n 其中 第一项 一致 连续 ， 后 几项 趋于 零 . 由 Babarlat 引理 知 ， 趋于 零 ， 于是 由式 ( 15 ) 知 \\n 趋于 零 ， 进而 知都 趋于 零 . 对 求导 ， 并 重复 上述 证明 过程 ， 可 证明 趋于 零 . 再 由 σ * 1 有界 和 p 趋于 零知 σ * 21p 趋于 零 . 对 σ * 21p 求导 ， 有 \\n \\n 其中 第一项 一致 连续 ， 其余 几项 趋于 零 ， 于是 趋于 零 ， 所以 σ * 21e1 趋于 零 ， 考虑 到 \\n 趋于 零 . 所以 σ * 21V 趋于 零 . 因 V 具有 极限 Vlim ≥ 0 且 σ * 1 不 趋于 零 ， 所以 一定 有 Vlim = 0 . 因而 ， e 和 p 趋于 零 ， 即 q 渐近收敛 于 q * . 另外 易 证明 趋于 零 ， 即 渐近收敛 于 详细 证明 可 参见 文献 ［ 3 ］ . \\n \\u3000 \\u3000 对于 系统 ( 7 ) 的 跟踪 问题 ， 有 如下 定理 . \\n \\u3000 \\u3000 定理 2 . 给定 满足 假设 1 和 2 的 期望 轨线 q * ( t ) ， 则 控制 律 \\n \\n 和 ( 12 ) 能 使 系统 ( 7 ) 的 q 和 分别 全局 渐近 趋于 期望 轨线式 中 \\n 均 是 正数 . \\n \\u3000 \\u3000 证明 . 基于 定理 1 的 证明 及 \\ue00a Backstepping \\ue00a 方法 的 思想 即可 证明 . 篇幅 所 限 ， 略去 . \\n \\u3000 \\u3000 注 2 . 定理 1 和 2 中 的 控制器 是 一维 的 和 全局 的 ， 且 没有 任何 奇异 点 . 它们 解决 了 受 非 完整 约 \\n 束 移动机器人 的 轨迹 跟踪 问题 . 若用 动态 反馈 线性化 或 微分 平坦 性 概念 解决 系统 ( 5 ) 或 ( 7 ) 的 \\n 跟踪 问题 ， 设计 出 的 控制器 动态 维数 超过 1 且 有 奇异 点 . 因而 定理 1 和 2 中 的 控制 律 克服 了 用动 \\n 态 反馈 线性化 方法 设计 控制器 的 两个 缺点 ： 控制器 维数 较 高 ， 且 有 奇异 点 . \\n \\u3000 \\u3000 注 3 . 简单 的 反 变换 不难 得到 用 系统 原始 参数 表示 的 控制 律 ， 略去 . 值得 指出 的 是 对 原始 系统 而言 变换 回去 的 控制 律 可能 有 奇异 点 ， 但 这些 奇异 点 是 变换 成 标准型 时 引起 的 ， 且 一旦 原始 系统 初始 位置 不 在 奇异 点处 ， 跟踪 的 全过程 都 不会 遇到 奇异 点 . \\n \\u3000 \\u3000 注 4 . 沿 上述 思路 不难 得到 系统 ( 4 ) 的 状态 q 跟踪 期望 轨迹 q * 的 控制 律 \\n \\u3000 ( 16 ) \\n 其中 \\n \\u3000 \\u3000 注 5 . 不难 证明 动力学 模型 ( 6 ) 的 跟踪 问题 控制 律为 \\n \\n 和 ( 16 ) ， 其中 均 为 正数 ， e 为注 4 所 定义 . \\n 4   仿真 \\n \\u3000 \\u3000 对文 ［ 4 ］ 中 ( 2 ， 0 ) 类 移动机器人 动力学 模型 跟踪 平面 上 椭圆 曲线 进行 仿真 ， 一方面 做 为 前述 略去 讨论 系统 ( 4 ) 和 系统 ( 6 ) 跟踪 问题 的 补充 ， 另一方面 验证 本文 提出 跟踪 律 的 有效性 . \\n \\u3000 \\u3000 给定 平面 上 椭圆型 期望 轨迹 如下 ： x * ( t ) = cost , \\n 由非 完整 约束 确定 . 通过 化为 标准型 ， 由注 5 不难 得到 控制器 ， 简单 的 反 变换 可 得到 用原 参数 表示 的 控制 律 . 图 1 和 2 给出 了 一组 参数 下 的 仿真 结果 . \\n \\n 图 1   X — X * 的 时间 响应 曲线 \\n \\n 图 2   I1 — I2 相 平面 上 跟踪 情况 \\n 5   结论 \\n \\u3000 \\u3000 本文 讨论 了 受 非 完整 约束 移动机器人 的 轨迹 跟踪 问题 ， 提出 了 新 的 跟踪 控制 方案 . 仿真 结果 验证 了 所 提 方案 的 有效性 . 文中 给出 了 模型 精确 已知 情况 下 的 移动机器人 的 跟踪 控制 律 ， 讨论 不 确定 移动机器人 的 跟踪 控制 问题 将 另文 给出 . \\n 国家自然科学基金 资助 课题 . \\n 董文杰 \\u3000 北京航空航天大学 第七 研究室 博士生 . 研究 领域 包括 ： 机器人 动力学 与 控制 ， 非 完整 系统控制 ， 鲁棒控制 ， 非线性 系统控制 . \\n 霍伟 \\u3000 简介 见 本刊 1994 年 第 3 期 . \\n 董文杰 ( 北京航空航天大学 第七 研究室   北京   100083 ) \\n 霍伟 ( 北京航空航天大学 第七 研究室   北京   100083 ) \\n 参考文献 \\n 1 ， d ' Andrea \\ue011 Novel   B , Campion   G   \\ue00a et   al . \\ue00a Control   of   nonholonomic   wheeled   mobile   robots   by   state   feedback   linearization . \\ue00a Int . J . Robotics   Research , \\ue00a 1995 , 14 : 543 ～ 559 \\n 2 ， Leroquais   W , d ' Andrea \\ue011 Novel   B . Transformation   of   the   kinematic   models   of   restricted   mobility   wheeled   mobile   robots   with   a   single   platform   into   chained   forms . In : Proc . IEEE   Conf . Decision   and   Control , 1995.3811 ～ 3816 \\n 3 ， 董文杰 ， 霍伟 . 链式 系统 的 跟踪 控制 . 自动化 学报 ， 已 录用 \\n 4 ， Campion   G , d ' Andrea \\ue011 Novel   B   \\ue00a et   al . \\ue00a Controllability   and   state   feedback   stabilization   of   nonholonomic   mechanical   systems . In : Advanced   Robot   Control ( C . Canudas   de   Wit , Eds ) , Springer \\ue011 Verlag , 1991.106 ～ 124 \\n 5 ， Dong   W , Huo   W . Adaptive   stabilization   of   dynamic   nonholonomic   chained   systemswith   uncertainty . In : Proc . IEEE   Conf . Decision   and   Control , 1997.2362 ～ 2367 \\n 收稿 日期   1998 - 01 - 09   收 修改稿 日期   1998 - 12 - 01 \\n\"]"
      ]
     },
     "execution_count": 75,
     "metadata": {},
     "output_type": "execute_result"
    }
   ],
   "source": [
    "test_text_set[-10:]"
   ]
  },
  {
   "cell_type": "code",
   "execution_count": 77,
   "metadata": {},
   "outputs": [
    {
     "data": {
      "text/plain": [
       "['计算机', '计算机', '计算机', '计算机', '计算机', '计算机', '计算机', '计算机', '计算机', '计算机']"
      ]
     },
     "execution_count": 77,
     "metadata": {},
     "output_type": "execute_result"
    }
   ],
   "source": [
    "Y_test[-10:]"
   ]
  },
  {
   "cell_type": "markdown",
   "metadata": {},
   "source": [
    "### 第三步，处理词向量，包括去除停用词"
   ]
  },
  {
   "cell_type": "code",
   "execution_count": 54,
   "metadata": {
    "collapsed": true
   },
   "outputs": [],
   "source": [
    "def content_vectorizer(data):\n",
    "    # 载入停用词\n",
    "    # 语料向量化\n",
    "    vectorizer_content = CountVectorizer(stop_words=stopword_list)\n",
    "    x_array = vectorizer_content.fit_transform(data)\n",
    "    #print(x_array[-10:].toarray())\n",
    "    # 计算各个分类内容的 tf-idf值\n",
    "    X = TfidfTransformer().fit_transform(x_array)\n",
    "    print('count_vectorizer')\n",
    "    print(vectorizer_content)\n",
    "    #print(X[-10:])\n",
    "    joblib.dump(vectorizer_content,'./data/model/vectorizer_content.m')\n",
    "    return X"
   ]
  },
  {
   "cell_type": "code",
   "execution_count": 55,
   "metadata": {},
   "outputs": [
    {
     "name": "stdout",
     "output_type": "stream",
     "text": [
      "count_vectorizer\n",
      "CountVectorizer(analyzer='word', binary=False, decode_error='strict',\n",
      "        dtype=<class 'numpy.int64'>, encoding='utf-8', input='content',\n",
      "        lowercase=True, max_df=1.0, max_features=None, min_df=1,\n",
      "        ngram_range=(1, 1), preprocessor=None,\n",
      "        stop_words=['!', '\"', '#', '$', '%', '&', \"'\", '(', ')', '*', '+', ',', '-', '--', '.', '..', '...', '......', '...................', './', '.一', '.数', '.日', '/', '//', '0', '1', '2', '3', '4', '5', '6', '7', '8', '9', ':', '://', '::', ';', '<', '=', '>', '>>', '?', '@', 'A', 'Lex', '[', '\\\\', ']',...'］［', '＿', 'ａ］', 'ｂ］', 'ｃ］', 'ｅ］', 'ｆ］', 'ｎｇ昉', '｛', '｛－', '｜', '｝', '｝＞', '～', '～±', '～＋', '￥', ''],\n",
      "        strip_accents=None, token_pattern='(?u)\\\\b\\\\w\\\\w+\\\\b',\n",
      "        tokenizer=None, vocabulary=None)\n"
     ]
    }
   ],
   "source": [
    "X_train = content_vectorizer(processed_text_set)"
   ]
  },
  {
   "cell_type": "code",
   "execution_count": 79,
   "metadata": {},
   "outputs": [],
   "source": [
    "def content_vectorizer_test(data):\n",
    "    # 载入停用词\n",
    "    # 预料向量化\n",
    "    # 需要使用和训练器相同的矢量器 否则会报错\n",
    "    if not os.path.exists('./data/model/vectorizer_content.m'):\n",
    "        print ('ValueError dimension mismatch')\n",
    "    \n",
    "    vectorizer_content = joblib.load('./data/model/vectorizer_content.m')\n",
    "    x_array = vectorizer_content.transform(data)\n",
    "    #print (x_array[-10:].toarray())\n",
    "    # 计算各个分类内容的 tf-idf值\n",
    "    X = TfidfTransformer().fit_transform(x_array)\n",
    "    print ('content_vectorizer_test')\n",
    "    print (vectorizer_content)\n",
    "    \n",
    "    return X"
   ]
  },
  {
   "cell_type": "code",
   "execution_count": 81,
   "metadata": {},
   "outputs": [
    {
     "name": "stdout",
     "output_type": "stream",
     "text": [
      "content_vectorizer_test\n",
      "CountVectorizer(analyzer='word', binary=False, decode_error='strict',\n",
      "        dtype=<class 'numpy.int64'>, encoding='utf-8', input='content',\n",
      "        lowercase=True, max_df=1.0, max_features=None, min_df=1,\n",
      "        ngram_range=(1, 1), preprocessor=None,\n",
      "        stop_words=['!', '\"', '#', '$', '%', '&', \"'\", '(', ')', '*', '+', ',', '-', '--', '.', '..', '...', '......', '...................', './', '.一', '.数', '.日', '/', '//', '0', '1', '2', '3', '4', '5', '6', '7', '8', '9', ':', '://', '::', ';', '<', '=', '>', '>>', '?', '@', 'A', 'Lex', '[', '\\\\', ']',...'］［', '＿', 'ａ］', 'ｂ］', 'ｃ］', 'ｅ］', 'ｆ］', 'ｎｇ昉', '｛', '｛－', '｜', '｝', '｝＞', '～', '～±', '～＋', '￥', ''],\n",
      "        strip_accents=None, token_pattern='(?u)\\\\b\\\\w\\\\w+\\\\b',\n",
      "        tokenizer=None, vocabulary=None)\n"
     ]
    }
   ],
   "source": [
    "X_test = content_vectorizer_test(test_text_set)"
   ]
  },
  {
   "cell_type": "markdown",
   "metadata": {},
   "source": [
    "### 第四步，训练模型"
   ]
  },
  {
   "cell_type": "code",
   "execution_count": 91,
   "metadata": {},
   "outputs": [],
   "source": [
    "def train():\n",
    "    # 1. 多项式贝叶斯分类器\n",
    "    #from sklearn.naive_bayes import MultinomialNB\n",
    "    #clf = MultinomialNB(alpha=0.001).fit(X_train,Y) # 0.894776841768\n",
    "    \n",
    "    # 2. KNN分类器\n",
    "    #from sklearn.neighbors import KNeighborsClassifier\n",
    "    #clf = KNeighborsClassifier().fit(X_train,Y) # 0.863689150461\n",
    "    \n",
    "    # 3. 随机森林\n",
    "    from sklearn.ensemble import RandomForestClassifier\n",
    "    clf  = RandomForestClassifier(n_estimators = 8) # 0.894776841768\n",
    "    clf.fit(X_train, Y)\n",
    "    \n",
    "    #预测结果\n",
    "    predict_result = clf.predict(X_test)\n",
    "    print (predict_result)\n",
    "    \n",
    "    print('交叉验证结果:')\n",
    "    cross_val_result = cross_val_score(clf,X_train,Y,cv = 10,scoring='accuracy') # 交叉验证\n",
    "    print (cross_val_result)\n",
    "    print('交叉验证平均分:')\n",
    "    print (np.average(cross_val_result)) \n",
    "    # 训练完成，保存分类器\n",
    "    joblib.dump(clf,'./data/model/clf.model')"
   ]
  },
  {
   "cell_type": "code",
   "execution_count": 92,
   "metadata": {},
   "outputs": [
    {
     "name": "stdout",
     "output_type": "stream",
     "text": [
      "['计算机' '计算机' '计算机' '计算机' '计算机' '计算机' '计算机' '计算机' '计算机' '计算机']\n",
      "交叉验证结果:\n",
      "[ 0.81105991  0.82448037  0.80533024  0.80255517  0.8244186   0.82634033\n",
      "  0.82030338  0.80611046  0.81764706  0.81367925]\n",
      "交叉验证平均分:\n",
      "0.815192476637\n"
     ]
    }
   ],
   "source": [
    "train()"
   ]
  },
  {
   "cell_type": "markdown",
   "metadata": {},
   "source": [
    "### 第五步，预测"
   ]
  },
  {
   "cell_type": "code",
   "execution_count": 89,
   "metadata": {
    "collapsed": true
   },
   "outputs": [],
   "source": [
    "def file_tools(path):\n",
    "    content_data = []\n",
    "    with open(path) as f:\n",
    "        content_seg = jieba.cut(f.read())\n",
    "        str_content =' '.join(content_seg)\n",
    "        content_data.append(str_content)\n",
    "    return content_data"
   ]
  },
  {
   "cell_type": "code",
   "execution_count": 90,
   "metadata": {},
   "outputs": [
    {
     "data": {
      "text/plain": [
       "['今日 下午 ， 新一期 中国男足 国家队 的 23 名 队员 在 里 皮 的 带领 下 ， 于 广州 越秀 山 体育场 进行 了 本期 集训 后 的 首堂 训练课 。 里 皮 在 训练 前 接受 采访 时 依然 谈到 了 刚刚 过去 的 世 预赛 的 比赛 ， “ 在 我 接手 球队 后 ， 球队 取得 了 长足 的 进步 ， 尤其 是 在 最后 六场 世 预赛 比赛 中 的 表现 是 可圈可点 的 。 虽然 我们 没有 得到 参加 附加赛 的 机会 ， 但是 球队 正 走 在 正确 的 道路 上 ， 并且 还有 成长 的 空间 ！ ”   \\n \\n \\u3000 \\u3000 当 被 问及 队伍 新老交替 的 问题 ， 里 皮 坦言 ， “ 球队 也 在 逐渐 进行 国家队 年龄 框架 的 调整 和 更新换代 的 节奏 ， 本期 个别 年轻 球员 也 来到 阵中 ， 但是 一些 U22 适龄 国脚 没有 在 本期 集训 中 ， 是 想 考虑 将 他们 带 去 参加 12 月份 东亚 杯 的 比赛 ， 因为 明年 1 月份 这些 球员 又 将 进入 到 亚足联 U23 锦标赛 的 备战 当中 ， 所以 这 期 没有 征召 他们 ， 是 希望 能够 给 他们 一个 休息 和 调整 的 机会 。 ” \\n \\n \\u3000 \\u3000 2017 赛季 中超联赛 已经 落幕 ， 里 皮 在 最后 也 呼吁 全国 的 球迷 们 可以 来到 现场 为 国家队 助威 ， “ 今年 的 联赛 已经 结束 了 ， 无论是 哪家 俱乐部 的 球迷 ， 都 希望 大家 能够 来 支持 国家队 的 比赛 ， 这 两场 比赛 对手 的 实力 都 非常 强 ， 他们 也 都 晋级 了 明年 的 世界杯 ， 我 相信 比赛 届时 会 非常 精彩 ， 也 呼吁 大家 能够 来到 球场 支持 国家队 ， 与 国家队 并肩作战 ， 成为 国家队 最 坚强 的 后盾 。 ”']"
      ]
     },
     "execution_count": 90,
     "metadata": {},
     "output_type": "execute_result"
    }
   ],
   "source": [
    "file_tools('./data/test/test.txt')"
   ]
  },
  {
   "cell_type": "code",
   "execution_count": 93,
   "metadata": {
    "collapsed": true
   },
   "outputs": [],
   "source": [
    "def predict(path):\n",
    "    check_file_data = file_tools(path)\n",
    "    check_file_vectorizer = content_vectorizer_test(check_file_data)\n",
    "    clf = joblib.load('./data/model/clf.model')\n",
    "    predict_result = clf.predict(check_file_vectorizer)\n",
    "    print('------>预测结果<------')\n",
    "    print(predict_result)"
   ]
  },
  {
   "cell_type": "code",
   "execution_count": 95,
   "metadata": {},
   "outputs": [
    {
     "name": "stdout",
     "output_type": "stream",
     "text": [
      "content_vectorizer_test\n",
      "CountVectorizer(analyzer='word', binary=False, decode_error='strict',\n",
      "        dtype=<class 'numpy.int64'>, encoding='utf-8', input='content',\n",
      "        lowercase=True, max_df=1.0, max_features=None, min_df=1,\n",
      "        ngram_range=(1, 1), preprocessor=None,\n",
      "        stop_words=['!', '\"', '#', '$', '%', '&', \"'\", '(', ')', '*', '+', ',', '-', '--', '.', '..', '...', '......', '...................', './', '.一', '.数', '.日', '/', '//', '0', '1', '2', '3', '4', '5', '6', '7', '8', '9', ':', '://', '::', ';', '<', '=', '>', '>>', '?', '@', 'A', 'Lex', '[', '\\\\', ']',...'］［', '＿', 'ａ］', 'ｂ］', 'ｃ］', 'ｅ］', 'ｆ］', 'ｎｇ昉', '｛', '｛－', '｜', '｝', '｝＞', '～', '～±', '～＋', '￥', ''],\n",
      "        strip_accents=None, token_pattern='(?u)\\\\b\\\\w\\\\w+\\\\b',\n",
      "        tokenizer=None, vocabulary=None)\n",
      "------>预测结果<------\n",
      "['体育']\n"
     ]
    }
   ],
   "source": [
    "predict('./data/test/test2.txt')"
   ]
  },
  {
   "cell_type": "code",
   "execution_count": null,
   "metadata": {
    "collapsed": true
   },
   "outputs": [],
   "source": []
  }
 ],
 "metadata": {
  "anaconda-cloud": {},
  "kernelspec": {
   "display_name": "Python 3",
   "language": "python",
   "name": "python3"
  },
  "language_info": {
   "codemirror_mode": {
    "name": "ipython",
    "version": 3
   },
   "file_extension": ".py",
   "mimetype": "text/x-python",
   "name": "python",
   "nbconvert_exporter": "python",
   "pygments_lexer": "ipython3",
   "version": "3.6.2"
  }
 },
 "nbformat": 4,
 "nbformat_minor": 1
}
